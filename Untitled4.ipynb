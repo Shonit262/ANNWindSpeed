{
  "nbformat": 4,
  "nbformat_minor": 0,
  "metadata": {
    "colab": {
      "name": "Untitled4.ipynb",
      "provenance": [],
      "authorship_tag": "ABX9TyM/RceHUcIdmDX+FFfV16FG",
      "include_colab_link": true
    },
    "kernelspec": {
      "name": "python3",
      "display_name": "Python 3"
    },
    "language_info": {
      "name": "python"
    }
  },
  "cells": [
    {
      "cell_type": "markdown",
      "metadata": {
        "id": "view-in-github",
        "colab_type": "text"
      },
      "source": [
        "<a href=\"https://colab.research.google.com/github/Shonit262/ANNWindSpeed/blob/ANN/Untitled4.ipynb\" target=\"_parent\"><img src=\"https://colab.research.google.com/assets/colab-badge.svg\" alt=\"Open In Colab\"/></a>"
      ]
    },
    {
      "cell_type": "code",
      "metadata": {
        "colab": {
          "base_uri": "https://localhost:8080/"
        },
        "id": "31wzvsRE5puB",
        "outputId": "103f5d6d-7459-42dc-8c06-b5684d08d78b"
      },
      "source": [
        "pip install wwo-hist\n"
      ],
      "execution_count": null,
      "outputs": [
        {
          "output_type": "stream",
          "text": [
            "Collecting wwo-hist\n",
            "  Downloading https://files.pythonhosted.org/packages/96/d2/823c1175988a910819a76bab7e01e6ae13b7af4fa2d40bd4fdf9165573e7/wwo_hist-0.0.7-py3-none-any.whl\n",
            "Installing collected packages: wwo-hist\n",
            "Successfully installed wwo-hist-0.0.7\n"
          ],
          "name": "stdout"
        }
      ]
    },
    {
      "cell_type": "code",
      "metadata": {
        "id": "kD9DcRW052gY"
      },
      "source": [
        "from wwo_hist import retrieve_hist_data"
      ],
      "execution_count": null,
      "outputs": []
    },
    {
      "cell_type": "code",
      "metadata": {
        "id": "eyYVohByABKf"
      },
      "source": [
        "import pandas as pd"
      ],
      "execution_count": 2,
      "outputs": []
    },
    {
      "cell_type": "code",
      "metadata": {
        "id": "IsEQqmJyAe_C"
      },
      "source": [
        "data=pd.read_csv('jaisalmer-2.csv',index_col='date_time',parse_dates=True)"
      ],
      "execution_count": 119,
      "outputs": []
    },
    {
      "cell_type": "code",
      "metadata": {
        "id": "dDSLz8ZFXs8T"
      },
      "source": [
        "data=data[(data['windspeedKmph']!=0)]"
      ],
      "execution_count": 4,
      "outputs": []
    },
    {
      "cell_type": "code",
      "metadata": {
        "colab": {
          "base_uri": "https://localhost:8080/"
        },
        "id": "B1G8xZNlAjNk",
        "outputId": "fe8011f2-e303-4200-8ce3-5c134e81cd62"
      },
      "source": [
        "print(data.shape)\n"
      ],
      "execution_count": null,
      "outputs": [
        {
          "output_type": "stream",
          "text": [
            "(17512, 24)\n"
          ],
          "name": "stdout"
        }
      ]
    },
    {
      "cell_type": "code",
      "metadata": {
        "id": "OTVozfHaXsSM"
      },
      "source": [
        ""
      ],
      "execution_count": null,
      "outputs": []
    },
    {
      "cell_type": "code",
      "metadata": {
        "colab": {
          "base_uri": "https://localhost:8080/",
          "height": 235
        },
        "id": "RkVzAqS_LfpU",
        "outputId": "76c5d947-faf8-46f4-e96f-8fa4d93d1315"
      },
      "source": [
        "data.head()"
      ],
      "execution_count": 7,
      "outputs": [
        {
          "output_type": "execute_result",
          "data": {
            "text/html": [
              "<div>\n",
              "<style scoped>\n",
              "    .dataframe tbody tr th:only-of-type {\n",
              "        vertical-align: middle;\n",
              "    }\n",
              "\n",
              "    .dataframe tbody tr th {\n",
              "        vertical-align: top;\n",
              "    }\n",
              "\n",
              "    .dataframe thead th {\n",
              "        text-align: right;\n",
              "    }\n",
              "</style>\n",
              "<table border=\"1\" class=\"dataframe\">\n",
              "  <thead>\n",
              "    <tr style=\"text-align: right;\">\n",
              "      <th></th>\n",
              "      <th>sunHour</th>\n",
              "      <th>DewPointC</th>\n",
              "      <th>cloudcover</th>\n",
              "      <th>humidity</th>\n",
              "      <th>precipMM</th>\n",
              "      <th>pressure</th>\n",
              "      <th>tempC</th>\n",
              "      <th>visibility</th>\n",
              "      <th>windspeedKmph</th>\n",
              "    </tr>\n",
              "    <tr>\n",
              "      <th>date_time</th>\n",
              "      <th></th>\n",
              "      <th></th>\n",
              "      <th></th>\n",
              "      <th></th>\n",
              "      <th></th>\n",
              "      <th></th>\n",
              "      <th></th>\n",
              "      <th></th>\n",
              "      <th></th>\n",
              "    </tr>\n",
              "  </thead>\n",
              "  <tbody>\n",
              "    <tr>\n",
              "      <th>2009-04-01 00:00:00</th>\n",
              "      <td>11.6</td>\n",
              "      <td>7</td>\n",
              "      <td>32</td>\n",
              "      <td>32</td>\n",
              "      <td>0.0</td>\n",
              "      <td>1007</td>\n",
              "      <td>24</td>\n",
              "      <td>10</td>\n",
              "      <td>7</td>\n",
              "    </tr>\n",
              "    <tr>\n",
              "      <th>2009-04-01 06:00:00</th>\n",
              "      <td>11.6</td>\n",
              "      <td>7</td>\n",
              "      <td>7</td>\n",
              "      <td>27</td>\n",
              "      <td>0.0</td>\n",
              "      <td>1009</td>\n",
              "      <td>27</td>\n",
              "      <td>10</td>\n",
              "      <td>9</td>\n",
              "    </tr>\n",
              "    <tr>\n",
              "      <th>2009-04-01 12:00:00</th>\n",
              "      <td>11.6</td>\n",
              "      <td>5</td>\n",
              "      <td>6</td>\n",
              "      <td>14</td>\n",
              "      <td>0.0</td>\n",
              "      <td>1007</td>\n",
              "      <td>37</td>\n",
              "      <td>10</td>\n",
              "      <td>19</td>\n",
              "    </tr>\n",
              "    <tr>\n",
              "      <th>2009-04-01 18:00:00</th>\n",
              "      <td>11.6</td>\n",
              "      <td>5</td>\n",
              "      <td>13</td>\n",
              "      <td>21</td>\n",
              "      <td>0.0</td>\n",
              "      <td>1007</td>\n",
              "      <td>29</td>\n",
              "      <td>10</td>\n",
              "      <td>5</td>\n",
              "    </tr>\n",
              "    <tr>\n",
              "      <th>2009-04-02 00:00:00</th>\n",
              "      <td>11.6</td>\n",
              "      <td>5</td>\n",
              "      <td>20</td>\n",
              "      <td>24</td>\n",
              "      <td>0.0</td>\n",
              "      <td>1006</td>\n",
              "      <td>27</td>\n",
              "      <td>10</td>\n",
              "      <td>13</td>\n",
              "    </tr>\n",
              "  </tbody>\n",
              "</table>\n",
              "</div>"
            ],
            "text/plain": [
              "                     sunHour  DewPointC  ...  visibility  windspeedKmph\n",
              "date_time                                ...                           \n",
              "2009-04-01 00:00:00     11.6          7  ...          10              7\n",
              "2009-04-01 06:00:00     11.6          7  ...          10              9\n",
              "2009-04-01 12:00:00     11.6          5  ...          10             19\n",
              "2009-04-01 18:00:00     11.6          5  ...          10              5\n",
              "2009-04-02 00:00:00     11.6          5  ...          10             13\n",
              "\n",
              "[5 rows x 9 columns]"
            ]
          },
          "metadata": {
            "tags": []
          },
          "execution_count": 7
        }
      ]
    },
    {
      "cell_type": "code",
      "metadata": {
        "colab": {
          "base_uri": "https://localhost:8080/",
          "height": 658
        },
        "id": "7vzDf-P2P6qL",
        "outputId": "c650cfaf-7159-4e83-8c9d-4e89e99c073c"
      },
      "source": [
        "data.corr()"
      ],
      "execution_count": null,
      "outputs": [
        {
          "output_type": "execute_result",
          "data": {
            "text/html": [
              "<div>\n",
              "<style scoped>\n",
              "    .dataframe tbody tr th:only-of-type {\n",
              "        vertical-align: middle;\n",
              "    }\n",
              "\n",
              "    .dataframe tbody tr th {\n",
              "        vertical-align: top;\n",
              "    }\n",
              "\n",
              "    .dataframe thead th {\n",
              "        text-align: right;\n",
              "    }\n",
              "</style>\n",
              "<table border=\"1\" class=\"dataframe\">\n",
              "  <thead>\n",
              "    <tr style=\"text-align: right;\">\n",
              "      <th></th>\n",
              "      <th>maxtempC</th>\n",
              "      <th>mintempC</th>\n",
              "      <th>totalSnow_cm</th>\n",
              "      <th>sunHour</th>\n",
              "      <th>uvIndex</th>\n",
              "      <th>moon_illumination</th>\n",
              "      <th>DewPointC</th>\n",
              "      <th>FeelsLikeC</th>\n",
              "      <th>HeatIndexC</th>\n",
              "      <th>WindChillC</th>\n",
              "      <th>WindGustKmph</th>\n",
              "      <th>cloudcover</th>\n",
              "      <th>humidity</th>\n",
              "      <th>precipMM</th>\n",
              "      <th>pressure</th>\n",
              "      <th>tempC</th>\n",
              "      <th>visibility</th>\n",
              "      <th>winddirDegree</th>\n",
              "      <th>windspeedKmph</th>\n",
              "    </tr>\n",
              "  </thead>\n",
              "  <tbody>\n",
              "    <tr>\n",
              "      <th>maxtempC</th>\n",
              "      <td>1.000000</td>\n",
              "      <td>0.928389</td>\n",
              "      <td>NaN</td>\n",
              "      <td>0.665552</td>\n",
              "      <td>0.964626</td>\n",
              "      <td>-0.016421</td>\n",
              "      <td>0.603253</td>\n",
              "      <td>0.861135</td>\n",
              "      <td>0.859394</td>\n",
              "      <td>0.871741</td>\n",
              "      <td>0.213937</td>\n",
              "      <td>0.054392</td>\n",
              "      <td>0.076318</td>\n",
              "      <td>0.010121</td>\n",
              "      <td>-0.838568</td>\n",
              "      <td>0.871710</td>\n",
              "      <td>-0.000812</td>\n",
              "      <td>0.513174</td>\n",
              "      <td>0.357714</td>\n",
              "    </tr>\n",
              "    <tr>\n",
              "      <th>mintempC</th>\n",
              "      <td>0.928389</td>\n",
              "      <td>1.000000</td>\n",
              "      <td>NaN</td>\n",
              "      <td>0.600190</td>\n",
              "      <td>0.933628</td>\n",
              "      <td>-0.020246</td>\n",
              "      <td>0.731536</td>\n",
              "      <td>0.895907</td>\n",
              "      <td>0.894597</td>\n",
              "      <td>0.880391</td>\n",
              "      <td>0.203843</td>\n",
              "      <td>0.183185</td>\n",
              "      <td>0.213079</td>\n",
              "      <td>0.062368</td>\n",
              "      <td>-0.851485</td>\n",
              "      <td>0.880299</td>\n",
              "      <td>-0.064831</td>\n",
              "      <td>0.474924</td>\n",
              "      <td>0.373023</td>\n",
              "    </tr>\n",
              "    <tr>\n",
              "      <th>totalSnow_cm</th>\n",
              "      <td>NaN</td>\n",
              "      <td>NaN</td>\n",
              "      <td>NaN</td>\n",
              "      <td>NaN</td>\n",
              "      <td>NaN</td>\n",
              "      <td>NaN</td>\n",
              "      <td>NaN</td>\n",
              "      <td>NaN</td>\n",
              "      <td>NaN</td>\n",
              "      <td>NaN</td>\n",
              "      <td>NaN</td>\n",
              "      <td>NaN</td>\n",
              "      <td>NaN</td>\n",
              "      <td>NaN</td>\n",
              "      <td>NaN</td>\n",
              "      <td>NaN</td>\n",
              "      <td>NaN</td>\n",
              "      <td>NaN</td>\n",
              "      <td>NaN</td>\n",
              "    </tr>\n",
              "    <tr>\n",
              "      <th>sunHour</th>\n",
              "      <td>0.665552</td>\n",
              "      <td>0.600190</td>\n",
              "      <td>NaN</td>\n",
              "      <td>1.000000</td>\n",
              "      <td>0.656771</td>\n",
              "      <td>0.002786</td>\n",
              "      <td>0.444191</td>\n",
              "      <td>0.584234</td>\n",
              "      <td>0.587387</td>\n",
              "      <td>0.572974</td>\n",
              "      <td>0.260144</td>\n",
              "      <td>-0.116770</td>\n",
              "      <td>0.096853</td>\n",
              "      <td>-0.042295</td>\n",
              "      <td>-0.631635</td>\n",
              "      <td>0.578068</td>\n",
              "      <td>0.051728</td>\n",
              "      <td>0.359903</td>\n",
              "      <td>0.368901</td>\n",
              "    </tr>\n",
              "    <tr>\n",
              "      <th>uvIndex</th>\n",
              "      <td>0.964626</td>\n",
              "      <td>0.933628</td>\n",
              "      <td>NaN</td>\n",
              "      <td>0.656771</td>\n",
              "      <td>1.000000</td>\n",
              "      <td>-0.017910</td>\n",
              "      <td>0.614857</td>\n",
              "      <td>0.853897</td>\n",
              "      <td>0.852310</td>\n",
              "      <td>0.862922</td>\n",
              "      <td>0.202884</td>\n",
              "      <td>0.034409</td>\n",
              "      <td>0.090422</td>\n",
              "      <td>-0.007391</td>\n",
              "      <td>-0.818671</td>\n",
              "      <td>0.863025</td>\n",
              "      <td>0.020183</td>\n",
              "      <td>0.491858</td>\n",
              "      <td>0.350071</td>\n",
              "    </tr>\n",
              "    <tr>\n",
              "      <th>moon_illumination</th>\n",
              "      <td>-0.016421</td>\n",
              "      <td>-0.020246</td>\n",
              "      <td>NaN</td>\n",
              "      <td>0.002786</td>\n",
              "      <td>-0.017910</td>\n",
              "      <td>1.000000</td>\n",
              "      <td>-0.017733</td>\n",
              "      <td>-0.019911</td>\n",
              "      <td>-0.020744</td>\n",
              "      <td>-0.017281</td>\n",
              "      <td>0.023253</td>\n",
              "      <td>-0.008346</td>\n",
              "      <td>0.000003</td>\n",
              "      <td>0.001311</td>\n",
              "      <td>-0.005245</td>\n",
              "      <td>-0.017666</td>\n",
              "      <td>-0.000606</td>\n",
              "      <td>0.020226</td>\n",
              "      <td>0.022922</td>\n",
              "    </tr>\n",
              "    <tr>\n",
              "      <th>DewPointC</th>\n",
              "      <td>0.603253</td>\n",
              "      <td>0.731536</td>\n",
              "      <td>NaN</td>\n",
              "      <td>0.444191</td>\n",
              "      <td>0.614857</td>\n",
              "      <td>-0.017733</td>\n",
              "      <td>1.000000</td>\n",
              "      <td>0.682805</td>\n",
              "      <td>0.685137</td>\n",
              "      <td>0.564419</td>\n",
              "      <td>0.340906</td>\n",
              "      <td>0.313157</td>\n",
              "      <td>0.747103</td>\n",
              "      <td>0.126199</td>\n",
              "      <td>-0.752158</td>\n",
              "      <td>0.565339</td>\n",
              "      <td>-0.140959</td>\n",
              "      <td>0.310386</td>\n",
              "      <td>0.526848</td>\n",
              "    </tr>\n",
              "    <tr>\n",
              "      <th>FeelsLikeC</th>\n",
              "      <td>0.861135</td>\n",
              "      <td>0.895907</td>\n",
              "      <td>NaN</td>\n",
              "      <td>0.584234</td>\n",
              "      <td>0.853897</td>\n",
              "      <td>-0.019911</td>\n",
              "      <td>0.682805</td>\n",
              "      <td>1.000000</td>\n",
              "      <td>0.999136</td>\n",
              "      <td>0.974456</td>\n",
              "      <td>0.119107</td>\n",
              "      <td>0.189967</td>\n",
              "      <td>0.095267</td>\n",
              "      <td>0.058980</td>\n",
              "      <td>-0.863449</td>\n",
              "      <td>0.974425</td>\n",
              "      <td>-0.061024</td>\n",
              "      <td>0.467586</td>\n",
              "      <td>0.376617</td>\n",
              "    </tr>\n",
              "    <tr>\n",
              "      <th>HeatIndexC</th>\n",
              "      <td>0.859394</td>\n",
              "      <td>0.894597</td>\n",
              "      <td>NaN</td>\n",
              "      <td>0.587387</td>\n",
              "      <td>0.852310</td>\n",
              "      <td>-0.020744</td>\n",
              "      <td>0.685137</td>\n",
              "      <td>0.999136</td>\n",
              "      <td>1.000000</td>\n",
              "      <td>0.971996</td>\n",
              "      <td>0.125069</td>\n",
              "      <td>0.190992</td>\n",
              "      <td>0.099527</td>\n",
              "      <td>0.059127</td>\n",
              "      <td>-0.865443</td>\n",
              "      <td>0.973135</td>\n",
              "      <td>-0.061200</td>\n",
              "      <td>0.465791</td>\n",
              "      <td>0.381185</td>\n",
              "    </tr>\n",
              "    <tr>\n",
              "      <th>WindChillC</th>\n",
              "      <td>0.871741</td>\n",
              "      <td>0.880391</td>\n",
              "      <td>NaN</td>\n",
              "      <td>0.572974</td>\n",
              "      <td>0.862922</td>\n",
              "      <td>-0.017281</td>\n",
              "      <td>0.564419</td>\n",
              "      <td>0.974456</td>\n",
              "      <td>0.971996</td>\n",
              "      <td>1.000000</td>\n",
              "      <td>0.042473</td>\n",
              "      <td>0.118093</td>\n",
              "      <td>-0.069876</td>\n",
              "      <td>0.027229</td>\n",
              "      <td>-0.798367</td>\n",
              "      <td>0.999310</td>\n",
              "      <td>-0.025915</td>\n",
              "      <td>0.480221</td>\n",
              "      <td>0.285677</td>\n",
              "    </tr>\n",
              "    <tr>\n",
              "      <th>WindGustKmph</th>\n",
              "      <td>0.213937</td>\n",
              "      <td>0.203843</td>\n",
              "      <td>NaN</td>\n",
              "      <td>0.260144</td>\n",
              "      <td>0.202884</td>\n",
              "      <td>0.023253</td>\n",
              "      <td>0.340906</td>\n",
              "      <td>0.119107</td>\n",
              "      <td>0.125069</td>\n",
              "      <td>0.042473</td>\n",
              "      <td>1.000000</td>\n",
              "      <td>0.001838</td>\n",
              "      <td>0.386713</td>\n",
              "      <td>0.028991</td>\n",
              "      <td>-0.287272</td>\n",
              "      <td>0.047722</td>\n",
              "      <td>-0.023404</td>\n",
              "      <td>0.083088</td>\n",
              "      <td>0.900374</td>\n",
              "    </tr>\n",
              "    <tr>\n",
              "      <th>cloudcover</th>\n",
              "      <td>0.054392</td>\n",
              "      <td>0.183185</td>\n",
              "      <td>NaN</td>\n",
              "      <td>-0.116770</td>\n",
              "      <td>0.034409</td>\n",
              "      <td>-0.008346</td>\n",
              "      <td>0.313157</td>\n",
              "      <td>0.189967</td>\n",
              "      <td>0.190992</td>\n",
              "      <td>0.118093</td>\n",
              "      <td>0.001838</td>\n",
              "      <td>1.000000</td>\n",
              "      <td>0.305748</td>\n",
              "      <td>0.240062</td>\n",
              "      <td>-0.223086</td>\n",
              "      <td>0.117902</td>\n",
              "      <td>-0.306282</td>\n",
              "      <td>0.006539</td>\n",
              "      <td>0.068175</td>\n",
              "    </tr>\n",
              "    <tr>\n",
              "      <th>humidity</th>\n",
              "      <td>0.076318</td>\n",
              "      <td>0.213079</td>\n",
              "      <td>NaN</td>\n",
              "      <td>0.096853</td>\n",
              "      <td>0.090422</td>\n",
              "      <td>0.000003</td>\n",
              "      <td>0.747103</td>\n",
              "      <td>0.095267</td>\n",
              "      <td>0.099527</td>\n",
              "      <td>-0.069876</td>\n",
              "      <td>0.386713</td>\n",
              "      <td>0.305748</td>\n",
              "      <td>1.000000</td>\n",
              "      <td>0.163332</td>\n",
              "      <td>-0.312979</td>\n",
              "      <td>-0.068713</td>\n",
              "      <td>-0.183176</td>\n",
              "      <td>0.050383</td>\n",
              "      <td>0.445409</td>\n",
              "    </tr>\n",
              "    <tr>\n",
              "      <th>precipMM</th>\n",
              "      <td>0.010121</td>\n",
              "      <td>0.062368</td>\n",
              "      <td>NaN</td>\n",
              "      <td>-0.042295</td>\n",
              "      <td>-0.007391</td>\n",
              "      <td>0.001311</td>\n",
              "      <td>0.126199</td>\n",
              "      <td>0.058980</td>\n",
              "      <td>0.059127</td>\n",
              "      <td>0.027229</td>\n",
              "      <td>0.028991</td>\n",
              "      <td>0.240062</td>\n",
              "      <td>0.163332</td>\n",
              "      <td>1.000000</td>\n",
              "      <td>-0.084932</td>\n",
              "      <td>0.026953</td>\n",
              "      <td>-0.653705</td>\n",
              "      <td>0.006093</td>\n",
              "      <td>0.008574</td>\n",
              "    </tr>\n",
              "    <tr>\n",
              "      <th>pressure</th>\n",
              "      <td>-0.838568</td>\n",
              "      <td>-0.851485</td>\n",
              "      <td>NaN</td>\n",
              "      <td>-0.631635</td>\n",
              "      <td>-0.818671</td>\n",
              "      <td>-0.005245</td>\n",
              "      <td>-0.752158</td>\n",
              "      <td>-0.863449</td>\n",
              "      <td>-0.865443</td>\n",
              "      <td>-0.798367</td>\n",
              "      <td>-0.287272</td>\n",
              "      <td>-0.223086</td>\n",
              "      <td>-0.312979</td>\n",
              "      <td>-0.084932</td>\n",
              "      <td>1.000000</td>\n",
              "      <td>-0.800955</td>\n",
              "      <td>0.092039</td>\n",
              "      <td>-0.477534</td>\n",
              "      <td>-0.471321</td>\n",
              "    </tr>\n",
              "    <tr>\n",
              "      <th>tempC</th>\n",
              "      <td>0.871710</td>\n",
              "      <td>0.880299</td>\n",
              "      <td>NaN</td>\n",
              "      <td>0.578068</td>\n",
              "      <td>0.863025</td>\n",
              "      <td>-0.017666</td>\n",
              "      <td>0.565339</td>\n",
              "      <td>0.974425</td>\n",
              "      <td>0.973135</td>\n",
              "      <td>0.999310</td>\n",
              "      <td>0.047722</td>\n",
              "      <td>0.117902</td>\n",
              "      <td>-0.068713</td>\n",
              "      <td>0.026953</td>\n",
              "      <td>-0.800955</td>\n",
              "      <td>1.000000</td>\n",
              "      <td>-0.025714</td>\n",
              "      <td>0.479656</td>\n",
              "      <td>0.289563</td>\n",
              "    </tr>\n",
              "    <tr>\n",
              "      <th>visibility</th>\n",
              "      <td>-0.000812</td>\n",
              "      <td>-0.064831</td>\n",
              "      <td>NaN</td>\n",
              "      <td>0.051728</td>\n",
              "      <td>0.020183</td>\n",
              "      <td>-0.000606</td>\n",
              "      <td>-0.140959</td>\n",
              "      <td>-0.061024</td>\n",
              "      <td>-0.061200</td>\n",
              "      <td>-0.025915</td>\n",
              "      <td>-0.023404</td>\n",
              "      <td>-0.306282</td>\n",
              "      <td>-0.183176</td>\n",
              "      <td>-0.653705</td>\n",
              "      <td>0.092039</td>\n",
              "      <td>-0.025714</td>\n",
              "      <td>1.000000</td>\n",
              "      <td>-0.009787</td>\n",
              "      <td>-0.016293</td>\n",
              "    </tr>\n",
              "    <tr>\n",
              "      <th>winddirDegree</th>\n",
              "      <td>0.513174</td>\n",
              "      <td>0.474924</td>\n",
              "      <td>NaN</td>\n",
              "      <td>0.359903</td>\n",
              "      <td>0.491858</td>\n",
              "      <td>0.020226</td>\n",
              "      <td>0.310386</td>\n",
              "      <td>0.467586</td>\n",
              "      <td>0.465791</td>\n",
              "      <td>0.480221</td>\n",
              "      <td>0.083088</td>\n",
              "      <td>0.006539</td>\n",
              "      <td>0.050383</td>\n",
              "      <td>0.006093</td>\n",
              "      <td>-0.477534</td>\n",
              "      <td>0.479656</td>\n",
              "      <td>-0.009787</td>\n",
              "      <td>1.000000</td>\n",
              "      <td>0.201528</td>\n",
              "    </tr>\n",
              "    <tr>\n",
              "      <th>windspeedKmph</th>\n",
              "      <td>0.357714</td>\n",
              "      <td>0.373023</td>\n",
              "      <td>NaN</td>\n",
              "      <td>0.368901</td>\n",
              "      <td>0.350071</td>\n",
              "      <td>0.022922</td>\n",
              "      <td>0.526848</td>\n",
              "      <td>0.376617</td>\n",
              "      <td>0.381185</td>\n",
              "      <td>0.285677</td>\n",
              "      <td>0.900374</td>\n",
              "      <td>0.068175</td>\n",
              "      <td>0.445409</td>\n",
              "      <td>0.008574</td>\n",
              "      <td>-0.471321</td>\n",
              "      <td>0.289563</td>\n",
              "      <td>-0.016293</td>\n",
              "      <td>0.201528</td>\n",
              "      <td>1.000000</td>\n",
              "    </tr>\n",
              "  </tbody>\n",
              "</table>\n",
              "</div>"
            ],
            "text/plain": [
              "                   maxtempC  mintempC  ...  winddirDegree  windspeedKmph\n",
              "maxtempC           1.000000  0.928389  ...       0.513174       0.357714\n",
              "mintempC           0.928389  1.000000  ...       0.474924       0.373023\n",
              "totalSnow_cm            NaN       NaN  ...            NaN            NaN\n",
              "sunHour            0.665552  0.600190  ...       0.359903       0.368901\n",
              "uvIndex            0.964626  0.933628  ...       0.491858       0.350071\n",
              "moon_illumination -0.016421 -0.020246  ...       0.020226       0.022922\n",
              "DewPointC          0.603253  0.731536  ...       0.310386       0.526848\n",
              "FeelsLikeC         0.861135  0.895907  ...       0.467586       0.376617\n",
              "HeatIndexC         0.859394  0.894597  ...       0.465791       0.381185\n",
              "WindChillC         0.871741  0.880391  ...       0.480221       0.285677\n",
              "WindGustKmph       0.213937  0.203843  ...       0.083088       0.900374\n",
              "cloudcover         0.054392  0.183185  ...       0.006539       0.068175\n",
              "humidity           0.076318  0.213079  ...       0.050383       0.445409\n",
              "precipMM           0.010121  0.062368  ...       0.006093       0.008574\n",
              "pressure          -0.838568 -0.851485  ...      -0.477534      -0.471321\n",
              "tempC              0.871710  0.880299  ...       0.479656       0.289563\n",
              "visibility        -0.000812 -0.064831  ...      -0.009787      -0.016293\n",
              "winddirDegree      0.513174  0.474924  ...       1.000000       0.201528\n",
              "windspeedKmph      0.357714  0.373023  ...       0.201528       1.000000\n",
              "\n",
              "[19 rows x 19 columns]"
            ]
          },
          "metadata": {
            "tags": []
          },
          "execution_count": 8
        }
      ]
    },
    {
      "cell_type": "code",
      "metadata": {
        "id": "dYMT8tf2N1FE"
      },
      "source": [
        "data.drop(columns=['sunrise','sunset','moonrise','moonset','WindGustKmph','moon_illumination','totalSnow_cm','location','maxtempC','mintempC','uvIndex','HeatIndexC','FeelsLikeC','winddirDegree','WindChillC'],inplace=True)"
      ],
      "execution_count": 120,
      "outputs": []
    },
    {
      "cell_type": "code",
      "metadata": {
        "id": "KaZDUpquaE_f"
      },
      "source": [
        "data=data[(data['windspeedKmph']>10)]"
      ],
      "execution_count": 121,
      "outputs": []
    },
    {
      "cell_type": "code",
      "metadata": {
        "id": "RrNUAe2RpTk-"
      },
      "source": [
        "from scipy import stats\n",
        "import numpy as np\n",
        "z = (stats.zscore(data))"
      ],
      "execution_count": 127,
      "outputs": []
    },
    {
      "cell_type": "code",
      "metadata": {
        "id": "9huwYD-cpgLV"
      },
      "source": [
        " data= data[(z < 3).all(axis=1)]"
      ],
      "execution_count": 124,
      "outputs": []
    },
    {
      "cell_type": "code",
      "metadata": {
        "id": "QhnTZdplpsnd",
        "outputId": "5cb4f1bc-5a57-48ad-d482-61079ca6bfa4",
        "colab": {
          "base_uri": "https://localhost:8080/"
        }
      },
      "source": [
        "print(data.shape)"
      ],
      "execution_count": 125,
      "outputs": [
        {
          "output_type": "stream",
          "text": [
            "(10520, 9)\n"
          ],
          "name": "stdout"
        }
      ]
    },
    {
      "cell_type": "code",
      "metadata": {
        "id": "th0pGDjJplt_"
      },
      "source": [
        " data= data[(z > -3).all(axis=1)]"
      ],
      "execution_count": 128,
      "outputs": []
    },
    {
      "cell_type": "code",
      "metadata": {
        "id": "Dtov3qw9pyuO",
        "outputId": "a7f73774-0278-4ab5-dacf-6e445349d2de",
        "colab": {
          "base_uri": "https://localhost:8080/"
        }
      },
      "source": [
        "print(data.shape)"
      ],
      "execution_count": 129,
      "outputs": [
        {
          "output_type": "stream",
          "text": [
            "(10297, 9)\n"
          ],
          "name": "stdout"
        }
      ]
    },
    {
      "cell_type": "code",
      "metadata": {
        "colab": {
          "base_uri": "https://localhost:8080/"
        },
        "id": "VlroAYsyODPL",
        "outputId": "03736257-2fd5-41d8-9103-3d47a03896bc"
      },
      "source": [
        "data.dtypes"
      ],
      "execution_count": null,
      "outputs": [
        {
          "output_type": "execute_result",
          "data": {
            "text/plain": [
              "maxtempC           int64\n",
              "mintempC           int64\n",
              "sunHour          float64\n",
              "uvIndex            int64\n",
              "DewPointC          int64\n",
              "FeelsLikeC         int64\n",
              "HeatIndexC         int64\n",
              "WindChillC         int64\n",
              "cloudcover         int64\n",
              "humidity           int64\n",
              "precipMM         float64\n",
              "pressure           int64\n",
              "tempC              int64\n",
              "visibility         int64\n",
              "winddirDegree      int64\n",
              "windspeedKmph      int64\n",
              "dtype: object"
            ]
          },
          "metadata": {
            "tags": []
          },
          "execution_count": 11
        }
      ]
    },
    {
      "cell_type": "code",
      "metadata": {
        "colab": {
          "base_uri": "https://localhost:8080/"
        },
        "id": "mbhr4p0cSrgL",
        "outputId": "4287791a-bf46-4c42-9bec-5eea56ccc87a"
      },
      "source": [
        "s = (data.dtypes == 'int64')\n",
        "int_data = list(s[s].index)\n",
        "\n",
        "print(\"integer data type\")\n",
        "print(int_data)\n"
      ],
      "execution_count": 8,
      "outputs": [
        {
          "output_type": "stream",
          "text": [
            "integer data type\n",
            "['DewPointC', 'cloudcover', 'humidity', 'pressure', 'tempC', 'visibility', 'windspeedKmph']\n"
          ],
          "name": "stdout"
        }
      ]
    },
    {
      "cell_type": "code",
      "metadata": {
        "id": "EZFIN4fFTM6M",
        "outputId": "4fbfa081-ba33-47a7-ea64-78343f0b4d83",
        "colab": {
          "base_uri": "https://localhost:8080/"
        }
      },
      "source": [
        "for col in int_data:\n",
        "    data[col]=data[col].astype(float)"
      ],
      "execution_count": 130,
      "outputs": [
        {
          "output_type": "stream",
          "text": [
            "/usr/local/lib/python3.7/dist-packages/ipykernel_launcher.py:2: SettingWithCopyWarning: \n",
            "A value is trying to be set on a copy of a slice from a DataFrame.\n",
            "Try using .loc[row_indexer,col_indexer] = value instead\n",
            "\n",
            "See the caveats in the documentation: https://pandas.pydata.org/pandas-docs/stable/user_guide/indexing.html#returning-a-view-versus-a-copy\n",
            "  \n"
          ],
          "name": "stderr"
        }
      ]
    },
    {
      "cell_type": "code",
      "metadata": {
        "colab": {
          "base_uri": "https://localhost:8080/"
        },
        "id": "k4QS-UQBPSFr",
        "outputId": "59a7146e-14ef-4e72-841a-a2cef3853d18"
      },
      "source": [
        "missing=data.isnull().sum()\n",
        "print(missing[missing>0])"
      ],
      "execution_count": null,
      "outputs": [
        {
          "output_type": "stream",
          "text": [
            "Series([], dtype: int64)\n"
          ],
          "name": "stdout"
        }
      ]
    },
    {
      "cell_type": "code",
      "metadata": {
        "colab": {
          "base_uri": "https://localhost:8080/",
          "height": 328
        },
        "id": "1o6TUclNPbSD",
        "outputId": "11775e6e-d1ff-43bc-fa30-8bc34d63a50e"
      },
      "source": [
        "data.corr()"
      ],
      "execution_count": 10,
      "outputs": [
        {
          "output_type": "execute_result",
          "data": {
            "text/html": [
              "<div>\n",
              "<style scoped>\n",
              "    .dataframe tbody tr th:only-of-type {\n",
              "        vertical-align: middle;\n",
              "    }\n",
              "\n",
              "    .dataframe tbody tr th {\n",
              "        vertical-align: top;\n",
              "    }\n",
              "\n",
              "    .dataframe thead th {\n",
              "        text-align: right;\n",
              "    }\n",
              "</style>\n",
              "<table border=\"1\" class=\"dataframe\">\n",
              "  <thead>\n",
              "    <tr style=\"text-align: right;\">\n",
              "      <th></th>\n",
              "      <th>sunHour</th>\n",
              "      <th>DewPointC</th>\n",
              "      <th>cloudcover</th>\n",
              "      <th>humidity</th>\n",
              "      <th>precipMM</th>\n",
              "      <th>pressure</th>\n",
              "      <th>tempC</th>\n",
              "      <th>visibility</th>\n",
              "      <th>windspeedKmph</th>\n",
              "    </tr>\n",
              "  </thead>\n",
              "  <tbody>\n",
              "    <tr>\n",
              "      <th>sunHour</th>\n",
              "      <td>1.000000</td>\n",
              "      <td>0.444191</td>\n",
              "      <td>-0.116770</td>\n",
              "      <td>0.096853</td>\n",
              "      <td>-0.042295</td>\n",
              "      <td>-0.631635</td>\n",
              "      <td>0.578068</td>\n",
              "      <td>0.051728</td>\n",
              "      <td>0.368901</td>\n",
              "    </tr>\n",
              "    <tr>\n",
              "      <th>DewPointC</th>\n",
              "      <td>0.444191</td>\n",
              "      <td>1.000000</td>\n",
              "      <td>0.313157</td>\n",
              "      <td>0.747103</td>\n",
              "      <td>0.126199</td>\n",
              "      <td>-0.752158</td>\n",
              "      <td>0.565339</td>\n",
              "      <td>-0.140959</td>\n",
              "      <td>0.526848</td>\n",
              "    </tr>\n",
              "    <tr>\n",
              "      <th>cloudcover</th>\n",
              "      <td>-0.116770</td>\n",
              "      <td>0.313157</td>\n",
              "      <td>1.000000</td>\n",
              "      <td>0.305748</td>\n",
              "      <td>0.240062</td>\n",
              "      <td>-0.223086</td>\n",
              "      <td>0.117902</td>\n",
              "      <td>-0.306282</td>\n",
              "      <td>0.068175</td>\n",
              "    </tr>\n",
              "    <tr>\n",
              "      <th>humidity</th>\n",
              "      <td>0.096853</td>\n",
              "      <td>0.747103</td>\n",
              "      <td>0.305748</td>\n",
              "      <td>1.000000</td>\n",
              "      <td>0.163332</td>\n",
              "      <td>-0.312979</td>\n",
              "      <td>-0.068713</td>\n",
              "      <td>-0.183176</td>\n",
              "      <td>0.445409</td>\n",
              "    </tr>\n",
              "    <tr>\n",
              "      <th>precipMM</th>\n",
              "      <td>-0.042295</td>\n",
              "      <td>0.126199</td>\n",
              "      <td>0.240062</td>\n",
              "      <td>0.163332</td>\n",
              "      <td>1.000000</td>\n",
              "      <td>-0.084932</td>\n",
              "      <td>0.026953</td>\n",
              "      <td>-0.653705</td>\n",
              "      <td>0.008574</td>\n",
              "    </tr>\n",
              "    <tr>\n",
              "      <th>pressure</th>\n",
              "      <td>-0.631635</td>\n",
              "      <td>-0.752158</td>\n",
              "      <td>-0.223086</td>\n",
              "      <td>-0.312979</td>\n",
              "      <td>-0.084932</td>\n",
              "      <td>1.000000</td>\n",
              "      <td>-0.800955</td>\n",
              "      <td>0.092039</td>\n",
              "      <td>-0.471321</td>\n",
              "    </tr>\n",
              "    <tr>\n",
              "      <th>tempC</th>\n",
              "      <td>0.578068</td>\n",
              "      <td>0.565339</td>\n",
              "      <td>0.117902</td>\n",
              "      <td>-0.068713</td>\n",
              "      <td>0.026953</td>\n",
              "      <td>-0.800955</td>\n",
              "      <td>1.000000</td>\n",
              "      <td>-0.025714</td>\n",
              "      <td>0.289563</td>\n",
              "    </tr>\n",
              "    <tr>\n",
              "      <th>visibility</th>\n",
              "      <td>0.051728</td>\n",
              "      <td>-0.140959</td>\n",
              "      <td>-0.306282</td>\n",
              "      <td>-0.183176</td>\n",
              "      <td>-0.653705</td>\n",
              "      <td>0.092039</td>\n",
              "      <td>-0.025714</td>\n",
              "      <td>1.000000</td>\n",
              "      <td>-0.016293</td>\n",
              "    </tr>\n",
              "    <tr>\n",
              "      <th>windspeedKmph</th>\n",
              "      <td>0.368901</td>\n",
              "      <td>0.526848</td>\n",
              "      <td>0.068175</td>\n",
              "      <td>0.445409</td>\n",
              "      <td>0.008574</td>\n",
              "      <td>-0.471321</td>\n",
              "      <td>0.289563</td>\n",
              "      <td>-0.016293</td>\n",
              "      <td>1.000000</td>\n",
              "    </tr>\n",
              "  </tbody>\n",
              "</table>\n",
              "</div>"
            ],
            "text/plain": [
              "                sunHour  DewPointC  ...  visibility  windspeedKmph\n",
              "sunHour        1.000000   0.444191  ...    0.051728       0.368901\n",
              "DewPointC      0.444191   1.000000  ...   -0.140959       0.526848\n",
              "cloudcover    -0.116770   0.313157  ...   -0.306282       0.068175\n",
              "humidity       0.096853   0.747103  ...   -0.183176       0.445409\n",
              "precipMM      -0.042295   0.126199  ...   -0.653705       0.008574\n",
              "pressure      -0.631635  -0.752158  ...    0.092039      -0.471321\n",
              "tempC          0.578068   0.565339  ...   -0.025714       0.289563\n",
              "visibility     0.051728  -0.140959  ...    1.000000      -0.016293\n",
              "windspeedKmph  0.368901   0.526848  ...   -0.016293       1.000000\n",
              "\n",
              "[9 rows x 9 columns]"
            ]
          },
          "metadata": {
            "tags": []
          },
          "execution_count": 10
        }
      ]
    },
    {
      "cell_type": "code",
      "metadata": {
        "colab": {
          "base_uri": "https://localhost:8080/",
          "height": 471
        },
        "id": "S2VsEfQnVD0l",
        "outputId": "12e79ca5-7066-4688-b1a9-9f2cccda908e"
      },
      "source": [
        "import matplotlib.pyplot as plt\n",
        "plt.figure(figsize=(35,15))\n",
        "plt.plot(data['windspeedKmph'])\n",
        "plt.xlabel('Year')\n",
        "plt.ylabel('WindSpeed')"
      ],
      "execution_count": 131,
      "outputs": [
        {
          "output_type": "execute_result",
          "data": {
            "text/plain": [
              "Text(0, 0.5, 'WindSpeed')"
            ]
          },
          "metadata": {
            "tags": []
          },
          "execution_count": 131
        },
        {
          "output_type": "display_data",
          "data": {
            "image/png": "[encoded data removed]",
            "text/plain": [
              "<Figure size 2520x1080 with 1 Axes>"
            ]
          },
          "metadata": {
            "tags": [],
            "needs_background": "light"
          }
        }
      ]
    },
    {
      "cell_type": "code",
      "metadata": {
        "id": "gNwtDQJtboFg"
      },
      "source": [
        "X1=data.copy()\n"
      ],
      "execution_count": 132,
      "outputs": []
    },
    {
      "cell_type": "code",
      "metadata": {
        "colab": {
          "base_uri": "https://localhost:8080/"
        },
        "id": "ArB04fxqdR1f",
        "outputId": "01ecab85-ec0c-4c16-81e0-7f3a53209522"
      },
      "source": [
        "print(X1.shape)"
      ],
      "execution_count": 23,
      "outputs": [
        {
          "output_type": "stream",
          "text": [
            "(16550, 9)\n"
          ],
          "name": "stdout"
        }
      ]
    },
    {
      "cell_type": "code",
      "metadata": {
        "id": "WckZGAy5brB5"
      },
      "source": [
        "X1.drop(columns=['windspeedKmph'],inplace=True)\n"
      ],
      "execution_count": 133,
      "outputs": []
    },
    {
      "cell_type": "code",
      "metadata": {
        "colab": {
          "base_uri": "https://localhost:8080/"
        },
        "id": "r4TDxu3yb0Kr",
        "outputId": "76a820fa-dea4-4ac3-94db-4d4ca7d29615"
      },
      "source": [
        "Y1=data['windspeedKmph']\n",
        "print(Y1.shape)\n",
        "print(Y1.head())\n"
      ],
      "execution_count": 134,
      "outputs": [
        {
          "output_type": "stream",
          "text": [
            "(10297,)\n",
            "date_time\n",
            "2009-04-01 12:00:00    19.0\n",
            "2009-04-02 00:00:00    13.0\n",
            "2009-04-02 06:00:00    19.0\n",
            "2009-04-02 12:00:00    20.0\n",
            "2009-04-02 18:00:00    11.0\n",
            "Name: windspeedKmph, dtype: float64\n"
          ],
          "name": "stdout"
        }
      ]
    },
    {
      "cell_type": "code",
      "metadata": {
        "id": "AQ2_rJUtexSa"
      },
      "source": [
        "import numpy as np"
      ],
      "execution_count": null,
      "outputs": []
    },
    {
      "cell_type": "code",
      "metadata": {
        "id": "f5B5U03lq1gq"
      },
      "source": [
        "Y=np.array(Y1)"
      ],
      "execution_count": 135,
      "outputs": []
    },
    {
      "cell_type": "code",
      "metadata": {
        "id": "wJ6GqL5grAhd"
      },
      "source": [
        "Y1=Y.reshape(-1,1)"
      ],
      "execution_count": 136,
      "outputs": []
    },
    {
      "cell_type": "code",
      "metadata": {
        "id": "P_jwSdjWFR22",
        "colab": {
          "base_uri": "https://localhost:8080/"
        },
        "outputId": "dd2cee6d-c271-4622-eb84-5ff97c104565"
      },
      "source": [
        "print(Y1.shape)"
      ],
      "execution_count": 49,
      "outputs": [
        {
          "output_type": "stream",
          "text": [
            "(16550, 1)\n"
          ],
          "name": "stdout"
        }
      ]
    },
    {
      "cell_type": "code",
      "metadata": {
        "id": "AMBKWfaCb8xM"
      },
      "source": [
        "from sklearn.metrics import mean_absolute_error"
      ],
      "execution_count": 37,
      "outputs": []
    },
    {
      "cell_type": "code",
      "metadata": {
        "id": "ONe-SY96cBP-"
      },
      "source": [
        "def MAPE(Y_actual,Y_Predicted):\n",
        "    mape = np.mean(np.abs((Y_actual - Y_Predicted)/Y_actual))*100\n",
        "    return mape"
      ],
      "execution_count": 38,
      "outputs": []
    },
    {
      "cell_type": "code",
      "metadata": {
        "id": "xMJsObC7kjcd"
      },
      "source": [
        "from sklearn.model_selection import train_test_split"
      ],
      "execution_count": 40,
      "outputs": []
    },
    {
      "cell_type": "code",
      "metadata": {
        "colab": {
          "base_uri": "https://localhost:8080/"
        },
        "id": "4fSyARFccDk2",
        "outputId": "b565eb5a-8aec-448e-f207-82513eccba36"
      },
      "source": [
        "X_train,X_test,Y_train,Y_test=train_test_split(X1,Y1,test_size=.05,random_state=42)\n",
        "print(X_test.shape)"
      ],
      "execution_count": 137,
      "outputs": [
        {
          "output_type": "stream",
          "text": [
            "(515, 8)\n"
          ],
          "name": "stdout"
        }
      ]
    },
    {
      "cell_type": "code",
      "metadata": {
        "id": "pe36S5xUqnTE"
      },
      "source": [
        "\n",
        "from sklearn.preprocessing import StandardScaler\n",
        "# load data\n",
        "# create scaler\n",
        "scaler = StandardScaler()\n",
        "# fit scaler on data\n",
        "# apply transform\n",
        "X_train= (scaler.fit_transform(X_train))"
      ],
      "execution_count": 138,
      "outputs": []
    },
    {
      "cell_type": "code",
      "metadata": {
        "id": "RpR_7iAyqt0Q"
      },
      "source": [
        "\n",
        "from sklearn.preprocessing import StandardScaler\n",
        "# load data\n",
        "# create scaler\n",
        "scaler = StandardScaler()\n",
        "# fit scaler on data\n",
        "\n",
        "# apply transform\n",
        "Y_train= (scaler.fit_transform(Y_train))"
      ],
      "execution_count": 58,
      "outputs": []
    },
    {
      "cell_type": "code",
      "metadata": {
        "id": "DZYw03-XrXUU"
      },
      "source": [
        ""
      ],
      "execution_count": null,
      "outputs": []
    },
    {
      "cell_type": "code",
      "metadata": {
        "id": "BdQ1auKxklyE"
      },
      "source": [
        "from tensorflow import keras\n",
        "from tensorflow.keras import layers\n",
        "from keras.models import Sequential\n",
        "from keras.layers import Dense\n",
        "\n",
        "model = keras.Sequential([layers.BatchNormalization(input_shape=[8]),\n",
        "    layers.Dense(1024, activation='relu', input_shape=[8]),\n",
        "    layers.Dropout(0.3),\n",
        "    layers.BatchNormalization(),\n",
        "    layers.Dense(512, activation='relu'),\n",
        "    layers.Dropout(0.3),\n",
        "    layers.BatchNormalization(),\n",
        "    layers.Dense(512, activation='relu'),\n",
        "    layers.Dropout(0.3),\n",
        "    layers.BatchNormalization(),\n",
        "    layers.Dense(1),\n",
        "])\n"
      ],
      "execution_count": 139,
      "outputs": []
    },
    {
      "cell_type": "code",
      "metadata": {
        "id": "V7ogoRwkrr6e",
        "outputId": "82bd20bd-a818-4235-ecdf-c9f90c36baf0",
        "colab": {
          "base_uri": "https://localhost:8080/",
          "height": 164
        }
      },
      "source": [
        ""
      ],
      "execution_count": 61,
      "outputs": [
        {
          "output_type": "error",
          "ename": "NameError",
          "evalue": "ignored",
          "traceback": [
            "\u001b[0;31m---------------------------------------------------------------------------\u001b[0m",
            "\u001b[0;31mNameError\u001b[0m                                 Traceback (most recent call last)",
            "\u001b[0;32m<ipython-input-61-f26ac015d23f>\u001b[0m in \u001b[0;36m<module>\u001b[0;34m()\u001b[0m\n\u001b[0;32m----> 1\u001b[0;31m \u001b[0mtrain_LM\u001b[0m\u001b[0;34m(\u001b[0m\u001b[0;34m)\u001b[0m\u001b[0;34m\u001b[0m\u001b[0;34m\u001b[0m\u001b[0m\n\u001b[0m",
            "\u001b[0;31mNameError\u001b[0m: name 'train_LM' is not defined"
          ]
        }
      ]
    },
    {
      "cell_type": "code",
      "metadata": {
        "id": "dp894s-Xk6aR"
      },
      "source": [
        "from tensorflow.keras.callbacks import EarlyStopping\n",
        "\n",
        "early_stopping = EarlyStopping(\n",
        "    min_delta=0.001, # minimium amount of change to count as an improvement\n",
        "    patience=20, # how many epochs to wait before stopping\n",
        "    restore_best_weights=True,\n",
        ")"
      ],
      "execution_count": 140,
      "outputs": []
    },
    {
      "cell_type": "code",
      "metadata": {
        "id": "TAIcWszpk-xB"
      },
      "source": [
        "model.compile(optimizer='adam',loss='mae')\n"
      ],
      "execution_count": 141,
      "outputs": []
    },
    {
      "cell_type": "code",
      "metadata": {
        "colab": {
          "base_uri": "https://localhost:8080/"
        },
        "id": "koN_RLKQlAGz",
        "outputId": "276f40b8-b66d-48da-a9a3-e0ea0a281b20"
      },
      "source": [
        "h=model.fit(X_train, Y_train,validation_split=0.2,batch_size=32,epochs=100,verbose=1,callbacks=[early_stopping])"
      ],
      "execution_count": 142,
      "outputs": [
        {
          "output_type": "stream",
          "text": [
            "Epoch 1/100\n",
            "245/245 [==============================] - 5s 14ms/step - loss: 14.2946 - val_loss: 4.6090\n",
            "Epoch 2/100\n",
            "245/245 [==============================] - 3s 13ms/step - loss: 4.7942 - val_loss: 4.1223\n",
            "Epoch 3/100\n",
            "245/245 [==============================] - 3s 13ms/step - loss: 4.6652 - val_loss: 4.0282\n",
            "Epoch 4/100\n",
            "245/245 [==============================] - 3s 13ms/step - loss: 4.5563 - val_loss: 4.0576\n",
            "Epoch 5/100\n",
            "245/245 [==============================] - 3s 13ms/step - loss: 4.4186 - val_loss: 3.9751\n",
            "Epoch 6/100\n",
            "245/245 [==============================] - 3s 13ms/step - loss: 4.4121 - val_loss: 3.9628\n",
            "Epoch 7/100\n",
            "245/245 [==============================] - 3s 13ms/step - loss: 4.2632 - val_loss: 4.0246\n",
            "Epoch 8/100\n",
            "245/245 [==============================] - 3s 13ms/step - loss: 4.3170 - val_loss: 3.9782\n",
            "Epoch 9/100\n",
            "245/245 [==============================] - 3s 13ms/step - loss: 4.2296 - val_loss: 4.0988\n",
            "Epoch 10/100\n",
            "245/245 [==============================] - 3s 13ms/step - loss: 4.1422 - val_loss: 3.9766\n",
            "Epoch 11/100\n",
            "245/245 [==============================] - 3s 13ms/step - loss: 4.0944 - val_loss: 4.0061\n",
            "Epoch 12/100\n",
            "245/245 [==============================] - 3s 13ms/step - loss: 4.1370 - val_loss: 3.9376\n",
            "Epoch 13/100\n",
            "245/245 [==============================] - 3s 13ms/step - loss: 4.1194 - val_loss: 4.0334\n",
            "Epoch 14/100\n",
            "245/245 [==============================] - 3s 13ms/step - loss: 4.0649 - val_loss: 4.0186\n",
            "Epoch 15/100\n",
            "245/245 [==============================] - 3s 13ms/step - loss: 4.0751 - val_loss: 3.9113\n",
            "Epoch 16/100\n",
            "245/245 [==============================] - 3s 13ms/step - loss: 4.0349 - val_loss: 3.8957\n",
            "Epoch 17/100\n",
            "245/245 [==============================] - 3s 13ms/step - loss: 3.9982 - val_loss: 4.0426\n",
            "Epoch 18/100\n",
            "245/245 [==============================] - 3s 13ms/step - loss: 4.0459 - val_loss: 4.0577\n",
            "Epoch 19/100\n",
            "245/245 [==============================] - 3s 13ms/step - loss: 4.1048 - val_loss: 3.9499\n",
            "Epoch 20/100\n",
            "245/245 [==============================] - 3s 13ms/step - loss: 4.0309 - val_loss: 3.9821\n",
            "Epoch 21/100\n",
            "245/245 [==============================] - 3s 13ms/step - loss: 4.0117 - val_loss: 3.8980\n",
            "Epoch 22/100\n",
            "245/245 [==============================] - 3s 13ms/step - loss: 4.0397 - val_loss: 3.9146\n",
            "Epoch 23/100\n",
            "245/245 [==============================] - 3s 13ms/step - loss: 4.0792 - val_loss: 3.9349\n",
            "Epoch 24/100\n",
            "245/245 [==============================] - 3s 13ms/step - loss: 4.0700 - val_loss: 3.9200\n",
            "Epoch 25/100\n",
            "245/245 [==============================] - 3s 13ms/step - loss: 4.0659 - val_loss: 3.9290\n",
            "Epoch 26/100\n",
            "245/245 [==============================] - 3s 13ms/step - loss: 3.9085 - val_loss: 3.9644\n",
            "Epoch 27/100\n",
            "245/245 [==============================] - 3s 13ms/step - loss: 3.8814 - val_loss: 3.8890\n",
            "Epoch 28/100\n",
            "245/245 [==============================] - 3s 13ms/step - loss: 3.9723 - val_loss: 3.8658\n",
            "Epoch 29/100\n",
            "245/245 [==============================] - 3s 13ms/step - loss: 3.9921 - val_loss: 3.8708\n",
            "Epoch 30/100\n",
            "245/245 [==============================] - 3s 13ms/step - loss: 3.9196 - val_loss: 3.9169\n",
            "Epoch 31/100\n",
            "245/245 [==============================] - 3s 13ms/step - loss: 3.9117 - val_loss: 3.9478\n",
            "Epoch 32/100\n",
            "245/245 [==============================] - 3s 13ms/step - loss: 4.0011 - val_loss: 3.9556\n",
            "Epoch 33/100\n",
            "245/245 [==============================] - 3s 13ms/step - loss: 3.9846 - val_loss: 3.9009\n",
            "Epoch 34/100\n",
            "245/245 [==============================] - 3s 13ms/step - loss: 4.0737 - val_loss: 3.8729\n",
            "Epoch 35/100\n",
            "245/245 [==============================] - 3s 13ms/step - loss: 3.9808 - val_loss: 3.8705\n",
            "Epoch 36/100\n",
            "245/245 [==============================] - 3s 13ms/step - loss: 3.8978 - val_loss: 3.9555\n",
            "Epoch 37/100\n",
            "245/245 [==============================] - 3s 13ms/step - loss: 3.9842 - val_loss: 3.9974\n",
            "Epoch 38/100\n",
            "245/245 [==============================] - 3s 13ms/step - loss: 4.0493 - val_loss: 3.8645\n",
            "Epoch 39/100\n",
            "245/245 [==============================] - 3s 13ms/step - loss: 3.9625 - val_loss: 3.9039\n",
            "Epoch 40/100\n",
            "245/245 [==============================] - 3s 13ms/step - loss: 3.9143 - val_loss: 3.8951\n",
            "Epoch 41/100\n",
            "245/245 [==============================] - 3s 13ms/step - loss: 3.9721 - val_loss: 3.9191\n",
            "Epoch 42/100\n",
            "245/245 [==============================] - 3s 13ms/step - loss: 3.9970 - val_loss: 3.8912\n",
            "Epoch 43/100\n",
            "245/245 [==============================] - 3s 13ms/step - loss: 3.8796 - val_loss: 3.8429\n",
            "Epoch 44/100\n",
            "245/245 [==============================] - 3s 13ms/step - loss: 3.8788 - val_loss: 3.8862\n",
            "Epoch 45/100\n",
            "245/245 [==============================] - 3s 13ms/step - loss: 3.9825 - val_loss: 3.8325\n",
            "Epoch 46/100\n",
            "245/245 [==============================] - 3s 13ms/step - loss: 4.0176 - val_loss: 3.9914\n",
            "Epoch 47/100\n",
            "245/245 [==============================] - 3s 13ms/step - loss: 3.9357 - val_loss: 3.8856\n",
            "Epoch 48/100\n",
            "245/245 [==============================] - 3s 13ms/step - loss: 3.9475 - val_loss: 3.8583\n",
            "Epoch 49/100\n",
            "245/245 [==============================] - 3s 13ms/step - loss: 3.9060 - val_loss: 3.8520\n",
            "Epoch 50/100\n",
            "245/245 [==============================] - 3s 13ms/step - loss: 3.9897 - val_loss: 3.8629\n",
            "Epoch 51/100\n",
            "245/245 [==============================] - 3s 13ms/step - loss: 3.8564 - val_loss: 3.8729\n",
            "Epoch 52/100\n",
            "245/245 [==============================] - 3s 13ms/step - loss: 3.9843 - val_loss: 3.8927\n",
            "Epoch 53/100\n",
            "245/245 [==============================] - 3s 13ms/step - loss: 3.9697 - val_loss: 3.8364\n",
            "Epoch 54/100\n",
            "245/245 [==============================] - 3s 13ms/step - loss: 3.9035 - val_loss: 3.8488\n",
            "Epoch 55/100\n",
            "245/245 [==============================] - 3s 13ms/step - loss: 3.8533 - val_loss: 3.8799\n",
            "Epoch 56/100\n",
            "245/245 [==============================] - 3s 13ms/step - loss: 3.8692 - val_loss: 3.8837\n",
            "Epoch 57/100\n",
            "245/245 [==============================] - 3s 13ms/step - loss: 3.8294 - val_loss: 3.9087\n",
            "Epoch 58/100\n",
            "245/245 [==============================] - 3s 13ms/step - loss: 3.9028 - val_loss: 3.8299\n",
            "Epoch 59/100\n",
            "245/245 [==============================] - 3s 13ms/step - loss: 3.8416 - val_loss: 3.8654\n",
            "Epoch 60/100\n",
            "245/245 [==============================] - 3s 13ms/step - loss: 3.9341 - val_loss: 3.8355\n",
            "Epoch 61/100\n",
            "245/245 [==============================] - 3s 13ms/step - loss: 4.0095 - val_loss: 3.9283\n",
            "Epoch 62/100\n",
            "245/245 [==============================] - 3s 13ms/step - loss: 3.9448 - val_loss: 3.8488\n",
            "Epoch 63/100\n",
            "245/245 [==============================] - 3s 13ms/step - loss: 3.8975 - val_loss: 3.8313\n",
            "Epoch 64/100\n",
            "245/245 [==============================] - 3s 13ms/step - loss: 3.9628 - val_loss: 3.8757\n",
            "Epoch 65/100\n",
            "245/245 [==============================] - 3s 13ms/step - loss: 3.8866 - val_loss: 3.8249\n",
            "Epoch 66/100\n",
            "245/245 [==============================] - 3s 13ms/step - loss: 3.8428 - val_loss: 3.8337\n",
            "Epoch 67/100\n",
            "245/245 [==============================] - 3s 13ms/step - loss: 3.9112 - val_loss: 3.8636\n",
            "Epoch 68/100\n",
            "245/245 [==============================] - 3s 13ms/step - loss: 3.8421 - val_loss: 3.8656\n",
            "Epoch 69/100\n",
            "245/245 [==============================] - 3s 13ms/step - loss: 3.8537 - val_loss: 3.8698\n",
            "Epoch 70/100\n",
            "245/245 [==============================] - 3s 13ms/step - loss: 3.9180 - val_loss: 3.8505\n",
            "Epoch 71/100\n",
            "245/245 [==============================] - 3s 13ms/step - loss: 3.8665 - val_loss: 3.8792\n",
            "Epoch 72/100\n",
            "245/245 [==============================] - 3s 13ms/step - loss: 3.9341 - val_loss: 3.8713\n",
            "Epoch 73/100\n",
            "245/245 [==============================] - 3s 13ms/step - loss: 3.8465 - val_loss: 3.8934\n",
            "Epoch 74/100\n",
            "245/245 [==============================] - 3s 13ms/step - loss: 3.9108 - val_loss: 3.8366\n",
            "Epoch 75/100\n",
            "245/245 [==============================] - 3s 13ms/step - loss: 3.8756 - val_loss: 3.8451\n",
            "Epoch 76/100\n",
            "245/245 [==============================] - 3s 13ms/step - loss: 3.8983 - val_loss: 3.8428\n",
            "Epoch 77/100\n",
            "245/245 [==============================] - 3s 13ms/step - loss: 3.7889 - val_loss: 3.8227\n",
            "Epoch 78/100\n",
            "245/245 [==============================] - 3s 13ms/step - loss: 3.9105 - val_loss: 3.8490\n",
            "Epoch 79/100\n",
            "245/245 [==============================] - 3s 13ms/step - loss: 3.9232 - val_loss: 3.8415\n",
            "Epoch 80/100\n",
            "245/245 [==============================] - 3s 13ms/step - loss: 3.8802 - val_loss: 3.8514\n",
            "Epoch 81/100\n",
            "245/245 [==============================] - 3s 13ms/step - loss: 3.9057 - val_loss: 3.8321\n",
            "Epoch 82/100\n",
            "245/245 [==============================] - 3s 13ms/step - loss: 3.9296 - val_loss: 3.8949\n",
            "Epoch 83/100\n",
            "245/245 [==============================] - 3s 13ms/step - loss: 3.8244 - val_loss: 3.8530\n",
            "Epoch 84/100\n",
            "245/245 [==============================] - 3s 13ms/step - loss: 3.9208 - val_loss: 3.8305\n",
            "Epoch 85/100\n",
            "245/245 [==============================] - 3s 13ms/step - loss: 3.8936 - val_loss: 3.8637\n",
            "Epoch 86/100\n",
            "245/245 [==============================] - 3s 13ms/step - loss: 3.7997 - val_loss: 3.8310\n",
            "Epoch 87/100\n",
            "245/245 [==============================] - 3s 13ms/step - loss: 3.8882 - val_loss: 3.8501\n",
            "Epoch 88/100\n",
            "245/245 [==============================] - 3s 13ms/step - loss: 3.8625 - val_loss: 3.8847\n",
            "Epoch 89/100\n",
            "245/245 [==============================] - 3s 13ms/step - loss: 3.8582 - val_loss: 3.8895\n",
            "Epoch 90/100\n",
            "245/245 [==============================] - 3s 13ms/step - loss: 3.8665 - val_loss: 3.9036\n",
            "Epoch 91/100\n",
            "245/245 [==============================] - 3s 13ms/step - loss: 3.8239 - val_loss: 3.8348\n",
            "Epoch 92/100\n",
            "245/245 [==============================] - 3s 13ms/step - loss: 3.8625 - val_loss: 3.8343\n",
            "Epoch 93/100\n",
            "245/245 [==============================] - 3s 13ms/step - loss: 3.8438 - val_loss: 3.8467\n",
            "Epoch 94/100\n",
            "245/245 [==============================] - 3s 13ms/step - loss: 3.8367 - val_loss: 3.8276\n",
            "Epoch 95/100\n",
            "245/245 [==============================] - 3s 13ms/step - loss: 3.8822 - val_loss: 3.8284\n",
            "Epoch 96/100\n",
            "245/245 [==============================] - 3s 13ms/step - loss: 3.8641 - val_loss: 3.8270\n",
            "Epoch 97/100\n",
            "245/245 [==============================] - 3s 13ms/step - loss: 3.8222 - val_loss: 3.8290\n"
          ],
          "name": "stdout"
        }
      ]
    },
    {
      "cell_type": "code",
      "metadata": {
        "colab": {
          "base_uri": "https://localhost:8080/",
          "height": 269
        },
        "id": "H-31BsGTpIdO",
        "outputId": "8aa76fcb-c89a-4dc5-f5f3-4a2c2ea67311"
      },
      "source": [
        "import matplotlib.pyplot as plt\n",
        "%matplotlib inline\n",
        "\n",
        "ans=pd.DataFrame(h.history)\n",
        "ans.loc[:,['loss','val_loss']].plot();"
      ],
      "execution_count": 143,
      "outputs": [
        {
          "output_type": "display_data",
          "data": {
            "image/png": "[encoded data removed]",
            "text/plain": [
              "<Figure size 432x288 with 1 Axes>"
            ]
          },
          "metadata": {
            "tags": [],
            "needs_background": "light"
          }
        }
      ]
    },
    {
      "cell_type": "code",
      "metadata": {
        "id": "3VxZ6dYYsKpG"
      },
      "source": [
        "\n",
        "from sklearn.preprocessing import StandardScaler\n",
        "# load data\n",
        "# create scaler\n",
        "scaler = StandardScaler()\n",
        "# fit scaler on data\n",
        "# apply transform\n",
        "X_test= (scaler.fit_transform(X_test))"
      ],
      "execution_count": 144,
      "outputs": []
    },
    {
      "cell_type": "code",
      "metadata": {
        "colab": {
          "base_uri": "https://localhost:8080/"
        },
        "id": "qYtnogObp-9d",
        "outputId": "ddd98313-beb7-46ed-b4bb-8f73e1fd0189"
      },
      "source": [
        "Predictions=model.predict(X_test)\n",
        "print(X_test.shape)"
      ],
      "execution_count": 145,
      "outputs": [
        {
          "output_type": "stream",
          "text": [
            "(515, 8)\n"
          ],
          "name": "stdout"
        }
      ]
    },
    {
      "cell_type": "code",
      "metadata": {
        "colab": {
          "base_uri": "https://localhost:8080/"
        },
        "id": "3MZ76-p1qsHY",
        "outputId": "20dbb4d8-8cac-48a2-da59-d70b10b1670c"
      },
      "source": [
        "print(Predictions.shape)\n"
      ],
      "execution_count": 146,
      "outputs": [
        {
          "output_type": "stream",
          "text": [
            "(515, 1)\n"
          ],
          "name": "stdout"
        }
      ]
    },
    {
      "cell_type": "code",
      "metadata": {
        "colab": {
          "base_uri": "https://localhost:8080/"
        },
        "id": "JKOVcFeKqKu1",
        "outputId": "85a73a77-47d7-4bef-f8ea-d5efcb80b208"
      },
      "source": [
        "print(mean_absolute_error(Predictions,Y_test))\n"
      ],
      "execution_count": 147,
      "outputs": [
        {
          "output_type": "stream",
          "text": [
            "3.7549216964869823\n"
          ],
          "name": "stdout"
        }
      ]
    },
    {
      "cell_type": "code",
      "metadata": {
        "colab": {
          "base_uri": "https://localhost:8080/"
        },
        "id": "dKMjY_NsqT-F",
        "outputId": "3e834c57-5b67-4a75-cadc-d4dc83aeb84b"
      },
      "source": [
        "print(MAPE(Y_test,Predictions))"
      ],
      "execution_count": 148,
      "outputs": [
        {
          "output_type": "stream",
          "text": [
            "20.30131642669387\n"
          ],
          "name": "stdout"
        }
      ]
    },
    {
      "cell_type": "code",
      "metadata": {
        "colab": {
          "base_uri": "https://localhost:8080/",
          "height": 215
        },
        "id": "5v6DhrpkcM5n",
        "outputId": "08ae71a6-69bd-4602-df52-c8b908bb04cd"
      },
      "source": [
        "plt.plot(Y_test[:300],label='actual')\n",
        "plt.plot(Predictions[:300],label='Predicted')\n",
        "plt.legend()\n",
        "plt.show()"
      ],
      "execution_count": 1,
      "outputs": [
        {
          "output_type": "error",
          "ename": "NameError",
          "evalue": "ignored",
          "traceback": [
            "\u001b[0;31m---------------------------------------------------------------------------\u001b[0m",
            "\u001b[0;31mNameError\u001b[0m                                 Traceback (most recent call last)",
            "\u001b[0;32m<ipython-input-1-317fcffaa3a1>\u001b[0m in \u001b[0;36m<module>\u001b[0;34m()\u001b[0m\n\u001b[0;32m----> 1\u001b[0;31m \u001b[0mplt\u001b[0m\u001b[0;34m.\u001b[0m\u001b[0mplot\u001b[0m\u001b[0;34m(\u001b[0m\u001b[0mY_test\u001b[0m\u001b[0;34m[\u001b[0m\u001b[0;34m:\u001b[0m\u001b[0;36m300\u001b[0m\u001b[0;34m]\u001b[0m\u001b[0;34m,\u001b[0m\u001b[0mlabel\u001b[0m\u001b[0;34m=\u001b[0m\u001b[0;34m'actual'\u001b[0m\u001b[0;34m)\u001b[0m\u001b[0;34m\u001b[0m\u001b[0;34m\u001b[0m\u001b[0m\n\u001b[0m\u001b[1;32m      2\u001b[0m \u001b[0mplt\u001b[0m\u001b[0;34m.\u001b[0m\u001b[0mplot\u001b[0m\u001b[0;34m(\u001b[0m\u001b[0mPredictions\u001b[0m\u001b[0;34m[\u001b[0m\u001b[0;34m:\u001b[0m\u001b[0;36m300\u001b[0m\u001b[0;34m]\u001b[0m\u001b[0;34m,\u001b[0m\u001b[0mlabel\u001b[0m\u001b[0;34m=\u001b[0m\u001b[0;34m'Predicted'\u001b[0m\u001b[0;34m)\u001b[0m\u001b[0;34m\u001b[0m\u001b[0;34m\u001b[0m\u001b[0m\n\u001b[1;32m      3\u001b[0m \u001b[0mplt\u001b[0m\u001b[0;34m.\u001b[0m\u001b[0mlegend\u001b[0m\u001b[0;34m(\u001b[0m\u001b[0;34m)\u001b[0m\u001b[0;34m\u001b[0m\u001b[0;34m\u001b[0m\u001b[0m\n\u001b[1;32m      4\u001b[0m \u001b[0mplt\u001b[0m\u001b[0;34m.\u001b[0m\u001b[0mshow\u001b[0m\u001b[0;34m(\u001b[0m\u001b[0;34m)\u001b[0m\u001b[0;34m\u001b[0m\u001b[0;34m\u001b[0m\u001b[0m\n",
            "\u001b[0;31mNameError\u001b[0m: name 'plt' is not defined"
          ]
        }
      ]
    },
    {
      "cell_type": "code",
      "metadata": {
        "id": "ICJx_wl9tTSR",
        "outputId": "81887861-8f27-4646-9bbd-2829e485e94d",
        "colab": {
          "base_uri": "https://localhost:8080/"
        }
      },
      "source": [
        "pip install --index-url https://test.pypi.org/simple/ LM\n"
      ],
      "execution_count": 87,
      "outputs": [
        {
          "output_type": "stream",
          "text": [
            "Looking in indexes: https://test.pypi.org/simple/\n",
            "Collecting LM\n",
            "  Downloading https://test-files.pythonhosted.org/packages/26/d5/19bf76bafbbe46077603eaea87ed02c9a6597f54cbe3f83bf1175c8d94e7/LM-0.1.5-py3-none-any.whl\n",
            "Installing collected packages: LM\n",
            "Successfully installed LM-0.1.5\n"
          ],
          "name": "stdout"
        }
      ]
    },
    {
      "cell_type": "code",
      "metadata": {
        "id": "jlkF1nmNtZ57"
      },
      "source": [
        "import LM"
      ],
      "execution_count": 88,
      "outputs": []
    },
    {
      "cell_type": "code",
      "metadata": {
        "id": "u_y675iJteNC"
      },
      "source": [
        "structure = [8, 5, 1]\n",
        "nn = LM.NN(structure)\n"
      ],
      "execution_count": 91,
      "outputs": []
    },
    {
      "cell_type": "code",
      "metadata": {
        "id": "m5GXiMf5thwu",
        "outputId": "7d8e767f-1a26-4187-f63c-e8c030b6f724",
        "colab": {
          "base_uri": "https://localhost:8080/"
        }
      },
      "source": [
        "nn.train_lm(X_train, Y_train)"
      ],
      "execution_count": 92,
      "outputs": [
        {
          "output_type": "execute_result",
          "data": {
            "text/plain": [
              "([array([[  7.39559234,  12.05645319,   1.36764031,  11.59516626,\n",
              "            0.59732789, -11.10558555,   5.95623706,  -0.26861628],\n",
              "         [  7.08514366,   8.36322955,   2.49207898,   6.18782391,\n",
              "           -0.07868547,  -9.27623244,   6.65138001,   0.06257313],\n",
              "         [ -4.75920077,  -7.38844292,  -1.43803245,  -6.0546143 ,\n",
              "           -0.29524869,   6.36586801,  -4.6290787 ,  -0.41730206],\n",
              "         [ -6.60514569, -10.00446135,  -2.14640999,  -8.28759537,\n",
              "           -0.61370348,   8.61366702,  -5.12122327,  -0.20803765],\n",
              "         [ -1.33453248,  -1.73329935,  -1.02103827,  -1.56264097,\n",
              "           -0.32686642,   1.4995399 ,  -1.16024264,  -0.18551359]]),\n",
              "  array([[-127.69633981, -137.78571267,  -88.08526689, -111.22511376,\n",
              "           -65.80157995]])],\n",
              " [array([-14.69513006,  -9.39672862,  10.31020531,  12.03110639,\n",
              "           3.77081504]), array([-185.44121253])])"
            ]
          },
          "metadata": {
            "tags": []
          },
          "execution_count": 92
        }
      ]
    },
    {
      "cell_type": "code",
      "metadata": {
        "id": "BCeqUD6PucLX"
      },
      "source": [
        "predicted=nn.predict(X_test)"
      ],
      "execution_count": 93,
      "outputs": []
    },
    {
      "cell_type": "code",
      "metadata": {
        "id": "0GFVr5sRvWGs",
        "outputId": "5b0c6ad3-7a42-444c-d7c3-2d2ad46f689e",
        "colab": {
          "base_uri": "https://localhost:8080/",
          "height": 265
        }
      },
      "source": [
        "plt.plot(Y_test,label='actual')\n",
        "plt.plot(predicted,label='Predicted')\n",
        "plt.legend()\n",
        "plt.show()"
      ],
      "execution_count": 94,
      "outputs": [
        {
          "output_type": "display_data",
          "data": {
            "image/png": "[encoded data removed]",
            "text/plain": [
              "<Figure size 432x288 with 1 Axes>"
            ]
          },
          "metadata": {
            "tags": [],
            "needs_background": "light"
          }
        }
      ]
    }
  ]
}