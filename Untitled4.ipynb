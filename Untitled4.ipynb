{
  "nbformat": 4,
  "nbformat_minor": 0,
  "metadata": {
    "colab": {
      "name": "Untitled4.ipynb",
      "provenance": [],
      "authorship_tag": "ABX9TyOQ7h2VXe9wpfOfi+8pVfsi",
      "include_colab_link": true
    },
    "kernelspec": {
      "name": "python3",
      "display_name": "Python 3"
    },
    "language_info": {
      "name": "python"
    }
  },
  "cells": [
    {
      "cell_type": "markdown",
      "metadata": {
        "id": "view-in-github",
        "colab_type": "text"
      },
      "source": [
        "<a href=\"https://colab.research.google.com/github/Shonit262/ANNWindSpeed/blob/LinearModel/Untitled4.ipynb\" target=\"_parent\"><img src=\"https://colab.research.google.com/assets/colab-badge.svg\" alt=\"Open In Colab\"/></a>"
      ]
    },
    {
      "cell_type": "code",
      "metadata": {
        "colab": {
          "base_uri": "https://localhost:8080/"
        },
        "id": "31wzvsRE5puB",
        "outputId": "50ba18f2-5657-4815-ac9f-ecf9ddcc638c"
      },
      "source": [
        "pip install wwo-hist\n"
      ],
      "execution_count": 39,
      "outputs": [
        {
          "output_type": "stream",
          "text": [
            "Requirement already satisfied: wwo-hist in /usr/local/lib/python3.7/dist-packages (0.0.7)\n"
          ],
          "name": "stdout"
        }
      ]
    },
    {
      "cell_type": "code",
      "metadata": {
        "id": "kD9DcRW052gY"
      },
      "source": [
        "from wwo_hist import retrieve_hist_data"
      ],
      "execution_count": 40,
      "outputs": []
    },
    {
      "cell_type": "code",
      "metadata": {
        "id": "eyYVohByABKf"
      },
      "source": [
        "import pandas as pd"
      ],
      "execution_count": 41,
      "outputs": []
    },
    {
      "cell_type": "code",
      "metadata": {
        "id": "IsEQqmJyAe_C"
      },
      "source": [
        "data=pd.read_csv('jaisalmer-2.csv',index_col='date_time',parse_dates=True)"
      ],
      "execution_count": 134,
      "outputs": []
    },
    {
      "cell_type": "code",
      "metadata": {
        "colab": {
          "base_uri": "https://localhost:8080/"
        },
        "id": "B1G8xZNlAjNk",
        "outputId": "4acfb315-b9db-4393-d35b-53784d764fd8"
      },
      "source": [
        "print(data.shape)\n"
      ],
      "execution_count": 43,
      "outputs": [
        {
          "output_type": "stream",
          "text": [
            "(17532, 24)\n"
          ],
          "name": "stdout"
        }
      ]
    },
    {
      "cell_type": "code",
      "metadata": {
        "colab": {
          "base_uri": "https://localhost:8080/",
          "height": 340
        },
        "id": "RkVzAqS_LfpU",
        "outputId": "4afdc822-c284-4430-911e-3d35024e7dd4"
      },
      "source": [
        "data.head()"
      ],
      "execution_count": 44,
      "outputs": [
        {
          "output_type": "execute_result",
          "data": {
            "text/html": [
              "<div>\n",
              "<style scoped>\n",
              "    .dataframe tbody tr th:only-of-type {\n",
              "        vertical-align: middle;\n",
              "    }\n",
              "\n",
              "    .dataframe tbody tr th {\n",
              "        vertical-align: top;\n",
              "    }\n",
              "\n",
              "    .dataframe thead th {\n",
              "        text-align: right;\n",
              "    }\n",
              "</style>\n",
              "<table border=\"1\" class=\"dataframe\">\n",
              "  <thead>\n",
              "    <tr style=\"text-align: right;\">\n",
              "      <th></th>\n",
              "      <th>maxtempC</th>\n",
              "      <th>mintempC</th>\n",
              "      <th>totalSnow_cm</th>\n",
              "      <th>sunHour</th>\n",
              "      <th>uvIndex</th>\n",
              "      <th>moon_illumination</th>\n",
              "      <th>moonrise</th>\n",
              "      <th>moonset</th>\n",
              "      <th>sunrise</th>\n",
              "      <th>sunset</th>\n",
              "      <th>DewPointC</th>\n",
              "      <th>FeelsLikeC</th>\n",
              "      <th>HeatIndexC</th>\n",
              "      <th>WindChillC</th>\n",
              "      <th>WindGustKmph</th>\n",
              "      <th>cloudcover</th>\n",
              "      <th>humidity</th>\n",
              "      <th>precipMM</th>\n",
              "      <th>pressure</th>\n",
              "      <th>tempC</th>\n",
              "      <th>visibility</th>\n",
              "      <th>winddirDegree</th>\n",
              "      <th>windspeedKmph</th>\n",
              "      <th>location</th>\n",
              "    </tr>\n",
              "    <tr>\n",
              "      <th>date_time</th>\n",
              "      <th></th>\n",
              "      <th></th>\n",
              "      <th></th>\n",
              "      <th></th>\n",
              "      <th></th>\n",
              "      <th></th>\n",
              "      <th></th>\n",
              "      <th></th>\n",
              "      <th></th>\n",
              "      <th></th>\n",
              "      <th></th>\n",
              "      <th></th>\n",
              "      <th></th>\n",
              "      <th></th>\n",
              "      <th></th>\n",
              "      <th></th>\n",
              "      <th></th>\n",
              "      <th></th>\n",
              "      <th></th>\n",
              "      <th></th>\n",
              "      <th></th>\n",
              "      <th></th>\n",
              "      <th></th>\n",
              "      <th></th>\n",
              "    </tr>\n",
              "  </thead>\n",
              "  <tbody>\n",
              "    <tr>\n",
              "      <th>2009-04-01 00:00:00</th>\n",
              "      <td>37</td>\n",
              "      <td>23</td>\n",
              "      <td>0.0</td>\n",
              "      <td>11.6</td>\n",
              "      <td>8</td>\n",
              "      <td>42</td>\n",
              "      <td>10:39 AM</td>\n",
              "      <td>12:10 AM</td>\n",
              "      <td>06:37 AM</td>\n",
              "      <td>07:04 PM</td>\n",
              "      <td>7</td>\n",
              "      <td>25</td>\n",
              "      <td>25</td>\n",
              "      <td>24</td>\n",
              "      <td>15</td>\n",
              "      <td>32</td>\n",
              "      <td>32</td>\n",
              "      <td>0.0</td>\n",
              "      <td>1007</td>\n",
              "      <td>24</td>\n",
              "      <td>10</td>\n",
              "      <td>236</td>\n",
              "      <td>7</td>\n",
              "      <td>jaisalmer</td>\n",
              "    </tr>\n",
              "    <tr>\n",
              "      <th>2009-04-01 06:00:00</th>\n",
              "      <td>37</td>\n",
              "      <td>23</td>\n",
              "      <td>0.0</td>\n",
              "      <td>11.6</td>\n",
              "      <td>8</td>\n",
              "      <td>42</td>\n",
              "      <td>10:39 AM</td>\n",
              "      <td>12:10 AM</td>\n",
              "      <td>06:37 AM</td>\n",
              "      <td>07:04 PM</td>\n",
              "      <td>7</td>\n",
              "      <td>26</td>\n",
              "      <td>26</td>\n",
              "      <td>27</td>\n",
              "      <td>15</td>\n",
              "      <td>7</td>\n",
              "      <td>27</td>\n",
              "      <td>0.0</td>\n",
              "      <td>1009</td>\n",
              "      <td>27</td>\n",
              "      <td>10</td>\n",
              "      <td>240</td>\n",
              "      <td>9</td>\n",
              "      <td>jaisalmer</td>\n",
              "    </tr>\n",
              "    <tr>\n",
              "      <th>2009-04-01 12:00:00</th>\n",
              "      <td>37</td>\n",
              "      <td>23</td>\n",
              "      <td>0.0</td>\n",
              "      <td>11.6</td>\n",
              "      <td>8</td>\n",
              "      <td>42</td>\n",
              "      <td>10:39 AM</td>\n",
              "      <td>12:10 AM</td>\n",
              "      <td>06:37 AM</td>\n",
              "      <td>07:04 PM</td>\n",
              "      <td>5</td>\n",
              "      <td>36</td>\n",
              "      <td>36</td>\n",
              "      <td>37</td>\n",
              "      <td>22</td>\n",
              "      <td>6</td>\n",
              "      <td>14</td>\n",
              "      <td>0.0</td>\n",
              "      <td>1007</td>\n",
              "      <td>37</td>\n",
              "      <td>10</td>\n",
              "      <td>267</td>\n",
              "      <td>19</td>\n",
              "      <td>jaisalmer</td>\n",
              "    </tr>\n",
              "    <tr>\n",
              "      <th>2009-04-01 18:00:00</th>\n",
              "      <td>37</td>\n",
              "      <td>23</td>\n",
              "      <td>0.0</td>\n",
              "      <td>11.6</td>\n",
              "      <td>8</td>\n",
              "      <td>42</td>\n",
              "      <td>10:39 AM</td>\n",
              "      <td>12:10 AM</td>\n",
              "      <td>06:37 AM</td>\n",
              "      <td>07:04 PM</td>\n",
              "      <td>5</td>\n",
              "      <td>27</td>\n",
              "      <td>27</td>\n",
              "      <td>29</td>\n",
              "      <td>10</td>\n",
              "      <td>13</td>\n",
              "      <td>21</td>\n",
              "      <td>0.0</td>\n",
              "      <td>1007</td>\n",
              "      <td>29</td>\n",
              "      <td>10</td>\n",
              "      <td>264</td>\n",
              "      <td>5</td>\n",
              "      <td>jaisalmer</td>\n",
              "    </tr>\n",
              "    <tr>\n",
              "      <th>2009-04-02 00:00:00</th>\n",
              "      <td>37</td>\n",
              "      <td>26</td>\n",
              "      <td>0.0</td>\n",
              "      <td>11.6</td>\n",
              "      <td>8</td>\n",
              "      <td>50</td>\n",
              "      <td>11:44 AM</td>\n",
              "      <td>01:11 AM</td>\n",
              "      <td>06:36 AM</td>\n",
              "      <td>07:04 PM</td>\n",
              "      <td>5</td>\n",
              "      <td>25</td>\n",
              "      <td>25</td>\n",
              "      <td>27</td>\n",
              "      <td>26</td>\n",
              "      <td>20</td>\n",
              "      <td>24</td>\n",
              "      <td>0.0</td>\n",
              "      <td>1006</td>\n",
              "      <td>27</td>\n",
              "      <td>10</td>\n",
              "      <td>214</td>\n",
              "      <td>13</td>\n",
              "      <td>jaisalmer</td>\n",
              "    </tr>\n",
              "  </tbody>\n",
              "</table>\n",
              "</div>"
            ],
            "text/plain": [
              "                     maxtempC  mintempC  ...  windspeedKmph   location\n",
              "date_time                                ...                          \n",
              "2009-04-01 00:00:00        37        23  ...              7  jaisalmer\n",
              "2009-04-01 06:00:00        37        23  ...              9  jaisalmer\n",
              "2009-04-01 12:00:00        37        23  ...             19  jaisalmer\n",
              "2009-04-01 18:00:00        37        23  ...              5  jaisalmer\n",
              "2009-04-02 00:00:00        37        26  ...             13  jaisalmer\n",
              "\n",
              "[5 rows x 24 columns]"
            ]
          },
          "metadata": {
            "tags": []
          },
          "execution_count": 44
        }
      ]
    },
    {
      "cell_type": "code",
      "metadata": {
        "colab": {
          "base_uri": "https://localhost:8080/",
          "height": 658
        },
        "id": "7vzDf-P2P6qL",
        "outputId": "da35584a-40dd-4811-d9e5-f1cb5644e49e"
      },
      "source": [
        "data.corr()"
      ],
      "execution_count": 45,
      "outputs": [
        {
          "output_type": "execute_result",
          "data": {
            "text/html": [
              "<div>\n",
              "<style scoped>\n",
              "    .dataframe tbody tr th:only-of-type {\n",
              "        vertical-align: middle;\n",
              "    }\n",
              "\n",
              "    .dataframe tbody tr th {\n",
              "        vertical-align: top;\n",
              "    }\n",
              "\n",
              "    .dataframe thead th {\n",
              "        text-align: right;\n",
              "    }\n",
              "</style>\n",
              "<table border=\"1\" class=\"dataframe\">\n",
              "  <thead>\n",
              "    <tr style=\"text-align: right;\">\n",
              "      <th></th>\n",
              "      <th>maxtempC</th>\n",
              "      <th>mintempC</th>\n",
              "      <th>totalSnow_cm</th>\n",
              "      <th>sunHour</th>\n",
              "      <th>uvIndex</th>\n",
              "      <th>moon_illumination</th>\n",
              "      <th>DewPointC</th>\n",
              "      <th>FeelsLikeC</th>\n",
              "      <th>HeatIndexC</th>\n",
              "      <th>WindChillC</th>\n",
              "      <th>WindGustKmph</th>\n",
              "      <th>cloudcover</th>\n",
              "      <th>humidity</th>\n",
              "      <th>precipMM</th>\n",
              "      <th>pressure</th>\n",
              "      <th>tempC</th>\n",
              "      <th>visibility</th>\n",
              "      <th>winddirDegree</th>\n",
              "      <th>windspeedKmph</th>\n",
              "    </tr>\n",
              "  </thead>\n",
              "  <tbody>\n",
              "    <tr>\n",
              "      <th>maxtempC</th>\n",
              "      <td>1.000000</td>\n",
              "      <td>0.928311</td>\n",
              "      <td>NaN</td>\n",
              "      <td>0.665581</td>\n",
              "      <td>0.964601</td>\n",
              "      <td>-0.016414</td>\n",
              "      <td>0.603079</td>\n",
              "      <td>0.861124</td>\n",
              "      <td>0.859381</td>\n",
              "      <td>0.871692</td>\n",
              "      <td>0.213147</td>\n",
              "      <td>0.054425</td>\n",
              "      <td>0.076033</td>\n",
              "      <td>0.010107</td>\n",
              "      <td>-0.838500</td>\n",
              "      <td>0.871657</td>\n",
              "      <td>-0.000798</td>\n",
              "      <td>0.512411</td>\n",
              "      <td>0.356804</td>\n",
              "    </tr>\n",
              "    <tr>\n",
              "      <th>mintempC</th>\n",
              "      <td>0.928311</td>\n",
              "      <td>1.000000</td>\n",
              "      <td>NaN</td>\n",
              "      <td>0.600170</td>\n",
              "      <td>0.933597</td>\n",
              "      <td>-0.020317</td>\n",
              "      <td>0.731480</td>\n",
              "      <td>0.895826</td>\n",
              "      <td>0.894514</td>\n",
              "      <td>0.880290</td>\n",
              "      <td>0.203145</td>\n",
              "      <td>0.183272</td>\n",
              "      <td>0.212865</td>\n",
              "      <td>0.062339</td>\n",
              "      <td>-0.851319</td>\n",
              "      <td>0.880195</td>\n",
              "      <td>-0.064800</td>\n",
              "      <td>0.474085</td>\n",
              "      <td>0.372127</td>\n",
              "    </tr>\n",
              "    <tr>\n",
              "      <th>totalSnow_cm</th>\n",
              "      <td>NaN</td>\n",
              "      <td>NaN</td>\n",
              "      <td>NaN</td>\n",
              "      <td>NaN</td>\n",
              "      <td>NaN</td>\n",
              "      <td>NaN</td>\n",
              "      <td>NaN</td>\n",
              "      <td>NaN</td>\n",
              "      <td>NaN</td>\n",
              "      <td>NaN</td>\n",
              "      <td>NaN</td>\n",
              "      <td>NaN</td>\n",
              "      <td>NaN</td>\n",
              "      <td>NaN</td>\n",
              "      <td>NaN</td>\n",
              "      <td>NaN</td>\n",
              "      <td>NaN</td>\n",
              "      <td>NaN</td>\n",
              "      <td>NaN</td>\n",
              "    </tr>\n",
              "    <tr>\n",
              "      <th>sunHour</th>\n",
              "      <td>0.665581</td>\n",
              "      <td>0.600170</td>\n",
              "      <td>NaN</td>\n",
              "      <td>1.000000</td>\n",
              "      <td>0.656822</td>\n",
              "      <td>0.002710</td>\n",
              "      <td>0.444001</td>\n",
              "      <td>0.584251</td>\n",
              "      <td>0.587406</td>\n",
              "      <td>0.572948</td>\n",
              "      <td>0.259897</td>\n",
              "      <td>-0.116541</td>\n",
              "      <td>0.096591</td>\n",
              "      <td>-0.042253</td>\n",
              "      <td>-0.631620</td>\n",
              "      <td>0.578040</td>\n",
              "      <td>0.051676</td>\n",
              "      <td>0.358980</td>\n",
              "      <td>0.368513</td>\n",
              "    </tr>\n",
              "    <tr>\n",
              "      <th>uvIndex</th>\n",
              "      <td>0.964601</td>\n",
              "      <td>0.933597</td>\n",
              "      <td>NaN</td>\n",
              "      <td>0.656822</td>\n",
              "      <td>1.000000</td>\n",
              "      <td>-0.017881</td>\n",
              "      <td>0.614736</td>\n",
              "      <td>0.853868</td>\n",
              "      <td>0.852280</td>\n",
              "      <td>0.862865</td>\n",
              "      <td>0.202238</td>\n",
              "      <td>0.034485</td>\n",
              "      <td>0.090163</td>\n",
              "      <td>-0.007394</td>\n",
              "      <td>-0.818576</td>\n",
              "      <td>0.862965</td>\n",
              "      <td>0.020183</td>\n",
              "      <td>0.490985</td>\n",
              "      <td>0.349263</td>\n",
              "    </tr>\n",
              "    <tr>\n",
              "      <th>moon_illumination</th>\n",
              "      <td>-0.016414</td>\n",
              "      <td>-0.020317</td>\n",
              "      <td>NaN</td>\n",
              "      <td>0.002710</td>\n",
              "      <td>-0.017881</td>\n",
              "      <td>1.000000</td>\n",
              "      <td>-0.017748</td>\n",
              "      <td>-0.019938</td>\n",
              "      <td>-0.020764</td>\n",
              "      <td>-0.017338</td>\n",
              "      <td>0.024365</td>\n",
              "      <td>-0.008323</td>\n",
              "      <td>0.000121</td>\n",
              "      <td>0.001366</td>\n",
              "      <td>-0.005433</td>\n",
              "      <td>-0.017719</td>\n",
              "      <td>-0.000674</td>\n",
              "      <td>0.020346</td>\n",
              "      <td>0.023880</td>\n",
              "    </tr>\n",
              "    <tr>\n",
              "      <th>DewPointC</th>\n",
              "      <td>0.603079</td>\n",
              "      <td>0.731480</td>\n",
              "      <td>NaN</td>\n",
              "      <td>0.444001</td>\n",
              "      <td>0.614736</td>\n",
              "      <td>-0.017748</td>\n",
              "      <td>1.000000</td>\n",
              "      <td>0.682599</td>\n",
              "      <td>0.684926</td>\n",
              "      <td>0.564165</td>\n",
              "      <td>0.340394</td>\n",
              "      <td>0.313339</td>\n",
              "      <td>0.747025</td>\n",
              "      <td>0.126184</td>\n",
              "      <td>-0.752036</td>\n",
              "      <td>0.565080</td>\n",
              "      <td>-0.140944</td>\n",
              "      <td>0.309975</td>\n",
              "      <td>0.526125</td>\n",
              "    </tr>\n",
              "    <tr>\n",
              "      <th>FeelsLikeC</th>\n",
              "      <td>0.861124</td>\n",
              "      <td>0.895826</td>\n",
              "      <td>NaN</td>\n",
              "      <td>0.584251</td>\n",
              "      <td>0.853868</td>\n",
              "      <td>-0.019938</td>\n",
              "      <td>0.682599</td>\n",
              "      <td>1.000000</td>\n",
              "      <td>0.999137</td>\n",
              "      <td>0.974444</td>\n",
              "      <td>0.118572</td>\n",
              "      <td>0.189979</td>\n",
              "      <td>0.094929</td>\n",
              "      <td>0.058947</td>\n",
              "      <td>-0.863356</td>\n",
              "      <td>0.974412</td>\n",
              "      <td>-0.060988</td>\n",
              "      <td>0.467059</td>\n",
              "      <td>0.375657</td>\n",
              "    </tr>\n",
              "    <tr>\n",
              "      <th>HeatIndexC</th>\n",
              "      <td>0.859381</td>\n",
              "      <td>0.894514</td>\n",
              "      <td>NaN</td>\n",
              "      <td>0.587406</td>\n",
              "      <td>0.852280</td>\n",
              "      <td>-0.020764</td>\n",
              "      <td>0.684926</td>\n",
              "      <td>0.999137</td>\n",
              "      <td>1.000000</td>\n",
              "      <td>0.971986</td>\n",
              "      <td>0.124540</td>\n",
              "      <td>0.191007</td>\n",
              "      <td>0.099183</td>\n",
              "      <td>0.059094</td>\n",
              "      <td>-0.865351</td>\n",
              "      <td>0.973124</td>\n",
              "      <td>-0.061164</td>\n",
              "      <td>0.465255</td>\n",
              "      <td>0.380230</td>\n",
              "    </tr>\n",
              "    <tr>\n",
              "      <th>WindChillC</th>\n",
              "      <td>0.871692</td>\n",
              "      <td>0.880290</td>\n",
              "      <td>NaN</td>\n",
              "      <td>0.572948</td>\n",
              "      <td>0.862865</td>\n",
              "      <td>-0.017338</td>\n",
              "      <td>0.564165</td>\n",
              "      <td>0.974444</td>\n",
              "      <td>0.971986</td>\n",
              "      <td>1.000000</td>\n",
              "      <td>0.041834</td>\n",
              "      <td>0.118028</td>\n",
              "      <td>-0.070272</td>\n",
              "      <td>0.027191</td>\n",
              "      <td>-0.798188</td>\n",
              "      <td>0.999310</td>\n",
              "      <td>-0.025873</td>\n",
              "      <td>0.479627</td>\n",
              "      <td>0.284617</td>\n",
              "    </tr>\n",
              "    <tr>\n",
              "      <th>WindGustKmph</th>\n",
              "      <td>0.213147</td>\n",
              "      <td>0.203145</td>\n",
              "      <td>NaN</td>\n",
              "      <td>0.259897</td>\n",
              "      <td>0.202238</td>\n",
              "      <td>0.024365</td>\n",
              "      <td>0.340394</td>\n",
              "      <td>0.118572</td>\n",
              "      <td>0.124540</td>\n",
              "      <td>0.041834</td>\n",
              "      <td>1.000000</td>\n",
              "      <td>0.002441</td>\n",
              "      <td>0.386587</td>\n",
              "      <td>0.029145</td>\n",
              "      <td>-0.287043</td>\n",
              "      <td>0.047079</td>\n",
              "      <td>-0.023619</td>\n",
              "      <td>0.082335</td>\n",
              "      <td>0.900727</td>\n",
              "    </tr>\n",
              "    <tr>\n",
              "      <th>cloudcover</th>\n",
              "      <td>0.054425</td>\n",
              "      <td>0.183272</td>\n",
              "      <td>NaN</td>\n",
              "      <td>-0.116541</td>\n",
              "      <td>0.034485</td>\n",
              "      <td>-0.008323</td>\n",
              "      <td>0.313339</td>\n",
              "      <td>0.189979</td>\n",
              "      <td>0.191007</td>\n",
              "      <td>0.118028</td>\n",
              "      <td>0.002441</td>\n",
              "      <td>1.000000</td>\n",
              "      <td>0.305955</td>\n",
              "      <td>0.240043</td>\n",
              "      <td>-0.223227</td>\n",
              "      <td>0.117840</td>\n",
              "      <td>-0.306255</td>\n",
              "      <td>0.006480</td>\n",
              "      <td>0.068570</td>\n",
              "    </tr>\n",
              "    <tr>\n",
              "      <th>humidity</th>\n",
              "      <td>0.076033</td>\n",
              "      <td>0.212865</td>\n",
              "      <td>NaN</td>\n",
              "      <td>0.096591</td>\n",
              "      <td>0.090163</td>\n",
              "      <td>0.000121</td>\n",
              "      <td>0.747025</td>\n",
              "      <td>0.094929</td>\n",
              "      <td>0.099183</td>\n",
              "      <td>-0.070272</td>\n",
              "      <td>0.386587</td>\n",
              "      <td>0.305955</td>\n",
              "      <td>1.000000</td>\n",
              "      <td>0.163311</td>\n",
              "      <td>-0.312867</td>\n",
              "      <td>-0.069114</td>\n",
              "      <td>-0.183156</td>\n",
              "      <td>0.050329</td>\n",
              "      <td>0.445252</td>\n",
              "    </tr>\n",
              "    <tr>\n",
              "      <th>precipMM</th>\n",
              "      <td>0.010107</td>\n",
              "      <td>0.062339</td>\n",
              "      <td>NaN</td>\n",
              "      <td>-0.042253</td>\n",
              "      <td>-0.007394</td>\n",
              "      <td>0.001366</td>\n",
              "      <td>0.126184</td>\n",
              "      <td>0.058947</td>\n",
              "      <td>0.059094</td>\n",
              "      <td>0.027191</td>\n",
              "      <td>0.029145</td>\n",
              "      <td>0.240043</td>\n",
              "      <td>0.163311</td>\n",
              "      <td>1.000000</td>\n",
              "      <td>-0.084927</td>\n",
              "      <td>0.026916</td>\n",
              "      <td>-0.653710</td>\n",
              "      <td>0.006065</td>\n",
              "      <td>0.008748</td>\n",
              "    </tr>\n",
              "    <tr>\n",
              "      <th>pressure</th>\n",
              "      <td>-0.838500</td>\n",
              "      <td>-0.851319</td>\n",
              "      <td>NaN</td>\n",
              "      <td>-0.631620</td>\n",
              "      <td>-0.818576</td>\n",
              "      <td>-0.005433</td>\n",
              "      <td>-0.752036</td>\n",
              "      <td>-0.863356</td>\n",
              "      <td>-0.865351</td>\n",
              "      <td>-0.798188</td>\n",
              "      <td>-0.287043</td>\n",
              "      <td>-0.223227</td>\n",
              "      <td>-0.312867</td>\n",
              "      <td>-0.084927</td>\n",
              "      <td>1.000000</td>\n",
              "      <td>-0.800772</td>\n",
              "      <td>0.092037</td>\n",
              "      <td>-0.476938</td>\n",
              "      <td>-0.470814</td>\n",
              "    </tr>\n",
              "    <tr>\n",
              "      <th>tempC</th>\n",
              "      <td>0.871657</td>\n",
              "      <td>0.880195</td>\n",
              "      <td>NaN</td>\n",
              "      <td>0.578040</td>\n",
              "      <td>0.862965</td>\n",
              "      <td>-0.017719</td>\n",
              "      <td>0.565080</td>\n",
              "      <td>0.974412</td>\n",
              "      <td>0.973124</td>\n",
              "      <td>0.999310</td>\n",
              "      <td>0.047079</td>\n",
              "      <td>0.117840</td>\n",
              "      <td>-0.069114</td>\n",
              "      <td>0.026916</td>\n",
              "      <td>-0.800772</td>\n",
              "      <td>1.000000</td>\n",
              "      <td>-0.025672</td>\n",
              "      <td>0.479051</td>\n",
              "      <td>0.288500</td>\n",
              "    </tr>\n",
              "    <tr>\n",
              "      <th>visibility</th>\n",
              "      <td>-0.000798</td>\n",
              "      <td>-0.064800</td>\n",
              "      <td>NaN</td>\n",
              "      <td>0.051676</td>\n",
              "      <td>0.020183</td>\n",
              "      <td>-0.000674</td>\n",
              "      <td>-0.140944</td>\n",
              "      <td>-0.060988</td>\n",
              "      <td>-0.061164</td>\n",
              "      <td>-0.025873</td>\n",
              "      <td>-0.023619</td>\n",
              "      <td>-0.306255</td>\n",
              "      <td>-0.183156</td>\n",
              "      <td>-0.653710</td>\n",
              "      <td>0.092037</td>\n",
              "      <td>-0.025672</td>\n",
              "      <td>1.000000</td>\n",
              "      <td>-0.009751</td>\n",
              "      <td>-0.016496</td>\n",
              "    </tr>\n",
              "    <tr>\n",
              "      <th>winddirDegree</th>\n",
              "      <td>0.512411</td>\n",
              "      <td>0.474085</td>\n",
              "      <td>NaN</td>\n",
              "      <td>0.358980</td>\n",
              "      <td>0.490985</td>\n",
              "      <td>0.020346</td>\n",
              "      <td>0.309975</td>\n",
              "      <td>0.467059</td>\n",
              "      <td>0.465255</td>\n",
              "      <td>0.479627</td>\n",
              "      <td>0.082335</td>\n",
              "      <td>0.006480</td>\n",
              "      <td>0.050329</td>\n",
              "      <td>0.006065</td>\n",
              "      <td>-0.476938</td>\n",
              "      <td>0.479051</td>\n",
              "      <td>-0.009751</td>\n",
              "      <td>1.000000</td>\n",
              "      <td>0.200621</td>\n",
              "    </tr>\n",
              "    <tr>\n",
              "      <th>windspeedKmph</th>\n",
              "      <td>0.356804</td>\n",
              "      <td>0.372127</td>\n",
              "      <td>NaN</td>\n",
              "      <td>0.368513</td>\n",
              "      <td>0.349263</td>\n",
              "      <td>0.023880</td>\n",
              "      <td>0.526125</td>\n",
              "      <td>0.375657</td>\n",
              "      <td>0.380230</td>\n",
              "      <td>0.284617</td>\n",
              "      <td>0.900727</td>\n",
              "      <td>0.068570</td>\n",
              "      <td>0.445252</td>\n",
              "      <td>0.008748</td>\n",
              "      <td>-0.470814</td>\n",
              "      <td>0.288500</td>\n",
              "      <td>-0.016496</td>\n",
              "      <td>0.200621</td>\n",
              "      <td>1.000000</td>\n",
              "    </tr>\n",
              "  </tbody>\n",
              "</table>\n",
              "</div>"
            ],
            "text/plain": [
              "                   maxtempC  mintempC  ...  winddirDegree  windspeedKmph\n",
              "maxtempC           1.000000  0.928311  ...       0.512411       0.356804\n",
              "mintempC           0.928311  1.000000  ...       0.474085       0.372127\n",
              "totalSnow_cm            NaN       NaN  ...            NaN            NaN\n",
              "sunHour            0.665581  0.600170  ...       0.358980       0.368513\n",
              "uvIndex            0.964601  0.933597  ...       0.490985       0.349263\n",
              "moon_illumination -0.016414 -0.020317  ...       0.020346       0.023880\n",
              "DewPointC          0.603079  0.731480  ...       0.309975       0.526125\n",
              "FeelsLikeC         0.861124  0.895826  ...       0.467059       0.375657\n",
              "HeatIndexC         0.859381  0.894514  ...       0.465255       0.380230\n",
              "WindChillC         0.871692  0.880290  ...       0.479627       0.284617\n",
              "WindGustKmph       0.213147  0.203145  ...       0.082335       0.900727\n",
              "cloudcover         0.054425  0.183272  ...       0.006480       0.068570\n",
              "humidity           0.076033  0.212865  ...       0.050329       0.445252\n",
              "precipMM           0.010107  0.062339  ...       0.006065       0.008748\n",
              "pressure          -0.838500 -0.851319  ...      -0.476938      -0.470814\n",
              "tempC              0.871657  0.880195  ...       0.479051       0.288500\n",
              "visibility        -0.000798 -0.064800  ...      -0.009751      -0.016496\n",
              "winddirDegree      0.512411  0.474085  ...       1.000000       0.200621\n",
              "windspeedKmph      0.356804  0.372127  ...       0.200621       1.000000\n",
              "\n",
              "[19 rows x 19 columns]"
            ]
          },
          "metadata": {
            "tags": []
          },
          "execution_count": 45
        }
      ]
    },
    {
      "cell_type": "code",
      "metadata": {
        "id": "dYMT8tf2N1FE"
      },
      "source": [
        "data.drop(columns=['sunrise','sunset','moonrise','moonset','WindGustKmph','moon_illumination','totalSnow_cm','location'],inplace=True)"
      ],
      "execution_count": 135,
      "outputs": []
    },
    {
      "cell_type": "code",
      "metadata": {
        "id": "vM0HDEJXSax-"
      },
      "source": [
        "data=data[(data['windspeedKmph']!=0)]\n"
      ],
      "execution_count": 136,
      "outputs": []
    },
    {
      "cell_type": "code",
      "metadata": {
        "id": "Lyw_PS7oZTbq"
      },
      "source": [
        ""
      ],
      "execution_count": 132,
      "outputs": []
    },
    {
      "cell_type": "code",
      "metadata": {
        "colab": {
          "base_uri": "https://localhost:8080/"
        },
        "id": "VlroAYsyODPL",
        "outputId": "5d2e4deb-3eed-49f8-c535-bd62ada54bc0"
      },
      "source": [
        "data.dtypes"
      ],
      "execution_count": 139,
      "outputs": [
        {
          "output_type": "execute_result",
          "data": {
            "text/plain": [
              "maxtempC         float64\n",
              "mintempC         float64\n",
              "sunHour          float64\n",
              "uvIndex          float64\n",
              "DewPointC        float64\n",
              "FeelsLikeC       float64\n",
              "HeatIndexC       float64\n",
              "WindChillC       float64\n",
              "cloudcover       float64\n",
              "humidity         float64\n",
              "precipMM         float64\n",
              "pressure         float64\n",
              "tempC            float64\n",
              "visibility       float64\n",
              "winddirDegree    float64\n",
              "windspeedKmph    float64\n",
              "dtype: object"
            ]
          },
          "metadata": {
            "tags": []
          },
          "execution_count": 139
        }
      ]
    },
    {
      "cell_type": "code",
      "metadata": {
        "colab": {
          "base_uri": "https://localhost:8080/"
        },
        "id": "mbhr4p0cSrgL",
        "outputId": "334fb839-d319-4fde-dbb9-1f88e18a4316"
      },
      "source": [
        "s = (data.dtypes == 'int64')\n",
        "int_data = list(s[s].index)\n",
        "\n",
        "print(\"integer data type\")\n",
        "print(int_data)\n"
      ],
      "execution_count": 137,
      "outputs": [
        {
          "output_type": "stream",
          "text": [
            "integer data type\n",
            "['maxtempC', 'mintempC', 'uvIndex', 'DewPointC', 'FeelsLikeC', 'HeatIndexC', 'WindChillC', 'cloudcover', 'humidity', 'pressure', 'tempC', 'visibility', 'winddirDegree', 'windspeedKmph']\n"
          ],
          "name": "stdout"
        }
      ]
    },
    {
      "cell_type": "code",
      "metadata": {
        "id": "EZFIN4fFTM6M"
      },
      "source": [
        "for col in int_data:\n",
        "    data[col]=data[col].astype(float)"
      ],
      "execution_count": 138,
      "outputs": []
    },
    {
      "cell_type": "code",
      "metadata": {
        "colab": {
          "base_uri": "https://localhost:8080/"
        },
        "id": "k4QS-UQBPSFr",
        "outputId": "96e2b038-c12f-4e9d-d4ba-379bf15a0648"
      },
      "source": [
        "missing=data.isnull().sum()\n",
        "print(missing[missing>0])"
      ],
      "execution_count": 107,
      "outputs": [
        {
          "output_type": "stream",
          "text": [
            "Series([], dtype: int64)\n"
          ],
          "name": "stdout"
        }
      ]
    },
    {
      "cell_type": "code",
      "metadata": {
        "colab": {
          "base_uri": "https://localhost:8080/",
          "height": 565
        },
        "id": "1o6TUclNPbSD",
        "outputId": "9dcc7f9c-ba3b-4dc7-f415-b0472618a8e4"
      },
      "source": [
        "data.corr()"
      ],
      "execution_count": 52,
      "outputs": [
        {
          "output_type": "execute_result",
          "data": {
            "text/html": [
              "<div>\n",
              "<style scoped>\n",
              "    .dataframe tbody tr th:only-of-type {\n",
              "        vertical-align: middle;\n",
              "    }\n",
              "\n",
              "    .dataframe tbody tr th {\n",
              "        vertical-align: top;\n",
              "    }\n",
              "\n",
              "    .dataframe thead th {\n",
              "        text-align: right;\n",
              "    }\n",
              "</style>\n",
              "<table border=\"1\" class=\"dataframe\">\n",
              "  <thead>\n",
              "    <tr style=\"text-align: right;\">\n",
              "      <th></th>\n",
              "      <th>maxtempC</th>\n",
              "      <th>mintempC</th>\n",
              "      <th>sunHour</th>\n",
              "      <th>uvIndex</th>\n",
              "      <th>DewPointC</th>\n",
              "      <th>FeelsLikeC</th>\n",
              "      <th>HeatIndexC</th>\n",
              "      <th>WindChillC</th>\n",
              "      <th>cloudcover</th>\n",
              "      <th>humidity</th>\n",
              "      <th>precipMM</th>\n",
              "      <th>pressure</th>\n",
              "      <th>tempC</th>\n",
              "      <th>visibility</th>\n",
              "      <th>winddirDegree</th>\n",
              "      <th>windspeedKmph</th>\n",
              "    </tr>\n",
              "  </thead>\n",
              "  <tbody>\n",
              "    <tr>\n",
              "      <th>maxtempC</th>\n",
              "      <td>1.000000</td>\n",
              "      <td>0.928389</td>\n",
              "      <td>0.665552</td>\n",
              "      <td>0.964626</td>\n",
              "      <td>0.603253</td>\n",
              "      <td>0.861135</td>\n",
              "      <td>0.859394</td>\n",
              "      <td>0.871741</td>\n",
              "      <td>0.054392</td>\n",
              "      <td>0.076318</td>\n",
              "      <td>0.010121</td>\n",
              "      <td>-0.838568</td>\n",
              "      <td>0.871710</td>\n",
              "      <td>-0.000812</td>\n",
              "      <td>0.513174</td>\n",
              "      <td>0.357714</td>\n",
              "    </tr>\n",
              "    <tr>\n",
              "      <th>mintempC</th>\n",
              "      <td>0.928389</td>\n",
              "      <td>1.000000</td>\n",
              "      <td>0.600190</td>\n",
              "      <td>0.933628</td>\n",
              "      <td>0.731536</td>\n",
              "      <td>0.895907</td>\n",
              "      <td>0.894597</td>\n",
              "      <td>0.880391</td>\n",
              "      <td>0.183185</td>\n",
              "      <td>0.213079</td>\n",
              "      <td>0.062368</td>\n",
              "      <td>-0.851485</td>\n",
              "      <td>0.880299</td>\n",
              "      <td>-0.064831</td>\n",
              "      <td>0.474924</td>\n",
              "      <td>0.373023</td>\n",
              "    </tr>\n",
              "    <tr>\n",
              "      <th>sunHour</th>\n",
              "      <td>0.665552</td>\n",
              "      <td>0.600190</td>\n",
              "      <td>1.000000</td>\n",
              "      <td>0.656771</td>\n",
              "      <td>0.444191</td>\n",
              "      <td>0.584234</td>\n",
              "      <td>0.587387</td>\n",
              "      <td>0.572974</td>\n",
              "      <td>-0.116770</td>\n",
              "      <td>0.096853</td>\n",
              "      <td>-0.042295</td>\n",
              "      <td>-0.631635</td>\n",
              "      <td>0.578068</td>\n",
              "      <td>0.051728</td>\n",
              "      <td>0.359903</td>\n",
              "      <td>0.368901</td>\n",
              "    </tr>\n",
              "    <tr>\n",
              "      <th>uvIndex</th>\n",
              "      <td>0.964626</td>\n",
              "      <td>0.933628</td>\n",
              "      <td>0.656771</td>\n",
              "      <td>1.000000</td>\n",
              "      <td>0.614857</td>\n",
              "      <td>0.853897</td>\n",
              "      <td>0.852310</td>\n",
              "      <td>0.862922</td>\n",
              "      <td>0.034409</td>\n",
              "      <td>0.090422</td>\n",
              "      <td>-0.007391</td>\n",
              "      <td>-0.818671</td>\n",
              "      <td>0.863025</td>\n",
              "      <td>0.020183</td>\n",
              "      <td>0.491858</td>\n",
              "      <td>0.350071</td>\n",
              "    </tr>\n",
              "    <tr>\n",
              "      <th>DewPointC</th>\n",
              "      <td>0.603253</td>\n",
              "      <td>0.731536</td>\n",
              "      <td>0.444191</td>\n",
              "      <td>0.614857</td>\n",
              "      <td>1.000000</td>\n",
              "      <td>0.682805</td>\n",
              "      <td>0.685137</td>\n",
              "      <td>0.564419</td>\n",
              "      <td>0.313157</td>\n",
              "      <td>0.747103</td>\n",
              "      <td>0.126199</td>\n",
              "      <td>-0.752158</td>\n",
              "      <td>0.565339</td>\n",
              "      <td>-0.140959</td>\n",
              "      <td>0.310386</td>\n",
              "      <td>0.526848</td>\n",
              "    </tr>\n",
              "    <tr>\n",
              "      <th>FeelsLikeC</th>\n",
              "      <td>0.861135</td>\n",
              "      <td>0.895907</td>\n",
              "      <td>0.584234</td>\n",
              "      <td>0.853897</td>\n",
              "      <td>0.682805</td>\n",
              "      <td>1.000000</td>\n",
              "      <td>0.999136</td>\n",
              "      <td>0.974456</td>\n",
              "      <td>0.189967</td>\n",
              "      <td>0.095267</td>\n",
              "      <td>0.058980</td>\n",
              "      <td>-0.863449</td>\n",
              "      <td>0.974425</td>\n",
              "      <td>-0.061024</td>\n",
              "      <td>0.467586</td>\n",
              "      <td>0.376617</td>\n",
              "    </tr>\n",
              "    <tr>\n",
              "      <th>HeatIndexC</th>\n",
              "      <td>0.859394</td>\n",
              "      <td>0.894597</td>\n",
              "      <td>0.587387</td>\n",
              "      <td>0.852310</td>\n",
              "      <td>0.685137</td>\n",
              "      <td>0.999136</td>\n",
              "      <td>1.000000</td>\n",
              "      <td>0.971996</td>\n",
              "      <td>0.190992</td>\n",
              "      <td>0.099527</td>\n",
              "      <td>0.059127</td>\n",
              "      <td>-0.865443</td>\n",
              "      <td>0.973135</td>\n",
              "      <td>-0.061200</td>\n",
              "      <td>0.465791</td>\n",
              "      <td>0.381185</td>\n",
              "    </tr>\n",
              "    <tr>\n",
              "      <th>WindChillC</th>\n",
              "      <td>0.871741</td>\n",
              "      <td>0.880391</td>\n",
              "      <td>0.572974</td>\n",
              "      <td>0.862922</td>\n",
              "      <td>0.564419</td>\n",
              "      <td>0.974456</td>\n",
              "      <td>0.971996</td>\n",
              "      <td>1.000000</td>\n",
              "      <td>0.118093</td>\n",
              "      <td>-0.069876</td>\n",
              "      <td>0.027229</td>\n",
              "      <td>-0.798367</td>\n",
              "      <td>0.999310</td>\n",
              "      <td>-0.025915</td>\n",
              "      <td>0.480221</td>\n",
              "      <td>0.285677</td>\n",
              "    </tr>\n",
              "    <tr>\n",
              "      <th>cloudcover</th>\n",
              "      <td>0.054392</td>\n",
              "      <td>0.183185</td>\n",
              "      <td>-0.116770</td>\n",
              "      <td>0.034409</td>\n",
              "      <td>0.313157</td>\n",
              "      <td>0.189967</td>\n",
              "      <td>0.190992</td>\n",
              "      <td>0.118093</td>\n",
              "      <td>1.000000</td>\n",
              "      <td>0.305748</td>\n",
              "      <td>0.240062</td>\n",
              "      <td>-0.223086</td>\n",
              "      <td>0.117902</td>\n",
              "      <td>-0.306282</td>\n",
              "      <td>0.006539</td>\n",
              "      <td>0.068175</td>\n",
              "    </tr>\n",
              "    <tr>\n",
              "      <th>humidity</th>\n",
              "      <td>0.076318</td>\n",
              "      <td>0.213079</td>\n",
              "      <td>0.096853</td>\n",
              "      <td>0.090422</td>\n",
              "      <td>0.747103</td>\n",
              "      <td>0.095267</td>\n",
              "      <td>0.099527</td>\n",
              "      <td>-0.069876</td>\n",
              "      <td>0.305748</td>\n",
              "      <td>1.000000</td>\n",
              "      <td>0.163332</td>\n",
              "      <td>-0.312979</td>\n",
              "      <td>-0.068713</td>\n",
              "      <td>-0.183176</td>\n",
              "      <td>0.050383</td>\n",
              "      <td>0.445409</td>\n",
              "    </tr>\n",
              "    <tr>\n",
              "      <th>precipMM</th>\n",
              "      <td>0.010121</td>\n",
              "      <td>0.062368</td>\n",
              "      <td>-0.042295</td>\n",
              "      <td>-0.007391</td>\n",
              "      <td>0.126199</td>\n",
              "      <td>0.058980</td>\n",
              "      <td>0.059127</td>\n",
              "      <td>0.027229</td>\n",
              "      <td>0.240062</td>\n",
              "      <td>0.163332</td>\n",
              "      <td>1.000000</td>\n",
              "      <td>-0.084932</td>\n",
              "      <td>0.026953</td>\n",
              "      <td>-0.653705</td>\n",
              "      <td>0.006093</td>\n",
              "      <td>0.008574</td>\n",
              "    </tr>\n",
              "    <tr>\n",
              "      <th>pressure</th>\n",
              "      <td>-0.838568</td>\n",
              "      <td>-0.851485</td>\n",
              "      <td>-0.631635</td>\n",
              "      <td>-0.818671</td>\n",
              "      <td>-0.752158</td>\n",
              "      <td>-0.863449</td>\n",
              "      <td>-0.865443</td>\n",
              "      <td>-0.798367</td>\n",
              "      <td>-0.223086</td>\n",
              "      <td>-0.312979</td>\n",
              "      <td>-0.084932</td>\n",
              "      <td>1.000000</td>\n",
              "      <td>-0.800955</td>\n",
              "      <td>0.092039</td>\n",
              "      <td>-0.477534</td>\n",
              "      <td>-0.471321</td>\n",
              "    </tr>\n",
              "    <tr>\n",
              "      <th>tempC</th>\n",
              "      <td>0.871710</td>\n",
              "      <td>0.880299</td>\n",
              "      <td>0.578068</td>\n",
              "      <td>0.863025</td>\n",
              "      <td>0.565339</td>\n",
              "      <td>0.974425</td>\n",
              "      <td>0.973135</td>\n",
              "      <td>0.999310</td>\n",
              "      <td>0.117902</td>\n",
              "      <td>-0.068713</td>\n",
              "      <td>0.026953</td>\n",
              "      <td>-0.800955</td>\n",
              "      <td>1.000000</td>\n",
              "      <td>-0.025714</td>\n",
              "      <td>0.479656</td>\n",
              "      <td>0.289563</td>\n",
              "    </tr>\n",
              "    <tr>\n",
              "      <th>visibility</th>\n",
              "      <td>-0.000812</td>\n",
              "      <td>-0.064831</td>\n",
              "      <td>0.051728</td>\n",
              "      <td>0.020183</td>\n",
              "      <td>-0.140959</td>\n",
              "      <td>-0.061024</td>\n",
              "      <td>-0.061200</td>\n",
              "      <td>-0.025915</td>\n",
              "      <td>-0.306282</td>\n",
              "      <td>-0.183176</td>\n",
              "      <td>-0.653705</td>\n",
              "      <td>0.092039</td>\n",
              "      <td>-0.025714</td>\n",
              "      <td>1.000000</td>\n",
              "      <td>-0.009787</td>\n",
              "      <td>-0.016293</td>\n",
              "    </tr>\n",
              "    <tr>\n",
              "      <th>winddirDegree</th>\n",
              "      <td>0.513174</td>\n",
              "      <td>0.474924</td>\n",
              "      <td>0.359903</td>\n",
              "      <td>0.491858</td>\n",
              "      <td>0.310386</td>\n",
              "      <td>0.467586</td>\n",
              "      <td>0.465791</td>\n",
              "      <td>0.480221</td>\n",
              "      <td>0.006539</td>\n",
              "      <td>0.050383</td>\n",
              "      <td>0.006093</td>\n",
              "      <td>-0.477534</td>\n",
              "      <td>0.479656</td>\n",
              "      <td>-0.009787</td>\n",
              "      <td>1.000000</td>\n",
              "      <td>0.201528</td>\n",
              "    </tr>\n",
              "    <tr>\n",
              "      <th>windspeedKmph</th>\n",
              "      <td>0.357714</td>\n",
              "      <td>0.373023</td>\n",
              "      <td>0.368901</td>\n",
              "      <td>0.350071</td>\n",
              "      <td>0.526848</td>\n",
              "      <td>0.376617</td>\n",
              "      <td>0.381185</td>\n",
              "      <td>0.285677</td>\n",
              "      <td>0.068175</td>\n",
              "      <td>0.445409</td>\n",
              "      <td>0.008574</td>\n",
              "      <td>-0.471321</td>\n",
              "      <td>0.289563</td>\n",
              "      <td>-0.016293</td>\n",
              "      <td>0.201528</td>\n",
              "      <td>1.000000</td>\n",
              "    </tr>\n",
              "  </tbody>\n",
              "</table>\n",
              "</div>"
            ],
            "text/plain": [
              "               maxtempC  mintempC  ...  winddirDegree  windspeedKmph\n",
              "maxtempC       1.000000  0.928389  ...       0.513174       0.357714\n",
              "mintempC       0.928389  1.000000  ...       0.474924       0.373023\n",
              "sunHour        0.665552  0.600190  ...       0.359903       0.368901\n",
              "uvIndex        0.964626  0.933628  ...       0.491858       0.350071\n",
              "DewPointC      0.603253  0.731536  ...       0.310386       0.526848\n",
              "FeelsLikeC     0.861135  0.895907  ...       0.467586       0.376617\n",
              "HeatIndexC     0.859394  0.894597  ...       0.465791       0.381185\n",
              "WindChillC     0.871741  0.880391  ...       0.480221       0.285677\n",
              "cloudcover     0.054392  0.183185  ...       0.006539       0.068175\n",
              "humidity       0.076318  0.213079  ...       0.050383       0.445409\n",
              "precipMM       0.010121  0.062368  ...       0.006093       0.008574\n",
              "pressure      -0.838568 -0.851485  ...      -0.477534      -0.471321\n",
              "tempC          0.871710  0.880299  ...       0.479656       0.289563\n",
              "visibility    -0.000812 -0.064831  ...      -0.009787      -0.016293\n",
              "winddirDegree  0.513174  0.474924  ...       1.000000       0.201528\n",
              "windspeedKmph  0.357714  0.373023  ...       0.201528       1.000000\n",
              "\n",
              "[16 rows x 16 columns]"
            ]
          },
          "metadata": {
            "tags": []
          },
          "execution_count": 52
        }
      ]
    },
    {
      "cell_type": "code",
      "metadata": {
        "id": "dDrcrKgiVkA8",
        "outputId": "e9fb828e-7012-4e54-8858-d448b8bc57a8",
        "colab": {
          "base_uri": "https://localhost:8080/"
        }
      },
      "source": [
        "data.shape"
      ],
      "execution_count": 108,
      "outputs": [
        {
          "output_type": "execute_result",
          "data": {
            "text/plain": [
              "(17512, 16)"
            ]
          },
          "metadata": {
            "tags": []
          },
          "execution_count": 108
        }
      ]
    },
    {
      "cell_type": "code",
      "metadata": {
        "id": "aikFHUP2WLut",
        "outputId": "f7e556e3-65ee-45dd-d54a-e1a847090007",
        "colab": {
          "base_uri": "https://localhost:8080/"
        }
      },
      "source": [
        "print(data)"
      ],
      "execution_count": 109,
      "outputs": [
        {
          "output_type": "stream",
          "text": [
            "                     maxtempC  mintempC  ...  winddirDegree  windspeedKmph\n",
            "date_time                                ...                              \n",
            "2009-04-01 00:00:00      37.0      23.0  ...          236.0            7.0\n",
            "2009-04-01 06:00:00      37.0      23.0  ...          240.0            9.0\n",
            "2009-04-01 12:00:00      37.0      23.0  ...          267.0           19.0\n",
            "2009-04-01 18:00:00      37.0      23.0  ...          264.0            5.0\n",
            "2009-04-02 00:00:00      37.0      26.0  ...          214.0           13.0\n",
            "...                       ...       ...  ...            ...            ...\n",
            "2021-03-30 18:00:00      39.0      28.0  ...          318.0           30.0\n",
            "2021-03-31 00:00:00      37.0      25.0  ...          317.0           14.0\n",
            "2021-03-31 06:00:00      37.0      25.0  ...          300.0           17.0\n",
            "2021-03-31 12:00:00      37.0      25.0  ...          301.0           30.0\n",
            "2021-03-31 18:00:00      37.0      25.0  ...          298.0           30.0\n",
            "\n",
            "[17512 rows x 16 columns]\n"
          ],
          "name": "stdout"
        }
      ]
    },
    {
      "cell_type": "code",
      "metadata": {
        "colab": {
          "base_uri": "https://localhost:8080/",
          "height": 471
        },
        "id": "S2VsEfQnVD0l",
        "outputId": "a37d0203-5e21-4e68-cf68-45d2b135a5be"
      },
      "source": [
        "import matplotlib.pyplot as plt\n",
        "plt.figure(figsize=(35,15))\n",
        "plt.plot(data['windspeedKmph'])\n",
        "plt.xlabel('Year')\n",
        "plt.ylabel('WindSpeed')"
      ],
      "execution_count": 110,
      "outputs": [
        {
          "output_type": "execute_result",
          "data": {
            "text/plain": [
              "Text(0, 0.5, 'WindSpeed')"
            ]
          },
          "metadata": {
            "tags": []
          },
          "execution_count": 110
        },
        {
          "output_type": "display_data",
          "data": {
            "image/png": "[encoded data removed]",
            "text/plain": [
              "<Figure size 2520x1080 with 1 Axes>"
            ]
          },
          "metadata": {
            "tags": [],
            "needs_background": "light"
          }
        }
      ]
    },
    {
      "cell_type": "code",
      "metadata": {
        "id": "gNwtDQJtboFg"
      },
      "source": [
        "X1=data.copy()\n"
      ],
      "execution_count": 140,
      "outputs": []
    },
    {
      "cell_type": "code",
      "metadata": {
        "colab": {
          "base_uri": "https://localhost:8080/"
        },
        "id": "ArB04fxqdR1f",
        "outputId": "d758ca20-0f96-4598-a266-38526fc41b29"
      },
      "source": [
        "print(X1.shape)"
      ],
      "execution_count": 141,
      "outputs": [
        {
          "output_type": "stream",
          "text": [
            "(17512, 16)\n"
          ],
          "name": "stdout"
        }
      ]
    },
    {
      "cell_type": "code",
      "metadata": {
        "id": "WckZGAy5brB5"
      },
      "source": [
        "X1.drop(columns=['windspeedKmph'],inplace=True)\n"
      ],
      "execution_count": 142,
      "outputs": []
    },
    {
      "cell_type": "code",
      "metadata": {
        "colab": {
          "base_uri": "https://localhost:8080/"
        },
        "id": "r4TDxu3yb0Kr",
        "outputId": "df8f0a22-e9aa-479f-cd7b-dc7b85215560"
      },
      "source": [
        "Y1=data['windspeedKmph']\n",
        "print(Y1.shape)\n",
        "print(Y1.head())"
      ],
      "execution_count": 143,
      "outputs": [
        {
          "output_type": "stream",
          "text": [
            "(17512,)\n",
            "date_time\n",
            "2009-04-01 00:00:00     7.0\n",
            "2009-04-01 06:00:00     9.0\n",
            "2009-04-01 12:00:00    19.0\n",
            "2009-04-01 18:00:00     5.0\n",
            "2009-04-02 00:00:00    13.0\n",
            "Name: windspeedKmph, dtype: float64\n"
          ],
          "name": "stdout"
        }
      ]
    },
    {
      "cell_type": "code",
      "metadata": {
        "id": "AQ2_rJUtexSa"
      },
      "source": [
        "import numpy as np"
      ],
      "execution_count": 144,
      "outputs": []
    },
    {
      "cell_type": "code",
      "metadata": {
        "id": "ig0a1s3_YDhL"
      },
      "source": [
        "Y=np.array(Y1)"
      ],
      "execution_count": 145,
      "outputs": []
    },
    {
      "cell_type": "code",
      "metadata": {
        "id": "bV1KgHz9YaLL"
      },
      "source": [
        "X2=np.array(X1)"
      ],
      "execution_count": 146,
      "outputs": []
    },
    {
      "cell_type": "code",
      "metadata": {
        "id": "YohdZEaMYI9F"
      },
      "source": [
        "Y=Y.reshape(-1,1)"
      ],
      "execution_count": 147,
      "outputs": []
    },
    {
      "cell_type": "code",
      "metadata": {
        "id": "SDirZ6VEYMBC",
        "outputId": "398d1d4d-1aee-493b-9141-43ea967f555a",
        "colab": {
          "base_uri": "https://localhost:8080/"
        }
      },
      "source": [
        "print(Y.shape)"
      ],
      "execution_count": 148,
      "outputs": [
        {
          "output_type": "stream",
          "text": [
            "(17512, 1)\n"
          ],
          "name": "stdout"
        }
      ]
    },
    {
      "cell_type": "code",
      "metadata": {
        "id": "NBR8B2lSV7hq"
      },
      "source": [
        "\n",
        "from sklearn.preprocessing import MinMaxScaler\n",
        "# load data\n",
        "# create scaler\n",
        "scaler = MinMaxScaler()\n",
        "# fit scaler on data\n",
        "scaler.fit(X2)\n",
        "# apply transform\n",
        "X= scaler.transform(X2)\n",
        "# inverse transform\n"
      ],
      "execution_count": 149,
      "outputs": []
    },
    {
      "cell_type": "code",
      "metadata": {
        "id": "hdk-lYBrZArB",
        "outputId": "4dc59311-75de-45dd-8663-05c40c599663",
        "colab": {
          "base_uri": "https://localhost:8080/"
        }
      },
      "source": [
        "print(Y)"
      ],
      "execution_count": 150,
      "outputs": [
        {
          "output_type": "stream",
          "text": [
            "[[ 7.]\n",
            " [ 9.]\n",
            " [19.]\n",
            " ...\n",
            " [17.]\n",
            " [30.]\n",
            " [30.]]\n"
          ],
          "name": "stdout"
        }
      ]
    },
    {
      "cell_type": "code",
      "metadata": {
        "id": "ccCShTDnb4mG"
      },
      "source": [
        "import pandas as pd\n",
        "from sklearn import datasets, linear_model\n",
        "from sklearn.model_selection import train_test_split\n",
        "from matplotlib import pyplot as plt"
      ],
      "execution_count": 151,
      "outputs": []
    },
    {
      "cell_type": "code",
      "metadata": {
        "id": "AMBKWfaCb8xM"
      },
      "source": [
        "from sklearn.metrics import mean_absolute_error"
      ],
      "execution_count": 152,
      "outputs": []
    },
    {
      "cell_type": "code",
      "metadata": {
        "id": "ONe-SY96cBP-"
      },
      "source": [
        "def MAPE(Y_actual,Y_Predicted):\n",
        "    mape = np.mean(np.abs((Y_actual - Y_Predicted)/Y_actual))*100\n",
        "    return mape"
      ],
      "execution_count": 153,
      "outputs": []
    },
    {
      "cell_type": "code",
      "metadata": {
        "id": "4fSyARFccDk2"
      },
      "source": [
        "X_train,X_test,Y_train,Y_test=train_test_split(X,Y,test_size=.20,random_state=42)"
      ],
      "execution_count": 154,
      "outputs": []
    },
    {
      "cell_type": "code",
      "metadata": {
        "id": "MejxSyIle3KM"
      },
      "source": [
        "lm=linear_model.LinearRegression()\n",
        "model=lm.fit(X_train,Y_train)"
      ],
      "execution_count": 155,
      "outputs": []
    },
    {
      "cell_type": "code",
      "metadata": {
        "id": "WdwgBKgefJaJ"
      },
      "source": [
        "pred=lm.predict(X_test)"
      ],
      "execution_count": 156,
      "outputs": []
    },
    {
      "cell_type": "code",
      "metadata": {
        "colab": {
          "base_uri": "https://localhost:8080/"
        },
        "id": "pny-78VQfP13",
        "outputId": "08075e06-e0c7-432b-b27c-88d90cac290b"
      },
      "source": [
        "print(mean_absolute_error(pred,Y_test))"
      ],
      "execution_count": 157,
      "outputs": [
        {
          "output_type": "stream",
          "text": [
            "5.296092415600527\n"
          ],
          "name": "stdout"
        }
      ]
    },
    {
      "cell_type": "code",
      "metadata": {
        "id": "uuZXbjLGXQMs",
        "outputId": "d2917d6b-6e0a-49bd-a4ee-5960398858ac",
        "colab": {
          "base_uri": "https://localhost:8080/"
        }
      },
      "source": [
        "print(MAPE(Y_test,pred))"
      ],
      "execution_count": 158,
      "outputs": [
        {
          "output_type": "stream",
          "text": [
            "63.94357598132662\n"
          ],
          "name": "stdout"
        }
      ]
    },
    {
      "cell_type": "code",
      "metadata": {
        "id": "QKlFQTlLb4ay",
        "outputId": "271f1ea5-dbb7-49c1-d10a-0880989da64f",
        "colab": {
          "base_uri": "https://localhost:8080/",
          "height": 266
        }
      },
      "source": [
        "plt.plot(Y_test,label='actual')\n",
        "plt.plot(pred,label='Predicted')\n",
        "plt.legend()\n",
        "plt.show()"
      ],
      "execution_count": 159,
      "outputs": [
        {
          "output_type": "display_data",
          "data": {
            "image/png": "[encoded data removed]",
            "text/plain": [
              "<Figure size 432x288 with 1 Axes>"
            ]
          },
          "metadata": {
            "tags": [],
            "needs_background": "light"
          }
        }
      ]
    }
  ]
}