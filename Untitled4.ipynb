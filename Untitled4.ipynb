{
  "nbformat": 4,
  "nbformat_minor": 0,
  "metadata": {
    "colab": {
      "name": "Untitled4.ipynb",
      "provenance": [],
      "authorship_tag": "ABX9TyMBw4T04vTP+Qu8zmlqfSvz",
      "include_colab_link": true
    },
    "kernelspec": {
      "name": "python3",
      "display_name": "Python 3"
    },
    "language_info": {
      "name": "python"
    }
  },
  "cells": [
    {
      "cell_type": "markdown",
      "metadata": {
        "id": "view-in-github",
        "colab_type": "text"
      },
      "source": [
        "<a href=\"https://colab.research.google.com/github/Shonit262/ANNWindSpeed/blob/ANN/Untitled4.ipynb\" target=\"_parent\"><img src=\"https://colab.research.google.com/assets/colab-badge.svg\" alt=\"Open In Colab\"/></a>"
      ]
    },
    {
      "cell_type": "code",
      "metadata": {
        "colab": {
          "base_uri": "https://localhost:8080/"
        },
        "id": "31wzvsRE5puB",
        "outputId": "103f5d6d-7459-42dc-8c06-b5684d08d78b"
      },
      "source": [
        "pip install wwo-hist\n"
      ],
      "execution_count": 1,
      "outputs": [
        {
          "output_type": "stream",
          "text": [
            "Collecting wwo-hist\n",
            "  Downloading https://files.pythonhosted.org/packages/96/d2/823c1175988a910819a76bab7e01e6ae13b7af4fa2d40bd4fdf9165573e7/wwo_hist-0.0.7-py3-none-any.whl\n",
            "Installing collected packages: wwo-hist\n",
            "Successfully installed wwo-hist-0.0.7\n"
          ],
          "name": "stdout"
        }
      ]
    },
    {
      "cell_type": "code",
      "metadata": {
        "id": "kD9DcRW052gY"
      },
      "source": [
        "from wwo_hist import retrieve_hist_data"
      ],
      "execution_count": 2,
      "outputs": []
    },
    {
      "cell_type": "code",
      "metadata": {
        "id": "eyYVohByABKf"
      },
      "source": [
        "import pandas as pd"
      ],
      "execution_count": 3,
      "outputs": []
    },
    {
      "cell_type": "code",
      "metadata": {
        "id": "IsEQqmJyAe_C"
      },
      "source": [
        "data=pd.read_csv('jaisalmer-2.csv',index_col='date_time',parse_dates=True)"
      ],
      "execution_count": 4,
      "outputs": []
    },
    {
      "cell_type": "code",
      "metadata": {
        "id": "dDSLz8ZFXs8T"
      },
      "source": [
        "data=data[(data['windspeedKmph']!=0)]"
      ],
      "execution_count": 5,
      "outputs": []
    },
    {
      "cell_type": "code",
      "metadata": {
        "colab": {
          "base_uri": "https://localhost:8080/"
        },
        "id": "B1G8xZNlAjNk",
        "outputId": "fe8011f2-e303-4200-8ce3-5c134e81cd62"
      },
      "source": [
        "print(data.shape)\n"
      ],
      "execution_count": 6,
      "outputs": [
        {
          "output_type": "stream",
          "text": [
            "(17512, 24)\n"
          ],
          "name": "stdout"
        }
      ]
    },
    {
      "cell_type": "code",
      "metadata": {
        "id": "OTVozfHaXsSM"
      },
      "source": [
        ""
      ],
      "execution_count": 6,
      "outputs": []
    },
    {
      "cell_type": "code",
      "metadata": {
        "colab": {
          "base_uri": "https://localhost:8080/",
          "height": 340
        },
        "id": "RkVzAqS_LfpU",
        "outputId": "631a5837-93e7-4a22-c509-9775804d9578"
      },
      "source": [
        "data.head()"
      ],
      "execution_count": 7,
      "outputs": [
        {
          "output_type": "execute_result",
          "data": {
            "text/html": [
              "<div>\n",
              "<style scoped>\n",
              "    .dataframe tbody tr th:only-of-type {\n",
              "        vertical-align: middle;\n",
              "    }\n",
              "\n",
              "    .dataframe tbody tr th {\n",
              "        vertical-align: top;\n",
              "    }\n",
              "\n",
              "    .dataframe thead th {\n",
              "        text-align: right;\n",
              "    }\n",
              "</style>\n",
              "<table border=\"1\" class=\"dataframe\">\n",
              "  <thead>\n",
              "    <tr style=\"text-align: right;\">\n",
              "      <th></th>\n",
              "      <th>maxtempC</th>\n",
              "      <th>mintempC</th>\n",
              "      <th>totalSnow_cm</th>\n",
              "      <th>sunHour</th>\n",
              "      <th>uvIndex</th>\n",
              "      <th>moon_illumination</th>\n",
              "      <th>moonrise</th>\n",
              "      <th>moonset</th>\n",
              "      <th>sunrise</th>\n",
              "      <th>sunset</th>\n",
              "      <th>DewPointC</th>\n",
              "      <th>FeelsLikeC</th>\n",
              "      <th>HeatIndexC</th>\n",
              "      <th>WindChillC</th>\n",
              "      <th>WindGustKmph</th>\n",
              "      <th>cloudcover</th>\n",
              "      <th>humidity</th>\n",
              "      <th>precipMM</th>\n",
              "      <th>pressure</th>\n",
              "      <th>tempC</th>\n",
              "      <th>visibility</th>\n",
              "      <th>winddirDegree</th>\n",
              "      <th>windspeedKmph</th>\n",
              "      <th>location</th>\n",
              "    </tr>\n",
              "    <tr>\n",
              "      <th>date_time</th>\n",
              "      <th></th>\n",
              "      <th></th>\n",
              "      <th></th>\n",
              "      <th></th>\n",
              "      <th></th>\n",
              "      <th></th>\n",
              "      <th></th>\n",
              "      <th></th>\n",
              "      <th></th>\n",
              "      <th></th>\n",
              "      <th></th>\n",
              "      <th></th>\n",
              "      <th></th>\n",
              "      <th></th>\n",
              "      <th></th>\n",
              "      <th></th>\n",
              "      <th></th>\n",
              "      <th></th>\n",
              "      <th></th>\n",
              "      <th></th>\n",
              "      <th></th>\n",
              "      <th></th>\n",
              "      <th></th>\n",
              "      <th></th>\n",
              "    </tr>\n",
              "  </thead>\n",
              "  <tbody>\n",
              "    <tr>\n",
              "      <th>2009-04-01 00:00:00</th>\n",
              "      <td>37</td>\n",
              "      <td>23</td>\n",
              "      <td>0.0</td>\n",
              "      <td>11.6</td>\n",
              "      <td>8</td>\n",
              "      <td>42</td>\n",
              "      <td>10:39 AM</td>\n",
              "      <td>12:10 AM</td>\n",
              "      <td>06:37 AM</td>\n",
              "      <td>07:04 PM</td>\n",
              "      <td>7</td>\n",
              "      <td>25</td>\n",
              "      <td>25</td>\n",
              "      <td>24</td>\n",
              "      <td>15</td>\n",
              "      <td>32</td>\n",
              "      <td>32</td>\n",
              "      <td>0.0</td>\n",
              "      <td>1007</td>\n",
              "      <td>24</td>\n",
              "      <td>10</td>\n",
              "      <td>236</td>\n",
              "      <td>7</td>\n",
              "      <td>jaisalmer</td>\n",
              "    </tr>\n",
              "    <tr>\n",
              "      <th>2009-04-01 06:00:00</th>\n",
              "      <td>37</td>\n",
              "      <td>23</td>\n",
              "      <td>0.0</td>\n",
              "      <td>11.6</td>\n",
              "      <td>8</td>\n",
              "      <td>42</td>\n",
              "      <td>10:39 AM</td>\n",
              "      <td>12:10 AM</td>\n",
              "      <td>06:37 AM</td>\n",
              "      <td>07:04 PM</td>\n",
              "      <td>7</td>\n",
              "      <td>26</td>\n",
              "      <td>26</td>\n",
              "      <td>27</td>\n",
              "      <td>15</td>\n",
              "      <td>7</td>\n",
              "      <td>27</td>\n",
              "      <td>0.0</td>\n",
              "      <td>1009</td>\n",
              "      <td>27</td>\n",
              "      <td>10</td>\n",
              "      <td>240</td>\n",
              "      <td>9</td>\n",
              "      <td>jaisalmer</td>\n",
              "    </tr>\n",
              "    <tr>\n",
              "      <th>2009-04-01 12:00:00</th>\n",
              "      <td>37</td>\n",
              "      <td>23</td>\n",
              "      <td>0.0</td>\n",
              "      <td>11.6</td>\n",
              "      <td>8</td>\n",
              "      <td>42</td>\n",
              "      <td>10:39 AM</td>\n",
              "      <td>12:10 AM</td>\n",
              "      <td>06:37 AM</td>\n",
              "      <td>07:04 PM</td>\n",
              "      <td>5</td>\n",
              "      <td>36</td>\n",
              "      <td>36</td>\n",
              "      <td>37</td>\n",
              "      <td>22</td>\n",
              "      <td>6</td>\n",
              "      <td>14</td>\n",
              "      <td>0.0</td>\n",
              "      <td>1007</td>\n",
              "      <td>37</td>\n",
              "      <td>10</td>\n",
              "      <td>267</td>\n",
              "      <td>19</td>\n",
              "      <td>jaisalmer</td>\n",
              "    </tr>\n",
              "    <tr>\n",
              "      <th>2009-04-01 18:00:00</th>\n",
              "      <td>37</td>\n",
              "      <td>23</td>\n",
              "      <td>0.0</td>\n",
              "      <td>11.6</td>\n",
              "      <td>8</td>\n",
              "      <td>42</td>\n",
              "      <td>10:39 AM</td>\n",
              "      <td>12:10 AM</td>\n",
              "      <td>06:37 AM</td>\n",
              "      <td>07:04 PM</td>\n",
              "      <td>5</td>\n",
              "      <td>27</td>\n",
              "      <td>27</td>\n",
              "      <td>29</td>\n",
              "      <td>10</td>\n",
              "      <td>13</td>\n",
              "      <td>21</td>\n",
              "      <td>0.0</td>\n",
              "      <td>1007</td>\n",
              "      <td>29</td>\n",
              "      <td>10</td>\n",
              "      <td>264</td>\n",
              "      <td>5</td>\n",
              "      <td>jaisalmer</td>\n",
              "    </tr>\n",
              "    <tr>\n",
              "      <th>2009-04-02 00:00:00</th>\n",
              "      <td>37</td>\n",
              "      <td>26</td>\n",
              "      <td>0.0</td>\n",
              "      <td>11.6</td>\n",
              "      <td>8</td>\n",
              "      <td>50</td>\n",
              "      <td>11:44 AM</td>\n",
              "      <td>01:11 AM</td>\n",
              "      <td>06:36 AM</td>\n",
              "      <td>07:04 PM</td>\n",
              "      <td>5</td>\n",
              "      <td>25</td>\n",
              "      <td>25</td>\n",
              "      <td>27</td>\n",
              "      <td>26</td>\n",
              "      <td>20</td>\n",
              "      <td>24</td>\n",
              "      <td>0.0</td>\n",
              "      <td>1006</td>\n",
              "      <td>27</td>\n",
              "      <td>10</td>\n",
              "      <td>214</td>\n",
              "      <td>13</td>\n",
              "      <td>jaisalmer</td>\n",
              "    </tr>\n",
              "  </tbody>\n",
              "</table>\n",
              "</div>"
            ],
            "text/plain": [
              "                     maxtempC  mintempC  ...  windspeedKmph   location\n",
              "date_time                                ...                          \n",
              "2009-04-01 00:00:00        37        23  ...              7  jaisalmer\n",
              "2009-04-01 06:00:00        37        23  ...              9  jaisalmer\n",
              "2009-04-01 12:00:00        37        23  ...             19  jaisalmer\n",
              "2009-04-01 18:00:00        37        23  ...              5  jaisalmer\n",
              "2009-04-02 00:00:00        37        26  ...             13  jaisalmer\n",
              "\n",
              "[5 rows x 24 columns]"
            ]
          },
          "metadata": {
            "tags": []
          },
          "execution_count": 7
        }
      ]
    },
    {
      "cell_type": "code",
      "metadata": {
        "colab": {
          "base_uri": "https://localhost:8080/",
          "height": 658
        },
        "id": "7vzDf-P2P6qL",
        "outputId": "c650cfaf-7159-4e83-8c9d-4e89e99c073c"
      },
      "source": [
        "data.corr()"
      ],
      "execution_count": 8,
      "outputs": [
        {
          "output_type": "execute_result",
          "data": {
            "text/html": [
              "<div>\n",
              "<style scoped>\n",
              "    .dataframe tbody tr th:only-of-type {\n",
              "        vertical-align: middle;\n",
              "    }\n",
              "\n",
              "    .dataframe tbody tr th {\n",
              "        vertical-align: top;\n",
              "    }\n",
              "\n",
              "    .dataframe thead th {\n",
              "        text-align: right;\n",
              "    }\n",
              "</style>\n",
              "<table border=\"1\" class=\"dataframe\">\n",
              "  <thead>\n",
              "    <tr style=\"text-align: right;\">\n",
              "      <th></th>\n",
              "      <th>maxtempC</th>\n",
              "      <th>mintempC</th>\n",
              "      <th>totalSnow_cm</th>\n",
              "      <th>sunHour</th>\n",
              "      <th>uvIndex</th>\n",
              "      <th>moon_illumination</th>\n",
              "      <th>DewPointC</th>\n",
              "      <th>FeelsLikeC</th>\n",
              "      <th>HeatIndexC</th>\n",
              "      <th>WindChillC</th>\n",
              "      <th>WindGustKmph</th>\n",
              "      <th>cloudcover</th>\n",
              "      <th>humidity</th>\n",
              "      <th>precipMM</th>\n",
              "      <th>pressure</th>\n",
              "      <th>tempC</th>\n",
              "      <th>visibility</th>\n",
              "      <th>winddirDegree</th>\n",
              "      <th>windspeedKmph</th>\n",
              "    </tr>\n",
              "  </thead>\n",
              "  <tbody>\n",
              "    <tr>\n",
              "      <th>maxtempC</th>\n",
              "      <td>1.000000</td>\n",
              "      <td>0.928389</td>\n",
              "      <td>NaN</td>\n",
              "      <td>0.665552</td>\n",
              "      <td>0.964626</td>\n",
              "      <td>-0.016421</td>\n",
              "      <td>0.603253</td>\n",
              "      <td>0.861135</td>\n",
              "      <td>0.859394</td>\n",
              "      <td>0.871741</td>\n",
              "      <td>0.213937</td>\n",
              "      <td>0.054392</td>\n",
              "      <td>0.076318</td>\n",
              "      <td>0.010121</td>\n",
              "      <td>-0.838568</td>\n",
              "      <td>0.871710</td>\n",
              "      <td>-0.000812</td>\n",
              "      <td>0.513174</td>\n",
              "      <td>0.357714</td>\n",
              "    </tr>\n",
              "    <tr>\n",
              "      <th>mintempC</th>\n",
              "      <td>0.928389</td>\n",
              "      <td>1.000000</td>\n",
              "      <td>NaN</td>\n",
              "      <td>0.600190</td>\n",
              "      <td>0.933628</td>\n",
              "      <td>-0.020246</td>\n",
              "      <td>0.731536</td>\n",
              "      <td>0.895907</td>\n",
              "      <td>0.894597</td>\n",
              "      <td>0.880391</td>\n",
              "      <td>0.203843</td>\n",
              "      <td>0.183185</td>\n",
              "      <td>0.213079</td>\n",
              "      <td>0.062368</td>\n",
              "      <td>-0.851485</td>\n",
              "      <td>0.880299</td>\n",
              "      <td>-0.064831</td>\n",
              "      <td>0.474924</td>\n",
              "      <td>0.373023</td>\n",
              "    </tr>\n",
              "    <tr>\n",
              "      <th>totalSnow_cm</th>\n",
              "      <td>NaN</td>\n",
              "      <td>NaN</td>\n",
              "      <td>NaN</td>\n",
              "      <td>NaN</td>\n",
              "      <td>NaN</td>\n",
              "      <td>NaN</td>\n",
              "      <td>NaN</td>\n",
              "      <td>NaN</td>\n",
              "      <td>NaN</td>\n",
              "      <td>NaN</td>\n",
              "      <td>NaN</td>\n",
              "      <td>NaN</td>\n",
              "      <td>NaN</td>\n",
              "      <td>NaN</td>\n",
              "      <td>NaN</td>\n",
              "      <td>NaN</td>\n",
              "      <td>NaN</td>\n",
              "      <td>NaN</td>\n",
              "      <td>NaN</td>\n",
              "    </tr>\n",
              "    <tr>\n",
              "      <th>sunHour</th>\n",
              "      <td>0.665552</td>\n",
              "      <td>0.600190</td>\n",
              "      <td>NaN</td>\n",
              "      <td>1.000000</td>\n",
              "      <td>0.656771</td>\n",
              "      <td>0.002786</td>\n",
              "      <td>0.444191</td>\n",
              "      <td>0.584234</td>\n",
              "      <td>0.587387</td>\n",
              "      <td>0.572974</td>\n",
              "      <td>0.260144</td>\n",
              "      <td>-0.116770</td>\n",
              "      <td>0.096853</td>\n",
              "      <td>-0.042295</td>\n",
              "      <td>-0.631635</td>\n",
              "      <td>0.578068</td>\n",
              "      <td>0.051728</td>\n",
              "      <td>0.359903</td>\n",
              "      <td>0.368901</td>\n",
              "    </tr>\n",
              "    <tr>\n",
              "      <th>uvIndex</th>\n",
              "      <td>0.964626</td>\n",
              "      <td>0.933628</td>\n",
              "      <td>NaN</td>\n",
              "      <td>0.656771</td>\n",
              "      <td>1.000000</td>\n",
              "      <td>-0.017910</td>\n",
              "      <td>0.614857</td>\n",
              "      <td>0.853897</td>\n",
              "      <td>0.852310</td>\n",
              "      <td>0.862922</td>\n",
              "      <td>0.202884</td>\n",
              "      <td>0.034409</td>\n",
              "      <td>0.090422</td>\n",
              "      <td>-0.007391</td>\n",
              "      <td>-0.818671</td>\n",
              "      <td>0.863025</td>\n",
              "      <td>0.020183</td>\n",
              "      <td>0.491858</td>\n",
              "      <td>0.350071</td>\n",
              "    </tr>\n",
              "    <tr>\n",
              "      <th>moon_illumination</th>\n",
              "      <td>-0.016421</td>\n",
              "      <td>-0.020246</td>\n",
              "      <td>NaN</td>\n",
              "      <td>0.002786</td>\n",
              "      <td>-0.017910</td>\n",
              "      <td>1.000000</td>\n",
              "      <td>-0.017733</td>\n",
              "      <td>-0.019911</td>\n",
              "      <td>-0.020744</td>\n",
              "      <td>-0.017281</td>\n",
              "      <td>0.023253</td>\n",
              "      <td>-0.008346</td>\n",
              "      <td>0.000003</td>\n",
              "      <td>0.001311</td>\n",
              "      <td>-0.005245</td>\n",
              "      <td>-0.017666</td>\n",
              "      <td>-0.000606</td>\n",
              "      <td>0.020226</td>\n",
              "      <td>0.022922</td>\n",
              "    </tr>\n",
              "    <tr>\n",
              "      <th>DewPointC</th>\n",
              "      <td>0.603253</td>\n",
              "      <td>0.731536</td>\n",
              "      <td>NaN</td>\n",
              "      <td>0.444191</td>\n",
              "      <td>0.614857</td>\n",
              "      <td>-0.017733</td>\n",
              "      <td>1.000000</td>\n",
              "      <td>0.682805</td>\n",
              "      <td>0.685137</td>\n",
              "      <td>0.564419</td>\n",
              "      <td>0.340906</td>\n",
              "      <td>0.313157</td>\n",
              "      <td>0.747103</td>\n",
              "      <td>0.126199</td>\n",
              "      <td>-0.752158</td>\n",
              "      <td>0.565339</td>\n",
              "      <td>-0.140959</td>\n",
              "      <td>0.310386</td>\n",
              "      <td>0.526848</td>\n",
              "    </tr>\n",
              "    <tr>\n",
              "      <th>FeelsLikeC</th>\n",
              "      <td>0.861135</td>\n",
              "      <td>0.895907</td>\n",
              "      <td>NaN</td>\n",
              "      <td>0.584234</td>\n",
              "      <td>0.853897</td>\n",
              "      <td>-0.019911</td>\n",
              "      <td>0.682805</td>\n",
              "      <td>1.000000</td>\n",
              "      <td>0.999136</td>\n",
              "      <td>0.974456</td>\n",
              "      <td>0.119107</td>\n",
              "      <td>0.189967</td>\n",
              "      <td>0.095267</td>\n",
              "      <td>0.058980</td>\n",
              "      <td>-0.863449</td>\n",
              "      <td>0.974425</td>\n",
              "      <td>-0.061024</td>\n",
              "      <td>0.467586</td>\n",
              "      <td>0.376617</td>\n",
              "    </tr>\n",
              "    <tr>\n",
              "      <th>HeatIndexC</th>\n",
              "      <td>0.859394</td>\n",
              "      <td>0.894597</td>\n",
              "      <td>NaN</td>\n",
              "      <td>0.587387</td>\n",
              "      <td>0.852310</td>\n",
              "      <td>-0.020744</td>\n",
              "      <td>0.685137</td>\n",
              "      <td>0.999136</td>\n",
              "      <td>1.000000</td>\n",
              "      <td>0.971996</td>\n",
              "      <td>0.125069</td>\n",
              "      <td>0.190992</td>\n",
              "      <td>0.099527</td>\n",
              "      <td>0.059127</td>\n",
              "      <td>-0.865443</td>\n",
              "      <td>0.973135</td>\n",
              "      <td>-0.061200</td>\n",
              "      <td>0.465791</td>\n",
              "      <td>0.381185</td>\n",
              "    </tr>\n",
              "    <tr>\n",
              "      <th>WindChillC</th>\n",
              "      <td>0.871741</td>\n",
              "      <td>0.880391</td>\n",
              "      <td>NaN</td>\n",
              "      <td>0.572974</td>\n",
              "      <td>0.862922</td>\n",
              "      <td>-0.017281</td>\n",
              "      <td>0.564419</td>\n",
              "      <td>0.974456</td>\n",
              "      <td>0.971996</td>\n",
              "      <td>1.000000</td>\n",
              "      <td>0.042473</td>\n",
              "      <td>0.118093</td>\n",
              "      <td>-0.069876</td>\n",
              "      <td>0.027229</td>\n",
              "      <td>-0.798367</td>\n",
              "      <td>0.999310</td>\n",
              "      <td>-0.025915</td>\n",
              "      <td>0.480221</td>\n",
              "      <td>0.285677</td>\n",
              "    </tr>\n",
              "    <tr>\n",
              "      <th>WindGustKmph</th>\n",
              "      <td>0.213937</td>\n",
              "      <td>0.203843</td>\n",
              "      <td>NaN</td>\n",
              "      <td>0.260144</td>\n",
              "      <td>0.202884</td>\n",
              "      <td>0.023253</td>\n",
              "      <td>0.340906</td>\n",
              "      <td>0.119107</td>\n",
              "      <td>0.125069</td>\n",
              "      <td>0.042473</td>\n",
              "      <td>1.000000</td>\n",
              "      <td>0.001838</td>\n",
              "      <td>0.386713</td>\n",
              "      <td>0.028991</td>\n",
              "      <td>-0.287272</td>\n",
              "      <td>0.047722</td>\n",
              "      <td>-0.023404</td>\n",
              "      <td>0.083088</td>\n",
              "      <td>0.900374</td>\n",
              "    </tr>\n",
              "    <tr>\n",
              "      <th>cloudcover</th>\n",
              "      <td>0.054392</td>\n",
              "      <td>0.183185</td>\n",
              "      <td>NaN</td>\n",
              "      <td>-0.116770</td>\n",
              "      <td>0.034409</td>\n",
              "      <td>-0.008346</td>\n",
              "      <td>0.313157</td>\n",
              "      <td>0.189967</td>\n",
              "      <td>0.190992</td>\n",
              "      <td>0.118093</td>\n",
              "      <td>0.001838</td>\n",
              "      <td>1.000000</td>\n",
              "      <td>0.305748</td>\n",
              "      <td>0.240062</td>\n",
              "      <td>-0.223086</td>\n",
              "      <td>0.117902</td>\n",
              "      <td>-0.306282</td>\n",
              "      <td>0.006539</td>\n",
              "      <td>0.068175</td>\n",
              "    </tr>\n",
              "    <tr>\n",
              "      <th>humidity</th>\n",
              "      <td>0.076318</td>\n",
              "      <td>0.213079</td>\n",
              "      <td>NaN</td>\n",
              "      <td>0.096853</td>\n",
              "      <td>0.090422</td>\n",
              "      <td>0.000003</td>\n",
              "      <td>0.747103</td>\n",
              "      <td>0.095267</td>\n",
              "      <td>0.099527</td>\n",
              "      <td>-0.069876</td>\n",
              "      <td>0.386713</td>\n",
              "      <td>0.305748</td>\n",
              "      <td>1.000000</td>\n",
              "      <td>0.163332</td>\n",
              "      <td>-0.312979</td>\n",
              "      <td>-0.068713</td>\n",
              "      <td>-0.183176</td>\n",
              "      <td>0.050383</td>\n",
              "      <td>0.445409</td>\n",
              "    </tr>\n",
              "    <tr>\n",
              "      <th>precipMM</th>\n",
              "      <td>0.010121</td>\n",
              "      <td>0.062368</td>\n",
              "      <td>NaN</td>\n",
              "      <td>-0.042295</td>\n",
              "      <td>-0.007391</td>\n",
              "      <td>0.001311</td>\n",
              "      <td>0.126199</td>\n",
              "      <td>0.058980</td>\n",
              "      <td>0.059127</td>\n",
              "      <td>0.027229</td>\n",
              "      <td>0.028991</td>\n",
              "      <td>0.240062</td>\n",
              "      <td>0.163332</td>\n",
              "      <td>1.000000</td>\n",
              "      <td>-0.084932</td>\n",
              "      <td>0.026953</td>\n",
              "      <td>-0.653705</td>\n",
              "      <td>0.006093</td>\n",
              "      <td>0.008574</td>\n",
              "    </tr>\n",
              "    <tr>\n",
              "      <th>pressure</th>\n",
              "      <td>-0.838568</td>\n",
              "      <td>-0.851485</td>\n",
              "      <td>NaN</td>\n",
              "      <td>-0.631635</td>\n",
              "      <td>-0.818671</td>\n",
              "      <td>-0.005245</td>\n",
              "      <td>-0.752158</td>\n",
              "      <td>-0.863449</td>\n",
              "      <td>-0.865443</td>\n",
              "      <td>-0.798367</td>\n",
              "      <td>-0.287272</td>\n",
              "      <td>-0.223086</td>\n",
              "      <td>-0.312979</td>\n",
              "      <td>-0.084932</td>\n",
              "      <td>1.000000</td>\n",
              "      <td>-0.800955</td>\n",
              "      <td>0.092039</td>\n",
              "      <td>-0.477534</td>\n",
              "      <td>-0.471321</td>\n",
              "    </tr>\n",
              "    <tr>\n",
              "      <th>tempC</th>\n",
              "      <td>0.871710</td>\n",
              "      <td>0.880299</td>\n",
              "      <td>NaN</td>\n",
              "      <td>0.578068</td>\n",
              "      <td>0.863025</td>\n",
              "      <td>-0.017666</td>\n",
              "      <td>0.565339</td>\n",
              "      <td>0.974425</td>\n",
              "      <td>0.973135</td>\n",
              "      <td>0.999310</td>\n",
              "      <td>0.047722</td>\n",
              "      <td>0.117902</td>\n",
              "      <td>-0.068713</td>\n",
              "      <td>0.026953</td>\n",
              "      <td>-0.800955</td>\n",
              "      <td>1.000000</td>\n",
              "      <td>-0.025714</td>\n",
              "      <td>0.479656</td>\n",
              "      <td>0.289563</td>\n",
              "    </tr>\n",
              "    <tr>\n",
              "      <th>visibility</th>\n",
              "      <td>-0.000812</td>\n",
              "      <td>-0.064831</td>\n",
              "      <td>NaN</td>\n",
              "      <td>0.051728</td>\n",
              "      <td>0.020183</td>\n",
              "      <td>-0.000606</td>\n",
              "      <td>-0.140959</td>\n",
              "      <td>-0.061024</td>\n",
              "      <td>-0.061200</td>\n",
              "      <td>-0.025915</td>\n",
              "      <td>-0.023404</td>\n",
              "      <td>-0.306282</td>\n",
              "      <td>-0.183176</td>\n",
              "      <td>-0.653705</td>\n",
              "      <td>0.092039</td>\n",
              "      <td>-0.025714</td>\n",
              "      <td>1.000000</td>\n",
              "      <td>-0.009787</td>\n",
              "      <td>-0.016293</td>\n",
              "    </tr>\n",
              "    <tr>\n",
              "      <th>winddirDegree</th>\n",
              "      <td>0.513174</td>\n",
              "      <td>0.474924</td>\n",
              "      <td>NaN</td>\n",
              "      <td>0.359903</td>\n",
              "      <td>0.491858</td>\n",
              "      <td>0.020226</td>\n",
              "      <td>0.310386</td>\n",
              "      <td>0.467586</td>\n",
              "      <td>0.465791</td>\n",
              "      <td>0.480221</td>\n",
              "      <td>0.083088</td>\n",
              "      <td>0.006539</td>\n",
              "      <td>0.050383</td>\n",
              "      <td>0.006093</td>\n",
              "      <td>-0.477534</td>\n",
              "      <td>0.479656</td>\n",
              "      <td>-0.009787</td>\n",
              "      <td>1.000000</td>\n",
              "      <td>0.201528</td>\n",
              "    </tr>\n",
              "    <tr>\n",
              "      <th>windspeedKmph</th>\n",
              "      <td>0.357714</td>\n",
              "      <td>0.373023</td>\n",
              "      <td>NaN</td>\n",
              "      <td>0.368901</td>\n",
              "      <td>0.350071</td>\n",
              "      <td>0.022922</td>\n",
              "      <td>0.526848</td>\n",
              "      <td>0.376617</td>\n",
              "      <td>0.381185</td>\n",
              "      <td>0.285677</td>\n",
              "      <td>0.900374</td>\n",
              "      <td>0.068175</td>\n",
              "      <td>0.445409</td>\n",
              "      <td>0.008574</td>\n",
              "      <td>-0.471321</td>\n",
              "      <td>0.289563</td>\n",
              "      <td>-0.016293</td>\n",
              "      <td>0.201528</td>\n",
              "      <td>1.000000</td>\n",
              "    </tr>\n",
              "  </tbody>\n",
              "</table>\n",
              "</div>"
            ],
            "text/plain": [
              "                   maxtempC  mintempC  ...  winddirDegree  windspeedKmph\n",
              "maxtempC           1.000000  0.928389  ...       0.513174       0.357714\n",
              "mintempC           0.928389  1.000000  ...       0.474924       0.373023\n",
              "totalSnow_cm            NaN       NaN  ...            NaN            NaN\n",
              "sunHour            0.665552  0.600190  ...       0.359903       0.368901\n",
              "uvIndex            0.964626  0.933628  ...       0.491858       0.350071\n",
              "moon_illumination -0.016421 -0.020246  ...       0.020226       0.022922\n",
              "DewPointC          0.603253  0.731536  ...       0.310386       0.526848\n",
              "FeelsLikeC         0.861135  0.895907  ...       0.467586       0.376617\n",
              "HeatIndexC         0.859394  0.894597  ...       0.465791       0.381185\n",
              "WindChillC         0.871741  0.880391  ...       0.480221       0.285677\n",
              "WindGustKmph       0.213937  0.203843  ...       0.083088       0.900374\n",
              "cloudcover         0.054392  0.183185  ...       0.006539       0.068175\n",
              "humidity           0.076318  0.213079  ...       0.050383       0.445409\n",
              "precipMM           0.010121  0.062368  ...       0.006093       0.008574\n",
              "pressure          -0.838568 -0.851485  ...      -0.477534      -0.471321\n",
              "tempC              0.871710  0.880299  ...       0.479656       0.289563\n",
              "visibility        -0.000812 -0.064831  ...      -0.009787      -0.016293\n",
              "winddirDegree      0.513174  0.474924  ...       1.000000       0.201528\n",
              "windspeedKmph      0.357714  0.373023  ...       0.201528       1.000000\n",
              "\n",
              "[19 rows x 19 columns]"
            ]
          },
          "metadata": {
            "tags": []
          },
          "execution_count": 8
        }
      ]
    },
    {
      "cell_type": "code",
      "metadata": {
        "id": "dYMT8tf2N1FE"
      },
      "source": [
        "data.drop(columns=['sunrise','sunset','moonrise','moonset','WindGustKmph','moon_illumination','totalSnow_cm','location'],inplace=True)"
      ],
      "execution_count": 9,
      "outputs": []
    },
    {
      "cell_type": "code",
      "metadata": {
        "id": "KaZDUpquaE_f"
      },
      "source": [
        "data=data[(data['windspeedKmph']!=0)]"
      ],
      "execution_count": 10,
      "outputs": []
    },
    {
      "cell_type": "code",
      "metadata": {
        "colab": {
          "base_uri": "https://localhost:8080/"
        },
        "id": "VlroAYsyODPL",
        "outputId": "03736257-2fd5-41d8-9103-3d47a03896bc"
      },
      "source": [
        "data.dtypes"
      ],
      "execution_count": 11,
      "outputs": [
        {
          "output_type": "execute_result",
          "data": {
            "text/plain": [
              "maxtempC           int64\n",
              "mintempC           int64\n",
              "sunHour          float64\n",
              "uvIndex            int64\n",
              "DewPointC          int64\n",
              "FeelsLikeC         int64\n",
              "HeatIndexC         int64\n",
              "WindChillC         int64\n",
              "cloudcover         int64\n",
              "humidity           int64\n",
              "precipMM         float64\n",
              "pressure           int64\n",
              "tempC              int64\n",
              "visibility         int64\n",
              "winddirDegree      int64\n",
              "windspeedKmph      int64\n",
              "dtype: object"
            ]
          },
          "metadata": {
            "tags": []
          },
          "execution_count": 11
        }
      ]
    },
    {
      "cell_type": "code",
      "metadata": {
        "colab": {
          "base_uri": "https://localhost:8080/"
        },
        "id": "mbhr4p0cSrgL",
        "outputId": "0792acaa-feb3-433c-f5bd-8e53e4e59af1"
      },
      "source": [
        "s = (data.dtypes == 'int64')\n",
        "int_data = list(s[s].index)\n",
        "\n",
        "print(\"integer data type\")\n",
        "print(int_data)\n"
      ],
      "execution_count": 12,
      "outputs": [
        {
          "output_type": "stream",
          "text": [
            "integer data type\n",
            "['maxtempC', 'mintempC', 'uvIndex', 'DewPointC', 'FeelsLikeC', 'HeatIndexC', 'WindChillC', 'cloudcover', 'humidity', 'pressure', 'tempC', 'visibility', 'winddirDegree', 'windspeedKmph']\n"
          ],
          "name": "stdout"
        }
      ]
    },
    {
      "cell_type": "code",
      "metadata": {
        "id": "EZFIN4fFTM6M"
      },
      "source": [
        "for col in int_data:\n",
        "    data[col]=data[col].astype(float)"
      ],
      "execution_count": 13,
      "outputs": []
    },
    {
      "cell_type": "code",
      "metadata": {
        "colab": {
          "base_uri": "https://localhost:8080/"
        },
        "id": "k4QS-UQBPSFr",
        "outputId": "59a7146e-14ef-4e72-841a-a2cef3853d18"
      },
      "source": [
        "missing=data.isnull().sum()\n",
        "print(missing[missing>0])"
      ],
      "execution_count": 14,
      "outputs": [
        {
          "output_type": "stream",
          "text": [
            "Series([], dtype: int64)\n"
          ],
          "name": "stdout"
        }
      ]
    },
    {
      "cell_type": "code",
      "metadata": {
        "colab": {
          "base_uri": "https://localhost:8080/",
          "height": 565
        },
        "id": "1o6TUclNPbSD",
        "outputId": "50556680-39d4-4c44-b86d-440b0f57e46c"
      },
      "source": [
        "data.corr()"
      ],
      "execution_count": 15,
      "outputs": [
        {
          "output_type": "execute_result",
          "data": {
            "text/html": [
              "<div>\n",
              "<style scoped>\n",
              "    .dataframe tbody tr th:only-of-type {\n",
              "        vertical-align: middle;\n",
              "    }\n",
              "\n",
              "    .dataframe tbody tr th {\n",
              "        vertical-align: top;\n",
              "    }\n",
              "\n",
              "    .dataframe thead th {\n",
              "        text-align: right;\n",
              "    }\n",
              "</style>\n",
              "<table border=\"1\" class=\"dataframe\">\n",
              "  <thead>\n",
              "    <tr style=\"text-align: right;\">\n",
              "      <th></th>\n",
              "      <th>maxtempC</th>\n",
              "      <th>mintempC</th>\n",
              "      <th>sunHour</th>\n",
              "      <th>uvIndex</th>\n",
              "      <th>DewPointC</th>\n",
              "      <th>FeelsLikeC</th>\n",
              "      <th>HeatIndexC</th>\n",
              "      <th>WindChillC</th>\n",
              "      <th>cloudcover</th>\n",
              "      <th>humidity</th>\n",
              "      <th>precipMM</th>\n",
              "      <th>pressure</th>\n",
              "      <th>tempC</th>\n",
              "      <th>visibility</th>\n",
              "      <th>winddirDegree</th>\n",
              "      <th>windspeedKmph</th>\n",
              "    </tr>\n",
              "  </thead>\n",
              "  <tbody>\n",
              "    <tr>\n",
              "      <th>maxtempC</th>\n",
              "      <td>1.000000</td>\n",
              "      <td>0.928389</td>\n",
              "      <td>0.665552</td>\n",
              "      <td>0.964626</td>\n",
              "      <td>0.603253</td>\n",
              "      <td>0.861135</td>\n",
              "      <td>0.859394</td>\n",
              "      <td>0.871741</td>\n",
              "      <td>0.054392</td>\n",
              "      <td>0.076318</td>\n",
              "      <td>0.010121</td>\n",
              "      <td>-0.838568</td>\n",
              "      <td>0.871710</td>\n",
              "      <td>-0.000812</td>\n",
              "      <td>0.513174</td>\n",
              "      <td>0.357714</td>\n",
              "    </tr>\n",
              "    <tr>\n",
              "      <th>mintempC</th>\n",
              "      <td>0.928389</td>\n",
              "      <td>1.000000</td>\n",
              "      <td>0.600190</td>\n",
              "      <td>0.933628</td>\n",
              "      <td>0.731536</td>\n",
              "      <td>0.895907</td>\n",
              "      <td>0.894597</td>\n",
              "      <td>0.880391</td>\n",
              "      <td>0.183185</td>\n",
              "      <td>0.213079</td>\n",
              "      <td>0.062368</td>\n",
              "      <td>-0.851485</td>\n",
              "      <td>0.880299</td>\n",
              "      <td>-0.064831</td>\n",
              "      <td>0.474924</td>\n",
              "      <td>0.373023</td>\n",
              "    </tr>\n",
              "    <tr>\n",
              "      <th>sunHour</th>\n",
              "      <td>0.665552</td>\n",
              "      <td>0.600190</td>\n",
              "      <td>1.000000</td>\n",
              "      <td>0.656771</td>\n",
              "      <td>0.444191</td>\n",
              "      <td>0.584234</td>\n",
              "      <td>0.587387</td>\n",
              "      <td>0.572974</td>\n",
              "      <td>-0.116770</td>\n",
              "      <td>0.096853</td>\n",
              "      <td>-0.042295</td>\n",
              "      <td>-0.631635</td>\n",
              "      <td>0.578068</td>\n",
              "      <td>0.051728</td>\n",
              "      <td>0.359903</td>\n",
              "      <td>0.368901</td>\n",
              "    </tr>\n",
              "    <tr>\n",
              "      <th>uvIndex</th>\n",
              "      <td>0.964626</td>\n",
              "      <td>0.933628</td>\n",
              "      <td>0.656771</td>\n",
              "      <td>1.000000</td>\n",
              "      <td>0.614857</td>\n",
              "      <td>0.853897</td>\n",
              "      <td>0.852310</td>\n",
              "      <td>0.862922</td>\n",
              "      <td>0.034409</td>\n",
              "      <td>0.090422</td>\n",
              "      <td>-0.007391</td>\n",
              "      <td>-0.818671</td>\n",
              "      <td>0.863025</td>\n",
              "      <td>0.020183</td>\n",
              "      <td>0.491858</td>\n",
              "      <td>0.350071</td>\n",
              "    </tr>\n",
              "    <tr>\n",
              "      <th>DewPointC</th>\n",
              "      <td>0.603253</td>\n",
              "      <td>0.731536</td>\n",
              "      <td>0.444191</td>\n",
              "      <td>0.614857</td>\n",
              "      <td>1.000000</td>\n",
              "      <td>0.682805</td>\n",
              "      <td>0.685137</td>\n",
              "      <td>0.564419</td>\n",
              "      <td>0.313157</td>\n",
              "      <td>0.747103</td>\n",
              "      <td>0.126199</td>\n",
              "      <td>-0.752158</td>\n",
              "      <td>0.565339</td>\n",
              "      <td>-0.140959</td>\n",
              "      <td>0.310386</td>\n",
              "      <td>0.526848</td>\n",
              "    </tr>\n",
              "    <tr>\n",
              "      <th>FeelsLikeC</th>\n",
              "      <td>0.861135</td>\n",
              "      <td>0.895907</td>\n",
              "      <td>0.584234</td>\n",
              "      <td>0.853897</td>\n",
              "      <td>0.682805</td>\n",
              "      <td>1.000000</td>\n",
              "      <td>0.999136</td>\n",
              "      <td>0.974456</td>\n",
              "      <td>0.189967</td>\n",
              "      <td>0.095267</td>\n",
              "      <td>0.058980</td>\n",
              "      <td>-0.863449</td>\n",
              "      <td>0.974425</td>\n",
              "      <td>-0.061024</td>\n",
              "      <td>0.467586</td>\n",
              "      <td>0.376617</td>\n",
              "    </tr>\n",
              "    <tr>\n",
              "      <th>HeatIndexC</th>\n",
              "      <td>0.859394</td>\n",
              "      <td>0.894597</td>\n",
              "      <td>0.587387</td>\n",
              "      <td>0.852310</td>\n",
              "      <td>0.685137</td>\n",
              "      <td>0.999136</td>\n",
              "      <td>1.000000</td>\n",
              "      <td>0.971996</td>\n",
              "      <td>0.190992</td>\n",
              "      <td>0.099527</td>\n",
              "      <td>0.059127</td>\n",
              "      <td>-0.865443</td>\n",
              "      <td>0.973135</td>\n",
              "      <td>-0.061200</td>\n",
              "      <td>0.465791</td>\n",
              "      <td>0.381185</td>\n",
              "    </tr>\n",
              "    <tr>\n",
              "      <th>WindChillC</th>\n",
              "      <td>0.871741</td>\n",
              "      <td>0.880391</td>\n",
              "      <td>0.572974</td>\n",
              "      <td>0.862922</td>\n",
              "      <td>0.564419</td>\n",
              "      <td>0.974456</td>\n",
              "      <td>0.971996</td>\n",
              "      <td>1.000000</td>\n",
              "      <td>0.118093</td>\n",
              "      <td>-0.069876</td>\n",
              "      <td>0.027229</td>\n",
              "      <td>-0.798367</td>\n",
              "      <td>0.999310</td>\n",
              "      <td>-0.025915</td>\n",
              "      <td>0.480221</td>\n",
              "      <td>0.285677</td>\n",
              "    </tr>\n",
              "    <tr>\n",
              "      <th>cloudcover</th>\n",
              "      <td>0.054392</td>\n",
              "      <td>0.183185</td>\n",
              "      <td>-0.116770</td>\n",
              "      <td>0.034409</td>\n",
              "      <td>0.313157</td>\n",
              "      <td>0.189967</td>\n",
              "      <td>0.190992</td>\n",
              "      <td>0.118093</td>\n",
              "      <td>1.000000</td>\n",
              "      <td>0.305748</td>\n",
              "      <td>0.240062</td>\n",
              "      <td>-0.223086</td>\n",
              "      <td>0.117902</td>\n",
              "      <td>-0.306282</td>\n",
              "      <td>0.006539</td>\n",
              "      <td>0.068175</td>\n",
              "    </tr>\n",
              "    <tr>\n",
              "      <th>humidity</th>\n",
              "      <td>0.076318</td>\n",
              "      <td>0.213079</td>\n",
              "      <td>0.096853</td>\n",
              "      <td>0.090422</td>\n",
              "      <td>0.747103</td>\n",
              "      <td>0.095267</td>\n",
              "      <td>0.099527</td>\n",
              "      <td>-0.069876</td>\n",
              "      <td>0.305748</td>\n",
              "      <td>1.000000</td>\n",
              "      <td>0.163332</td>\n",
              "      <td>-0.312979</td>\n",
              "      <td>-0.068713</td>\n",
              "      <td>-0.183176</td>\n",
              "      <td>0.050383</td>\n",
              "      <td>0.445409</td>\n",
              "    </tr>\n",
              "    <tr>\n",
              "      <th>precipMM</th>\n",
              "      <td>0.010121</td>\n",
              "      <td>0.062368</td>\n",
              "      <td>-0.042295</td>\n",
              "      <td>-0.007391</td>\n",
              "      <td>0.126199</td>\n",
              "      <td>0.058980</td>\n",
              "      <td>0.059127</td>\n",
              "      <td>0.027229</td>\n",
              "      <td>0.240062</td>\n",
              "      <td>0.163332</td>\n",
              "      <td>1.000000</td>\n",
              "      <td>-0.084932</td>\n",
              "      <td>0.026953</td>\n",
              "      <td>-0.653705</td>\n",
              "      <td>0.006093</td>\n",
              "      <td>0.008574</td>\n",
              "    </tr>\n",
              "    <tr>\n",
              "      <th>pressure</th>\n",
              "      <td>-0.838568</td>\n",
              "      <td>-0.851485</td>\n",
              "      <td>-0.631635</td>\n",
              "      <td>-0.818671</td>\n",
              "      <td>-0.752158</td>\n",
              "      <td>-0.863449</td>\n",
              "      <td>-0.865443</td>\n",
              "      <td>-0.798367</td>\n",
              "      <td>-0.223086</td>\n",
              "      <td>-0.312979</td>\n",
              "      <td>-0.084932</td>\n",
              "      <td>1.000000</td>\n",
              "      <td>-0.800955</td>\n",
              "      <td>0.092039</td>\n",
              "      <td>-0.477534</td>\n",
              "      <td>-0.471321</td>\n",
              "    </tr>\n",
              "    <tr>\n",
              "      <th>tempC</th>\n",
              "      <td>0.871710</td>\n",
              "      <td>0.880299</td>\n",
              "      <td>0.578068</td>\n",
              "      <td>0.863025</td>\n",
              "      <td>0.565339</td>\n",
              "      <td>0.974425</td>\n",
              "      <td>0.973135</td>\n",
              "      <td>0.999310</td>\n",
              "      <td>0.117902</td>\n",
              "      <td>-0.068713</td>\n",
              "      <td>0.026953</td>\n",
              "      <td>-0.800955</td>\n",
              "      <td>1.000000</td>\n",
              "      <td>-0.025714</td>\n",
              "      <td>0.479656</td>\n",
              "      <td>0.289563</td>\n",
              "    </tr>\n",
              "    <tr>\n",
              "      <th>visibility</th>\n",
              "      <td>-0.000812</td>\n",
              "      <td>-0.064831</td>\n",
              "      <td>0.051728</td>\n",
              "      <td>0.020183</td>\n",
              "      <td>-0.140959</td>\n",
              "      <td>-0.061024</td>\n",
              "      <td>-0.061200</td>\n",
              "      <td>-0.025915</td>\n",
              "      <td>-0.306282</td>\n",
              "      <td>-0.183176</td>\n",
              "      <td>-0.653705</td>\n",
              "      <td>0.092039</td>\n",
              "      <td>-0.025714</td>\n",
              "      <td>1.000000</td>\n",
              "      <td>-0.009787</td>\n",
              "      <td>-0.016293</td>\n",
              "    </tr>\n",
              "    <tr>\n",
              "      <th>winddirDegree</th>\n",
              "      <td>0.513174</td>\n",
              "      <td>0.474924</td>\n",
              "      <td>0.359903</td>\n",
              "      <td>0.491858</td>\n",
              "      <td>0.310386</td>\n",
              "      <td>0.467586</td>\n",
              "      <td>0.465791</td>\n",
              "      <td>0.480221</td>\n",
              "      <td>0.006539</td>\n",
              "      <td>0.050383</td>\n",
              "      <td>0.006093</td>\n",
              "      <td>-0.477534</td>\n",
              "      <td>0.479656</td>\n",
              "      <td>-0.009787</td>\n",
              "      <td>1.000000</td>\n",
              "      <td>0.201528</td>\n",
              "    </tr>\n",
              "    <tr>\n",
              "      <th>windspeedKmph</th>\n",
              "      <td>0.357714</td>\n",
              "      <td>0.373023</td>\n",
              "      <td>0.368901</td>\n",
              "      <td>0.350071</td>\n",
              "      <td>0.526848</td>\n",
              "      <td>0.376617</td>\n",
              "      <td>0.381185</td>\n",
              "      <td>0.285677</td>\n",
              "      <td>0.068175</td>\n",
              "      <td>0.445409</td>\n",
              "      <td>0.008574</td>\n",
              "      <td>-0.471321</td>\n",
              "      <td>0.289563</td>\n",
              "      <td>-0.016293</td>\n",
              "      <td>0.201528</td>\n",
              "      <td>1.000000</td>\n",
              "    </tr>\n",
              "  </tbody>\n",
              "</table>\n",
              "</div>"
            ],
            "text/plain": [
              "               maxtempC  mintempC  ...  winddirDegree  windspeedKmph\n",
              "maxtempC       1.000000  0.928389  ...       0.513174       0.357714\n",
              "mintempC       0.928389  1.000000  ...       0.474924       0.373023\n",
              "sunHour        0.665552  0.600190  ...       0.359903       0.368901\n",
              "uvIndex        0.964626  0.933628  ...       0.491858       0.350071\n",
              "DewPointC      0.603253  0.731536  ...       0.310386       0.526848\n",
              "FeelsLikeC     0.861135  0.895907  ...       0.467586       0.376617\n",
              "HeatIndexC     0.859394  0.894597  ...       0.465791       0.381185\n",
              "WindChillC     0.871741  0.880391  ...       0.480221       0.285677\n",
              "cloudcover     0.054392  0.183185  ...       0.006539       0.068175\n",
              "humidity       0.076318  0.213079  ...       0.050383       0.445409\n",
              "precipMM       0.010121  0.062368  ...       0.006093       0.008574\n",
              "pressure      -0.838568 -0.851485  ...      -0.477534      -0.471321\n",
              "tempC          0.871710  0.880299  ...       0.479656       0.289563\n",
              "visibility    -0.000812 -0.064831  ...      -0.009787      -0.016293\n",
              "winddirDegree  0.513174  0.474924  ...       1.000000       0.201528\n",
              "windspeedKmph  0.357714  0.373023  ...       0.201528       1.000000\n",
              "\n",
              "[16 rows x 16 columns]"
            ]
          },
          "metadata": {
            "tags": []
          },
          "execution_count": 15
        }
      ]
    },
    {
      "cell_type": "code",
      "metadata": {
        "colab": {
          "base_uri": "https://localhost:8080/",
          "height": 471
        },
        "id": "S2VsEfQnVD0l",
        "outputId": "561d54f5-f535-4605-e810-d64aeb369e98"
      },
      "source": [
        "import matplotlib.pyplot as plt\n",
        "plt.figure(figsize=(35,15))\n",
        "plt.plot(data['windspeedKmph'])\n",
        "plt.xlabel('Year')\n",
        "plt.ylabel('WindSpeed')"
      ],
      "execution_count": 16,
      "outputs": [
        {
          "output_type": "execute_result",
          "data": {
            "text/plain": [
              "Text(0, 0.5, 'WindSpeed')"
            ]
          },
          "metadata": {
            "tags": []
          },
          "execution_count": 16
        },
        {
          "output_type": "display_data",
          "data": {
            "image/png": "[encoded data removed]",
            "text/plain": [
              "<Figure size 2520x1080 with 1 Axes>"
            ]
          },
          "metadata": {
            "tags": [],
            "needs_background": "light"
          }
        }
      ]
    },
    {
      "cell_type": "code",
      "metadata": {
        "id": "gNwtDQJtboFg"
      },
      "source": [
        "X1=data.copy()\n"
      ],
      "execution_count": 17,
      "outputs": []
    },
    {
      "cell_type": "code",
      "metadata": {
        "colab": {
          "base_uri": "https://localhost:8080/"
        },
        "id": "ArB04fxqdR1f",
        "outputId": "94959917-8b45-4294-dc11-4db455ff4647"
      },
      "source": [
        "print(X1.shape)"
      ],
      "execution_count": 18,
      "outputs": [
        {
          "output_type": "stream",
          "text": [
            "(17512, 16)\n"
          ],
          "name": "stdout"
        }
      ]
    },
    {
      "cell_type": "code",
      "metadata": {
        "id": "WckZGAy5brB5"
      },
      "source": [
        "X1.drop(columns=['windspeedKmph'],inplace=True)\n"
      ],
      "execution_count": 19,
      "outputs": []
    },
    {
      "cell_type": "code",
      "metadata": {
        "colab": {
          "base_uri": "https://localhost:8080/"
        },
        "id": "r4TDxu3yb0Kr",
        "outputId": "68d25542-3da4-416b-c410-fd566ecd2f7e"
      },
      "source": [
        "Y1=data['windspeedKmph']\n",
        "print(Y1.shape)\n",
        "print(Y1.head())\n"
      ],
      "execution_count": 20,
      "outputs": [
        {
          "output_type": "stream",
          "text": [
            "(17512,)\n",
            "date_time\n",
            "2009-04-01 00:00:00     7.0\n",
            "2009-04-01 06:00:00     9.0\n",
            "2009-04-01 12:00:00    19.0\n",
            "2009-04-01 18:00:00     5.0\n",
            "2009-04-02 00:00:00    13.0\n",
            "Name: windspeedKmph, dtype: float64\n"
          ],
          "name": "stdout"
        }
      ]
    },
    {
      "cell_type": "code",
      "metadata": {
        "id": "AQ2_rJUtexSa"
      },
      "source": [
        "import numpy as np"
      ],
      "execution_count": 21,
      "outputs": []
    },
    {
      "cell_type": "code",
      "metadata": {
        "id": "_smuw6RVcmIX"
      },
      "source": [
        "X=np.array(X1)\n",
        "Y=np.array(Y1)"
      ],
      "execution_count": 22,
      "outputs": []
    },
    {
      "cell_type": "code",
      "metadata": {
        "id": "YyYC7VgaaVrK"
      },
      "source": [
        "\n",
        "from sklearn.preprocessing import MinMaxScaler\n",
        "# load data\n",
        "# create scaler\n",
        "scaler = MinMaxScaler()\n",
        "# fit scaler on data\n",
        "scaler.fit(X)\n",
        "# apply transform\n",
        "X= scaler.transform(X)"
      ],
      "execution_count": 23,
      "outputs": []
    },
    {
      "cell_type": "code",
      "metadata": {
        "id": "SMPJOy4ZaSyR"
      },
      "source": [
        "Y=Y.reshape(-1,1)"
      ],
      "execution_count": 48,
      "outputs": []
    },
    {
      "cell_type": "code",
      "metadata": {
        "id": "P_jwSdjWFR22",
        "outputId": "9a0d7b4e-5922-469b-c2d5-cd4a403b67c9",
        "colab": {
          "base_uri": "https://localhost:8080/"
        }
      },
      "source": [
        "print(Y.shape)"
      ],
      "execution_count": 49,
      "outputs": [
        {
          "output_type": "stream",
          "text": [
            "(17512, 1)\n"
          ],
          "name": "stdout"
        }
      ]
    },
    {
      "cell_type": "code",
      "metadata": {
        "id": "AMBKWfaCb8xM"
      },
      "source": [
        "from sklearn.metrics import mean_absolute_error"
      ],
      "execution_count": 25,
      "outputs": []
    },
    {
      "cell_type": "code",
      "metadata": {
        "id": "ONe-SY96cBP-"
      },
      "source": [
        "def MAPE(Y_actual,Y_Predicted):\n",
        "    mape = np.mean(np.abs((Y_actual - Y_Predicted)/Y_actual))*100\n",
        "    return mape"
      ],
      "execution_count": 26,
      "outputs": []
    },
    {
      "cell_type": "code",
      "metadata": {
        "id": "xMJsObC7kjcd"
      },
      "source": [
        "from sklearn.model_selection import train_test_split"
      ],
      "execution_count": 27,
      "outputs": []
    },
    {
      "cell_type": "code",
      "metadata": {
        "colab": {
          "base_uri": "https://localhost:8080/"
        },
        "id": "4fSyARFccDk2",
        "outputId": "b135ec09-ab51-443d-e083-04cc9778ee4d"
      },
      "source": [
        "X_train,X_test,Y_train,Y_test=train_test_split(X,Y,test_size=.05,random_state=42)\n",
        "print(X_test.shape)"
      ],
      "execution_count": 51,
      "outputs": [
        {
          "output_type": "stream",
          "text": [
            "(876, 15)\n"
          ],
          "name": "stdout"
        }
      ]
    },
    {
      "cell_type": "code",
      "metadata": {
        "id": "BdQ1auKxklyE"
      },
      "source": [
        "from tensorflow import keras\n",
        "from tensorflow.keras import layers\n",
        "from keras.models import Sequential\n",
        "from keras.layers import Dense\n",
        "\n",
        "model = keras.Sequential([layers.BatchNormalization(input_shape=[15]),\n",
        "    layers.Dense(1024, activation='relu', input_shape=[15]),\n",
        "    layers.Dropout(0.4),\n",
        "    layers.BatchNormalization(),\n",
        "    layers.Dense(1024, activation='relu'),\n",
        "    layers.Dropout(0.4),\n",
        "    layers.BatchNormalization(),\n",
        "    layers.Dense(1024, activation='relu'),\n",
        "    layers.Dropout(0.4),\n",
        "    layers.BatchNormalization(),\n",
        "    layers.Dense(1024, activation='relu'),\n",
        "    layers.Dropout(0.4),\n",
        "    layers.BatchNormalization(),\n",
        "    layers.Dense(1024, activation='relu'),\n",
        "    layers.Dropout(0.4),\n",
        "    layers.BatchNormalization(),\n",
        "    layers.Dense(1024, activation='relu'),\n",
        "    layers.Dropout(0.4),\n",
        "    layers.BatchNormalization(),\n",
        "    layers.Dense(1024, activation='relu'),\n",
        "    layers.Dropout(0.4),\n",
        "    layers.BatchNormalization(),\n",
        "    layers.Dense(1024, activation='relu'),\n",
        "    layers.Dropout(0.4),\n",
        "    layers.BatchNormalization(),\n",
        "    layers.Dense(1024, activation='relu'),\n",
        "    layers.Dropout(0.4),\n",
        "    layers.BatchNormalization(),\n",
        "    layers.Dense(1024, activation='relu'),\n",
        "    layers.Dropout(0.4),\n",
        "    layers.BatchNormalization(),\n",
        "    layers.Dense(1024, activation='relu'),\n",
        "    layers.Dropout(0.4),\n",
        "    layers.BatchNormalization(),\n",
        "    layers.Dense(1024, activation='relu'),\n",
        "    layers.Dropout(0.4),\n",
        "    layers.BatchNormalization(),\n",
        "    layers.Dense(1024, activation='relu'),\n",
        "    layers.Dropout(0.4),\n",
        "    layers.Dense(1),\n",
        "])\n"
      ],
      "execution_count": 33,
      "outputs": []
    },
    {
      "cell_type": "code",
      "metadata": {
        "id": "dp894s-Xk6aR"
      },
      "source": [
        "from tensorflow.keras.callbacks import EarlyStopping\n",
        "\n",
        "early_stopping = EarlyStopping(\n",
        "    min_delta=0.001, # minimium amount of change to count as an improvement\n",
        "    patience=20, # how many epochs to wait before stopping\n",
        "    restore_best_weights=True,\n",
        ")"
      ],
      "execution_count": 34,
      "outputs": []
    },
    {
      "cell_type": "code",
      "metadata": {
        "id": "TAIcWszpk-xB"
      },
      "source": [
        "model.compile(optimizer='adam',loss='mae')\n"
      ],
      "execution_count": 35,
      "outputs": []
    },
    {
      "cell_type": "code",
      "metadata": {
        "colab": {
          "base_uri": "https://localhost:8080/"
        },
        "id": "koN_RLKQlAGz",
        "outputId": "2dc3638f-0cea-45e2-afa7-2ef103c9b8cc"
      },
      "source": [
        "h=model.fit(X_train, Y_train,validation_split=0.2,batch_size=128,epochs=100,verbose=1,callbacks=[early_stopping])"
      ],
      "execution_count": 36,
      "outputs": [
        {
          "output_type": "stream",
          "text": [
            "Epoch 1/100\n",
            "104/104 [==============================] - 46s 409ms/step - loss: 8.2201 - val_loss: 10.3272\n",
            "Epoch 2/100\n",
            "104/104 [==============================] - 42s 403ms/step - loss: 5.2529 - val_loss: 7.8685\n",
            "Epoch 3/100\n",
            "104/104 [==============================] - 42s 401ms/step - loss: 5.0169 - val_loss: 5.7080\n",
            "Epoch 4/100\n",
            "104/104 [==============================] - 41s 396ms/step - loss: 4.8752 - val_loss: 4.6876\n",
            "Epoch 5/100\n",
            "104/104 [==============================] - 41s 397ms/step - loss: 4.8188 - val_loss: 5.4898\n",
            "Epoch 6/100\n",
            "104/104 [==============================] - 41s 397ms/step - loss: 4.7149 - val_loss: 5.1805\n",
            "Epoch 7/100\n",
            "104/104 [==============================] - 41s 396ms/step - loss: 4.6804 - val_loss: 4.5882\n",
            "Epoch 8/100\n",
            "104/104 [==============================] - 42s 408ms/step - loss: 4.6914 - val_loss: 5.0587\n",
            "Epoch 9/100\n",
            "104/104 [==============================] - 42s 404ms/step - loss: 4.5681 - val_loss: 4.7545\n",
            "Epoch 10/100\n",
            "104/104 [==============================] - 41s 392ms/step - loss: 4.5894 - val_loss: 4.9966\n",
            "Epoch 11/100\n",
            "104/104 [==============================] - 41s 396ms/step - loss: 4.5224 - val_loss: 4.6615\n",
            "Epoch 12/100\n",
            "104/104 [==============================] - 41s 399ms/step - loss: 4.5647 - val_loss: 4.6487\n",
            "Epoch 13/100\n",
            "104/104 [==============================] - 41s 397ms/step - loss: 4.5395 - val_loss: 4.8505\n",
            "Epoch 14/100\n",
            "104/104 [==============================] - 41s 394ms/step - loss: 4.5235 - val_loss: 4.7034\n",
            "Epoch 15/100\n",
            "104/104 [==============================] - 42s 402ms/step - loss: 4.5382 - val_loss: 4.5184\n",
            "Epoch 16/100\n",
            "104/104 [==============================] - 41s 397ms/step - loss: 4.4651 - val_loss: 4.4782\n",
            "Epoch 17/100\n",
            "104/104 [==============================] - 41s 398ms/step - loss: 4.4735 - val_loss: 4.6418\n",
            "Epoch 18/100\n",
            "104/104 [==============================] - 41s 394ms/step - loss: 4.4897 - val_loss: 4.4362\n",
            "Epoch 19/100\n",
            "104/104 [==============================] - 41s 394ms/step - loss: 4.5232 - val_loss: 4.8443\n",
            "Epoch 20/100\n",
            "104/104 [==============================] - 41s 395ms/step - loss: 4.4193 - val_loss: 4.4852\n",
            "Epoch 21/100\n",
            "104/104 [==============================] - 41s 398ms/step - loss: 4.4014 - val_loss: 4.4101\n",
            "Epoch 22/100\n",
            "104/104 [==============================] - 41s 395ms/step - loss: 4.4382 - val_loss: 4.3578\n",
            "Epoch 23/100\n",
            "104/104 [==============================] - 42s 403ms/step - loss: 4.3585 - val_loss: 4.8449\n",
            "Epoch 24/100\n",
            "104/104 [==============================] - 41s 395ms/step - loss: 4.4218 - val_loss: 4.3692\n",
            "Epoch 25/100\n",
            "104/104 [==============================] - 41s 395ms/step - loss: 4.4329 - val_loss: 4.4554\n",
            "Epoch 26/100\n",
            "104/104 [==============================] - 40s 390ms/step - loss: 4.4291 - val_loss: 4.4556\n",
            "Epoch 27/100\n",
            "104/104 [==============================] - 40s 389ms/step - loss: 4.3884 - val_loss: 4.3097\n",
            "Epoch 28/100\n",
            "104/104 [==============================] - 41s 392ms/step - loss: 4.3859 - val_loss: 4.2181\n",
            "Epoch 29/100\n",
            "104/104 [==============================] - 41s 390ms/step - loss: 4.3398 - val_loss: 4.2340\n",
            "Epoch 30/100\n",
            "104/104 [==============================] - 42s 403ms/step - loss: 4.3980 - val_loss: 4.3039\n",
            "Epoch 31/100\n",
            "104/104 [==============================] - 42s 403ms/step - loss: 4.3789 - val_loss: 4.2564\n",
            "Epoch 32/100\n",
            "104/104 [==============================] - 41s 397ms/step - loss: 4.3622 - val_loss: 4.2509\n",
            "Epoch 33/100\n",
            "104/104 [==============================] - 41s 397ms/step - loss: 4.3612 - val_loss: 4.2759\n",
            "Epoch 34/100\n",
            "104/104 [==============================] - 41s 399ms/step - loss: 4.4140 - val_loss: 4.2129\n",
            "Epoch 35/100\n",
            "104/104 [==============================] - 42s 403ms/step - loss: 4.3383 - val_loss: 4.2260\n",
            "Epoch 36/100\n",
            "104/104 [==============================] - 42s 403ms/step - loss: 4.3013 - val_loss: 4.2478\n",
            "Epoch 37/100\n",
            "104/104 [==============================] - 43s 412ms/step - loss: 4.3224 - val_loss: 4.4086\n",
            "Epoch 38/100\n",
            "104/104 [==============================] - 43s 410ms/step - loss: 4.4372 - val_loss: 4.5191\n",
            "Epoch 39/100\n",
            "104/104 [==============================] - 42s 405ms/step - loss: 4.3732 - val_loss: 4.5518\n",
            "Epoch 40/100\n",
            "104/104 [==============================] - 42s 405ms/step - loss: 4.3066 - val_loss: 4.4990\n",
            "Epoch 41/100\n",
            "104/104 [==============================] - 42s 404ms/step - loss: 4.3004 - val_loss: 4.4672\n",
            "Epoch 42/100\n",
            "104/104 [==============================] - 42s 404ms/step - loss: 4.3211 - val_loss: 4.3687\n",
            "Epoch 43/100\n",
            "104/104 [==============================] - 42s 403ms/step - loss: 4.3052 - val_loss: 4.1528\n",
            "Epoch 44/100\n",
            "104/104 [==============================] - 42s 407ms/step - loss: 4.2388 - val_loss: 4.3495\n",
            "Epoch 45/100\n",
            "104/104 [==============================] - 42s 402ms/step - loss: 4.2813 - val_loss: 4.2747\n",
            "Epoch 46/100\n",
            "104/104 [==============================] - 42s 406ms/step - loss: 4.3265 - val_loss: 4.6015\n",
            "Epoch 47/100\n",
            "104/104 [==============================] - 41s 399ms/step - loss: 4.3558 - val_loss: 4.4300\n",
            "Epoch 48/100\n",
            "104/104 [==============================] - 41s 396ms/step - loss: 4.2861 - val_loss: 4.2977\n",
            "Epoch 49/100\n",
            "104/104 [==============================] - 42s 400ms/step - loss: 4.2446 - val_loss: 4.2314\n",
            "Epoch 50/100\n",
            "104/104 [==============================] - 41s 399ms/step - loss: 4.2829 - val_loss: 4.2021\n",
            "Epoch 51/100\n",
            "104/104 [==============================] - 42s 400ms/step - loss: 4.1788 - val_loss: 4.1917\n",
            "Epoch 52/100\n",
            "104/104 [==============================] - 43s 409ms/step - loss: 4.2702 - val_loss: 4.4891\n",
            "Epoch 53/100\n",
            "104/104 [==============================] - 41s 398ms/step - loss: 4.2727 - val_loss: 4.5672\n",
            "Epoch 54/100\n",
            "104/104 [==============================] - 42s 401ms/step - loss: 4.2253 - val_loss: 4.2288\n",
            "Epoch 55/100\n",
            "104/104 [==============================] - 41s 396ms/step - loss: 4.3001 - val_loss: 4.4503\n",
            "Epoch 56/100\n",
            "104/104 [==============================] - 41s 396ms/step - loss: 4.2623 - val_loss: 4.4045\n",
            "Epoch 57/100\n",
            "104/104 [==============================] - 41s 396ms/step - loss: 4.2973 - val_loss: 4.2157\n",
            "Epoch 58/100\n",
            "104/104 [==============================] - 41s 398ms/step - loss: 4.3098 - val_loss: 4.2780\n",
            "Epoch 59/100\n",
            "104/104 [==============================] - 42s 401ms/step - loss: 4.2776 - val_loss: 4.4108\n",
            "Epoch 60/100\n",
            "104/104 [==============================] - 41s 396ms/step - loss: 4.2316 - val_loss: 4.1861\n",
            "Epoch 61/100\n",
            "104/104 [==============================] - 41s 397ms/step - loss: 4.1727 - val_loss: 4.3140\n",
            "Epoch 62/100\n",
            "104/104 [==============================] - 41s 393ms/step - loss: 4.2247 - val_loss: 4.2213\n",
            "Epoch 63/100\n",
            "104/104 [==============================] - 41s 391ms/step - loss: 4.2031 - val_loss: 4.2154\n"
          ],
          "name": "stdout"
        }
      ]
    },
    {
      "cell_type": "code",
      "metadata": {
        "colab": {
          "base_uri": "https://localhost:8080/",
          "height": 265
        },
        "id": "H-31BsGTpIdO",
        "outputId": "a857a5a0-3b6f-43c4-ff08-7a79425de211"
      },
      "source": [
        "import matplotlib.pyplot as plt\n",
        "%matplotlib inline\n",
        "\n",
        "ans=pd.DataFrame(h.history)\n",
        "ans.loc[:,['loss','val_loss']].plot();"
      ],
      "execution_count": 52,
      "outputs": [
        {
          "output_type": "display_data",
          "data": {
            "image/png": "[encoded data removed]",
            "text/plain": [
              "<Figure size 432x288 with 1 Axes>"
            ]
          },
          "metadata": {
            "tags": [],
            "needs_background": "light"
          }
        }
      ]
    },
    {
      "cell_type": "code",
      "metadata": {
        "colab": {
          "base_uri": "https://localhost:8080/"
        },
        "id": "qYtnogObp-9d",
        "outputId": "db145321-4312-4abe-c591-a4d2baf62f57"
      },
      "source": [
        "Predictions=model.predict(X_test)\n",
        "print(X_test.shape)"
      ],
      "execution_count": 53,
      "outputs": [
        {
          "output_type": "stream",
          "text": [
            "(876, 15)\n"
          ],
          "name": "stdout"
        }
      ]
    },
    {
      "cell_type": "code",
      "metadata": {
        "colab": {
          "base_uri": "https://localhost:8080/"
        },
        "id": "3MZ76-p1qsHY",
        "outputId": "a3b93ade-b4da-4820-83d9-0eead1052036"
      },
      "source": [
        "print(Predictions.shape)\n"
      ],
      "execution_count": 54,
      "outputs": [
        {
          "output_type": "stream",
          "text": [
            "(876, 1)\n"
          ],
          "name": "stdout"
        }
      ]
    },
    {
      "cell_type": "code",
      "metadata": {
        "colab": {
          "base_uri": "https://localhost:8080/"
        },
        "id": "JKOVcFeKqKu1",
        "outputId": "58a54344-e642-49fe-b108-e554e3579f9f"
      },
      "source": [
        "print(mean_absolute_error(Predictions,Y_test))\n"
      ],
      "execution_count": 55,
      "outputs": [
        {
          "output_type": "stream",
          "text": [
            "4.100439841888811\n"
          ],
          "name": "stdout"
        }
      ]
    },
    {
      "cell_type": "code",
      "metadata": {
        "colab": {
          "base_uri": "https://localhost:8080/"
        },
        "id": "dKMjY_NsqT-F",
        "outputId": "d20df71d-21ca-470d-86b3-79eb8d3e7950"
      },
      "source": [
        "print(MAPE(Y_test,Predictions))"
      ],
      "execution_count": 56,
      "outputs": [
        {
          "output_type": "stream",
          "text": [
            "42.36721743035423\n"
          ],
          "name": "stdout"
        }
      ]
    },
    {
      "cell_type": "code",
      "metadata": {
        "colab": {
          "base_uri": "https://localhost:8080/",
          "height": 266
        },
        "id": "5v6DhrpkcM5n",
        "outputId": "482e1378-06ba-4e33-8c1f-f7e3ee3a3dd4"
      },
      "source": [
        "plt.plot(Y_test,label='actual')\n",
        "plt.plot(Predictions,label='Predicted')\n",
        "plt.legend()\n",
        "plt.show()"
      ],
      "execution_count": 57,
      "outputs": [
        {
          "output_type": "display_data",
          "data": {
            "image/png": "[encoded data removed]",
            "text/plain": [
              "<Figure size 432x288 with 1 Axes>"
            ]
          },
          "metadata": {
            "tags": [],
            "needs_background": "light"
          }
        }
      ]
    }
  ]
}